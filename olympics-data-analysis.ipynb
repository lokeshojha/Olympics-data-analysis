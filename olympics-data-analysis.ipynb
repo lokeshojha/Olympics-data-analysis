{
 "cells": [
  {
   "cell_type": "code",
   "execution_count": 1,
   "id": "5fc740da",
   "metadata": {
    "_cell_guid": "b1076dfc-b9ad-4769-8c92-a6c4dae69d19",
    "_uuid": "8f2839f25d086af736a60e9eeb907d3b93b6e0e5",
    "execution": {
     "iopub.execute_input": "2021-10-03T10:57:00.358875Z",
     "iopub.status.busy": "2021-10-03T10:57:00.358196Z",
     "iopub.status.idle": "2021-10-03T10:57:00.375112Z",
     "shell.execute_reply": "2021-10-03T10:57:00.376125Z",
     "shell.execute_reply.started": "2021-10-03T08:02:35.061257Z"
    },
    "papermill": {
     "duration": 0.151013,
     "end_time": "2021-10-03T10:57:00.376595",
     "exception": false,
     "start_time": "2021-10-03T10:57:00.225582",
     "status": "completed"
    },
    "tags": []
   },
   "outputs": [
    {
     "name": "stdout",
     "output_type": "stream",
     "text": [
      "/kaggle/input/120-years-of-olympic-history-athletes-and-results/noc_regions.csv\n",
      "/kaggle/input/120-years-of-olympic-history-athletes-and-results/athlete_events.csv\n"
     ]
    }
   ],
   "source": [
    "# This Python 3 environment comes with many helpful analytics libraries installed\n",
    "# It is defined by the kaggle/python Docker image: https://github.com/kaggle/docker-python\n",
    "# For example, here's several helpful packages to load\n",
    "\n",
    "import numpy as np # linear algebra\n",
    "import pandas as pd # data processing, CSV file I/O (e.g. pd.read_csv)\n",
    "\n",
    "# Input data files are available in the read-only \"../input/\" directory\n",
    "# For example, running this (by clicking run or pressing Shift+Enter) will list all files under the input directory\n",
    "\n",
    "import os\n",
    "for dirname, _, filenames in os.walk('/kaggle/input'):\n",
    "    for filename in filenames:\n",
    "        print(os.path.join(dirname, filename))\n",
    "\n",
    "# You can write up to 20GB to the current directory (/kaggle/working/) that gets preserved as output when you create a version using \"Save & Run All\" \n",
    "# You can also write temporary files to /kaggle/temp/, but they won't be saved outside of the current session"
   ]
  },
  {
   "cell_type": "code",
   "execution_count": 2,
   "id": "d19f56bc",
   "metadata": {
    "execution": {
     "iopub.execute_input": "2021-10-03T10:57:00.644712Z",
     "iopub.status.busy": "2021-10-03T10:57:00.643940Z",
     "iopub.status.idle": "2021-10-03T10:57:01.796262Z",
     "shell.execute_reply": "2021-10-03T10:57:01.795737Z",
     "shell.execute_reply.started": "2021-10-03T08:02:35.077211Z"
    },
    "papermill": {
     "duration": 1.286074,
     "end_time": "2021-10-03T10:57:01.796424",
     "exception": false,
     "start_time": "2021-10-03T10:57:00.510350",
     "status": "completed"
    },
    "tags": []
   },
   "outputs": [],
   "source": [
    "region_df= pd.read_csv('/kaggle/input/120-years-of-olympic-history-athletes-and-results/noc_regions.csv')\n",
    "df = pd.read_csv('/kaggle/input/120-years-of-olympic-history-athletes-and-results/athlete_events.csv')"
   ]
  },
  {
   "cell_type": "code",
   "execution_count": 3,
   "id": "93f185c8",
   "metadata": {
    "execution": {
     "iopub.execute_input": "2021-10-03T10:57:02.047325Z",
     "iopub.status.busy": "2021-10-03T10:57:02.046677Z",
     "iopub.status.idle": "2021-10-03T10:57:02.083568Z",
     "shell.execute_reply": "2021-10-03T10:57:02.084053Z",
     "shell.execute_reply.started": "2021-10-03T08:02:36.079695Z"
    },
    "papermill": {
     "duration": 0.164258,
     "end_time": "2021-10-03T10:57:02.084228",
     "exception": false,
     "start_time": "2021-10-03T10:57:01.919970",
     "status": "completed"
    },
    "tags": []
   },
   "outputs": [
    {
     "data": {
      "text/html": [
       "<div>\n",
       "<style scoped>\n",
       "    .dataframe tbody tr th:only-of-type {\n",
       "        vertical-align: middle;\n",
       "    }\n",
       "\n",
       "    .dataframe tbody tr th {\n",
       "        vertical-align: top;\n",
       "    }\n",
       "\n",
       "    .dataframe thead th {\n",
       "        text-align: right;\n",
       "    }\n",
       "</style>\n",
       "<table border=\"1\" class=\"dataframe\">\n",
       "  <thead>\n",
       "    <tr style=\"text-align: right;\">\n",
       "      <th></th>\n",
       "      <th>ID</th>\n",
       "      <th>Name</th>\n",
       "      <th>Sex</th>\n",
       "      <th>Age</th>\n",
       "      <th>Height</th>\n",
       "      <th>Weight</th>\n",
       "      <th>Team</th>\n",
       "      <th>NOC</th>\n",
       "      <th>Games</th>\n",
       "      <th>Year</th>\n",
       "      <th>Season</th>\n",
       "      <th>City</th>\n",
       "      <th>Sport</th>\n",
       "      <th>Event</th>\n",
       "      <th>Medal</th>\n",
       "    </tr>\n",
       "  </thead>\n",
       "  <tbody>\n",
       "    <tr>\n",
       "      <th>124121</th>\n",
       "      <td>62691</td>\n",
       "      <td>Nora Edith Kppel</td>\n",
       "      <td>F</td>\n",
       "      <td>32.0</td>\n",
       "      <td>175.0</td>\n",
       "      <td>67.5</td>\n",
       "      <td>Argentina</td>\n",
       "      <td>ARG</td>\n",
       "      <td>2004 Summer</td>\n",
       "      <td>2004</td>\n",
       "      <td>Summer</td>\n",
       "      <td>Athina</td>\n",
       "      <td>Weightlifting</td>\n",
       "      <td>Weightlifting Women's Heavyweight</td>\n",
       "      <td>NaN</td>\n",
       "    </tr>\n",
       "    <tr>\n",
       "      <th>118361</th>\n",
       "      <td>59876</td>\n",
       "      <td>Kim Gi-Hun</td>\n",
       "      <td>M</td>\n",
       "      <td>24.0</td>\n",
       "      <td>172.0</td>\n",
       "      <td>63.0</td>\n",
       "      <td>South Korea</td>\n",
       "      <td>KOR</td>\n",
       "      <td>1992 Winter</td>\n",
       "      <td>1992</td>\n",
       "      <td>Winter</td>\n",
       "      <td>Albertville</td>\n",
       "      <td>Short Track Speed Skating</td>\n",
       "      <td>Short Track Speed Skating Men's 5,000 metres R...</td>\n",
       "      <td>Gold</td>\n",
       "    </tr>\n",
       "    <tr>\n",
       "      <th>215660</th>\n",
       "      <td>108271</td>\n",
       "      <td>Ginette Seguin</td>\n",
       "      <td>F</td>\n",
       "      <td>21.0</td>\n",
       "      <td>NaN</td>\n",
       "      <td>NaN</td>\n",
       "      <td>Canada</td>\n",
       "      <td>CAN</td>\n",
       "      <td>1956 Winter</td>\n",
       "      <td>1956</td>\n",
       "      <td>Winter</td>\n",
       "      <td>Cortina d'Ampezzo</td>\n",
       "      <td>Alpine Skiing</td>\n",
       "      <td>Alpine Skiing Women's Slalom</td>\n",
       "      <td>NaN</td>\n",
       "    </tr>\n",
       "    <tr>\n",
       "      <th>5282</th>\n",
       "      <td>2989</td>\n",
       "      <td>Gustav Adolf \"Gsta\" Almgren</td>\n",
       "      <td>M</td>\n",
       "      <td>29.0</td>\n",
       "      <td>NaN</td>\n",
       "      <td>NaN</td>\n",
       "      <td>Sweden</td>\n",
       "      <td>SWE</td>\n",
       "      <td>1936 Summer</td>\n",
       "      <td>1936</td>\n",
       "      <td>Summer</td>\n",
       "      <td>Berlin</td>\n",
       "      <td>Fencing</td>\n",
       "      <td>Fencing Men's epee, Team</td>\n",
       "      <td>Silver</td>\n",
       "    </tr>\n",
       "    <tr>\n",
       "      <th>57438</th>\n",
       "      <td>29429</td>\n",
       "      <td>Landon Timothy Donovan</td>\n",
       "      <td>M</td>\n",
       "      <td>18.0</td>\n",
       "      <td>172.0</td>\n",
       "      <td>68.0</td>\n",
       "      <td>United States</td>\n",
       "      <td>USA</td>\n",
       "      <td>2000 Summer</td>\n",
       "      <td>2000</td>\n",
       "      <td>Summer</td>\n",
       "      <td>Sydney</td>\n",
       "      <td>Football</td>\n",
       "      <td>Football Men's Football</td>\n",
       "      <td>NaN</td>\n",
       "    </tr>\n",
       "    <tr>\n",
       "      <th>68485</th>\n",
       "      <td>34964</td>\n",
       "      <td>Roberto Ferraris</td>\n",
       "      <td>M</td>\n",
       "      <td>20.0</td>\n",
       "      <td>184.0</td>\n",
       "      <td>68.0</td>\n",
       "      <td>Italy</td>\n",
       "      <td>ITA</td>\n",
       "      <td>1972 Summer</td>\n",
       "      <td>1972</td>\n",
       "      <td>Summer</td>\n",
       "      <td>Munich</td>\n",
       "      <td>Shooting</td>\n",
       "      <td>Shooting Mixed Rapid-Fire Pistol, 25 metres</td>\n",
       "      <td>NaN</td>\n",
       "    </tr>\n",
       "  </tbody>\n",
       "</table>\n",
       "</div>"
      ],
      "text/plain": [
       "            ID                         Name Sex   Age  Height  Weight  \\\n",
       "124121   62691             Nora Edith Kppel   F  32.0   175.0    67.5   \n",
       "118361   59876                   Kim Gi-Hun   M  24.0   172.0    63.0   \n",
       "215660  108271               Ginette Seguin   F  21.0     NaN     NaN   \n",
       "5282      2989  Gustav Adolf \"Gsta\" Almgren   M  29.0     NaN     NaN   \n",
       "57438    29429       Landon Timothy Donovan   M  18.0   172.0    68.0   \n",
       "68485    34964             Roberto Ferraris   M  20.0   184.0    68.0   \n",
       "\n",
       "                 Team  NOC        Games  Year  Season               City  \\\n",
       "124121      Argentina  ARG  2004 Summer  2004  Summer             Athina   \n",
       "118361    South Korea  KOR  1992 Winter  1992  Winter        Albertville   \n",
       "215660         Canada  CAN  1956 Winter  1956  Winter  Cortina d'Ampezzo   \n",
       "5282           Sweden  SWE  1936 Summer  1936  Summer             Berlin   \n",
       "57438   United States  USA  2000 Summer  2000  Summer             Sydney   \n",
       "68485           Italy  ITA  1972 Summer  1972  Summer             Munich   \n",
       "\n",
       "                            Sport  \\\n",
       "124121              Weightlifting   \n",
       "118361  Short Track Speed Skating   \n",
       "215660              Alpine Skiing   \n",
       "5282                      Fencing   \n",
       "57438                    Football   \n",
       "68485                    Shooting   \n",
       "\n",
       "                                                    Event   Medal  \n",
       "124121                  Weightlifting Women's Heavyweight     NaN  \n",
       "118361  Short Track Speed Skating Men's 5,000 metres R...    Gold  \n",
       "215660                       Alpine Skiing Women's Slalom     NaN  \n",
       "5282                             Fencing Men's epee, Team  Silver  \n",
       "57438                             Football Men's Football     NaN  \n",
       "68485         Shooting Mixed Rapid-Fire Pistol, 25 metres     NaN  "
      ]
     },
     "execution_count": 3,
     "metadata": {},
     "output_type": "execute_result"
    }
   ],
   "source": [
    "df.sample(6)"
   ]
  },
  {
   "cell_type": "code",
   "execution_count": 4,
   "id": "9dc350ca",
   "metadata": {
    "execution": {
     "iopub.execute_input": "2021-10-03T10:57:02.337560Z",
     "iopub.status.busy": "2021-10-03T10:57:02.336893Z",
     "iopub.status.idle": "2021-10-03T10:57:02.787259Z",
     "shell.execute_reply": "2021-10-03T10:57:02.787774Z",
     "shell.execute_reply.started": "2021-10-03T08:02:36.116615Z"
    },
    "papermill": {
     "duration": 0.581271,
     "end_time": "2021-10-03T10:57:02.787946",
     "exception": false,
     "start_time": "2021-10-03T10:57:02.206675",
     "status": "completed"
    },
    "tags": []
   },
   "outputs": [
    {
     "data": {
      "text/html": [
       "<div>\n",
       "<style scoped>\n",
       "    .dataframe tbody tr th:only-of-type {\n",
       "        vertical-align: middle;\n",
       "    }\n",
       "\n",
       "    .dataframe tbody tr th {\n",
       "        vertical-align: top;\n",
       "    }\n",
       "\n",
       "    .dataframe thead th {\n",
       "        text-align: right;\n",
       "    }\n",
       "</style>\n",
       "<table border=\"1\" class=\"dataframe\">\n",
       "  <thead>\n",
       "    <tr style=\"text-align: right;\">\n",
       "      <th></th>\n",
       "      <th>ID</th>\n",
       "      <th>Name</th>\n",
       "      <th>Sex</th>\n",
       "      <th>Age</th>\n",
       "      <th>Height</th>\n",
       "      <th>Weight</th>\n",
       "      <th>Team</th>\n",
       "      <th>NOC</th>\n",
       "      <th>Games</th>\n",
       "      <th>Year</th>\n",
       "      <th>Season</th>\n",
       "      <th>City</th>\n",
       "      <th>Sport</th>\n",
       "      <th>Event</th>\n",
       "      <th>Medal</th>\n",
       "    </tr>\n",
       "  </thead>\n",
       "  <tbody>\n",
       "    <tr>\n",
       "      <th>1252</th>\n",
       "      <td>704</td>\n",
       "      <td>Dsir Antoine Acket</td>\n",
       "      <td>M</td>\n",
       "      <td>27.0</td>\n",
       "      <td>NaN</td>\n",
       "      <td>NaN</td>\n",
       "      <td>Belgium</td>\n",
       "      <td>BEL</td>\n",
       "      <td>1932 Summer</td>\n",
       "      <td>1932</td>\n",
       "      <td>Summer</td>\n",
       "      <td>Los Angeles</td>\n",
       "      <td>Art Competitions</td>\n",
       "      <td>Art Competitions Mixed Painting, Unknown Event</td>\n",
       "      <td>NaN</td>\n",
       "    </tr>\n",
       "    <tr>\n",
       "      <th>4282</th>\n",
       "      <td>2449</td>\n",
       "      <td>William Truman Aldrich</td>\n",
       "      <td>M</td>\n",
       "      <td>48.0</td>\n",
       "      <td>NaN</td>\n",
       "      <td>NaN</td>\n",
       "      <td>United States</td>\n",
       "      <td>USA</td>\n",
       "      <td>1928 Summer</td>\n",
       "      <td>1928</td>\n",
       "      <td>Summer</td>\n",
       "      <td>Amsterdam</td>\n",
       "      <td>Art Competitions</td>\n",
       "      <td>Art Competitions Mixed Painting, Drawings And ...</td>\n",
       "      <td>NaN</td>\n",
       "    </tr>\n",
       "    <tr>\n",
       "      <th>4283</th>\n",
       "      <td>2449</td>\n",
       "      <td>William Truman Aldrich</td>\n",
       "      <td>M</td>\n",
       "      <td>48.0</td>\n",
       "      <td>NaN</td>\n",
       "      <td>NaN</td>\n",
       "      <td>United States</td>\n",
       "      <td>USA</td>\n",
       "      <td>1928 Summer</td>\n",
       "      <td>1928</td>\n",
       "      <td>Summer</td>\n",
       "      <td>Amsterdam</td>\n",
       "      <td>Art Competitions</td>\n",
       "      <td>Art Competitions Mixed Painting, Drawings And ...</td>\n",
       "      <td>NaN</td>\n",
       "    </tr>\n",
       "    <tr>\n",
       "      <th>4862</th>\n",
       "      <td>2777</td>\n",
       "      <td>Hermann Reinhard Alker</td>\n",
       "      <td>M</td>\n",
       "      <td>43.0</td>\n",
       "      <td>NaN</td>\n",
       "      <td>NaN</td>\n",
       "      <td>Germany</td>\n",
       "      <td>GER</td>\n",
       "      <td>1928 Summer</td>\n",
       "      <td>1928</td>\n",
       "      <td>Summer</td>\n",
       "      <td>Amsterdam</td>\n",
       "      <td>Art Competitions</td>\n",
       "      <td>Art Competitions Mixed Architecture, Designs F...</td>\n",
       "      <td>NaN</td>\n",
       "    </tr>\n",
       "    <tr>\n",
       "      <th>4864</th>\n",
       "      <td>2777</td>\n",
       "      <td>Hermann Reinhard Alker</td>\n",
       "      <td>M</td>\n",
       "      <td>43.0</td>\n",
       "      <td>NaN</td>\n",
       "      <td>NaN</td>\n",
       "      <td>Germany</td>\n",
       "      <td>GER</td>\n",
       "      <td>1928 Summer</td>\n",
       "      <td>1928</td>\n",
       "      <td>Summer</td>\n",
       "      <td>Amsterdam</td>\n",
       "      <td>Art Competitions</td>\n",
       "      <td>Art Competitions Mixed Architecture, Architect...</td>\n",
       "      <td>NaN</td>\n",
       "    </tr>\n",
       "    <tr>\n",
       "      <th>...</th>\n",
       "      <td>...</td>\n",
       "      <td>...</td>\n",
       "      <td>...</td>\n",
       "      <td>...</td>\n",
       "      <td>...</td>\n",
       "      <td>...</td>\n",
       "      <td>...</td>\n",
       "      <td>...</td>\n",
       "      <td>...</td>\n",
       "      <td>...</td>\n",
       "      <td>...</td>\n",
       "      <td>...</td>\n",
       "      <td>...</td>\n",
       "      <td>...</td>\n",
       "      <td>...</td>\n",
       "    </tr>\n",
       "    <tr>\n",
       "      <th>269994</th>\n",
       "      <td>135072</td>\n",
       "      <td>Anna Katrina Zinkeisen (-Heseltine)</td>\n",
       "      <td>F</td>\n",
       "      <td>46.0</td>\n",
       "      <td>NaN</td>\n",
       "      <td>NaN</td>\n",
       "      <td>Great Britain</td>\n",
       "      <td>GBR</td>\n",
       "      <td>1948 Summer</td>\n",
       "      <td>1948</td>\n",
       "      <td>Summer</td>\n",
       "      <td>London</td>\n",
       "      <td>Art Competitions</td>\n",
       "      <td>Art Competitions Mixed Painting, Paintings</td>\n",
       "      <td>NaN</td>\n",
       "    </tr>\n",
       "    <tr>\n",
       "      <th>269995</th>\n",
       "      <td>135072</td>\n",
       "      <td>Anna Katrina Zinkeisen (-Heseltine)</td>\n",
       "      <td>F</td>\n",
       "      <td>46.0</td>\n",
       "      <td>NaN</td>\n",
       "      <td>NaN</td>\n",
       "      <td>Great Britain</td>\n",
       "      <td>GBR</td>\n",
       "      <td>1948 Summer</td>\n",
       "      <td>1948</td>\n",
       "      <td>Summer</td>\n",
       "      <td>London</td>\n",
       "      <td>Art Competitions</td>\n",
       "      <td>Art Competitions Mixed Painting, Paintings</td>\n",
       "      <td>NaN</td>\n",
       "    </tr>\n",
       "    <tr>\n",
       "      <th>269997</th>\n",
       "      <td>135072</td>\n",
       "      <td>Anna Katrina Zinkeisen (-Heseltine)</td>\n",
       "      <td>F</td>\n",
       "      <td>46.0</td>\n",
       "      <td>NaN</td>\n",
       "      <td>NaN</td>\n",
       "      <td>Great Britain</td>\n",
       "      <td>GBR</td>\n",
       "      <td>1948 Summer</td>\n",
       "      <td>1948</td>\n",
       "      <td>Summer</td>\n",
       "      <td>London</td>\n",
       "      <td>Art Competitions</td>\n",
       "      <td>Art Competitions Mixed Painting, Unknown Event</td>\n",
       "      <td>NaN</td>\n",
       "    </tr>\n",
       "    <tr>\n",
       "      <th>269999</th>\n",
       "      <td>135073</td>\n",
       "      <td>Doris Clare Zinkeisen (-Johnstone)</td>\n",
       "      <td>F</td>\n",
       "      <td>49.0</td>\n",
       "      <td>NaN</td>\n",
       "      <td>NaN</td>\n",
       "      <td>Great Britain</td>\n",
       "      <td>GBR</td>\n",
       "      <td>1948 Summer</td>\n",
       "      <td>1948</td>\n",
       "      <td>Summer</td>\n",
       "      <td>London</td>\n",
       "      <td>Art Competitions</td>\n",
       "      <td>Art Competitions Mixed Painting, Unknown Event</td>\n",
       "      <td>NaN</td>\n",
       "    </tr>\n",
       "    <tr>\n",
       "      <th>270200</th>\n",
       "      <td>135173</td>\n",
       "      <td>Henri Achille Zo</td>\n",
       "      <td>M</td>\n",
       "      <td>58.0</td>\n",
       "      <td>NaN</td>\n",
       "      <td>NaN</td>\n",
       "      <td>France</td>\n",
       "      <td>FRA</td>\n",
       "      <td>1932 Summer</td>\n",
       "      <td>1932</td>\n",
       "      <td>Summer</td>\n",
       "      <td>Los Angeles</td>\n",
       "      <td>Art Competitions</td>\n",
       "      <td>Art Competitions Mixed Painting, Unknown Event</td>\n",
       "      <td>NaN</td>\n",
       "    </tr>\n",
       "  </tbody>\n",
       "</table>\n",
       "<p>1385 rows × 15 columns</p>\n",
       "</div>"
      ],
      "text/plain": [
       "            ID                                 Name Sex   Age  Height  Weight  \\\n",
       "1252       704                   Dsir Antoine Acket   M  27.0     NaN     NaN   \n",
       "4282      2449               William Truman Aldrich   M  48.0     NaN     NaN   \n",
       "4283      2449               William Truman Aldrich   M  48.0     NaN     NaN   \n",
       "4862      2777               Hermann Reinhard Alker   M  43.0     NaN     NaN   \n",
       "4864      2777               Hermann Reinhard Alker   M  43.0     NaN     NaN   \n",
       "...        ...                                  ...  ..   ...     ...     ...   \n",
       "269994  135072  Anna Katrina Zinkeisen (-Heseltine)   F  46.0     NaN     NaN   \n",
       "269995  135072  Anna Katrina Zinkeisen (-Heseltine)   F  46.0     NaN     NaN   \n",
       "269997  135072  Anna Katrina Zinkeisen (-Heseltine)   F  46.0     NaN     NaN   \n",
       "269999  135073   Doris Clare Zinkeisen (-Johnstone)   F  49.0     NaN     NaN   \n",
       "270200  135173                     Henri Achille Zo   M  58.0     NaN     NaN   \n",
       "\n",
       "                 Team  NOC        Games  Year  Season         City  \\\n",
       "1252          Belgium  BEL  1932 Summer  1932  Summer  Los Angeles   \n",
       "4282    United States  USA  1928 Summer  1928  Summer    Amsterdam   \n",
       "4283    United States  USA  1928 Summer  1928  Summer    Amsterdam   \n",
       "4862          Germany  GER  1928 Summer  1928  Summer    Amsterdam   \n",
       "4864          Germany  GER  1928 Summer  1928  Summer    Amsterdam   \n",
       "...               ...  ...          ...   ...     ...          ...   \n",
       "269994  Great Britain  GBR  1948 Summer  1948  Summer       London   \n",
       "269995  Great Britain  GBR  1948 Summer  1948  Summer       London   \n",
       "269997  Great Britain  GBR  1948 Summer  1948  Summer       London   \n",
       "269999  Great Britain  GBR  1948 Summer  1948  Summer       London   \n",
       "270200         France  FRA  1932 Summer  1932  Summer  Los Angeles   \n",
       "\n",
       "                   Sport                                              Event  \\\n",
       "1252    Art Competitions     Art Competitions Mixed Painting, Unknown Event   \n",
       "4282    Art Competitions  Art Competitions Mixed Painting, Drawings And ...   \n",
       "4283    Art Competitions  Art Competitions Mixed Painting, Drawings And ...   \n",
       "4862    Art Competitions  Art Competitions Mixed Architecture, Designs F...   \n",
       "4864    Art Competitions  Art Competitions Mixed Architecture, Architect...   \n",
       "...                  ...                                                ...   \n",
       "269994  Art Competitions         Art Competitions Mixed Painting, Paintings   \n",
       "269995  Art Competitions         Art Competitions Mixed Painting, Paintings   \n",
       "269997  Art Competitions     Art Competitions Mixed Painting, Unknown Event   \n",
       "269999  Art Competitions     Art Competitions Mixed Painting, Unknown Event   \n",
       "270200  Art Competitions     Art Competitions Mixed Painting, Unknown Event   \n",
       "\n",
       "       Medal  \n",
       "1252     NaN  \n",
       "4282     NaN  \n",
       "4283     NaN  \n",
       "4862     NaN  \n",
       "4864     NaN  \n",
       "...      ...  \n",
       "269994   NaN  \n",
       "269995   NaN  \n",
       "269997   NaN  \n",
       "269999   NaN  \n",
       "270200   NaN  \n",
       "\n",
       "[1385 rows x 15 columns]"
      ]
     },
     "execution_count": 4,
     "metadata": {},
     "output_type": "execute_result"
    }
   ],
   "source": [
    "df[df.duplicated()]"
   ]
  },
  {
   "cell_type": "code",
   "execution_count": null,
   "id": "c6dd05ec",
   "metadata": {
    "papermill": {
     "duration": 0.125991,
     "end_time": "2021-10-03T10:57:03.039813",
     "exception": false,
     "start_time": "2021-10-03T10:57:02.913822",
     "status": "completed"
    },
    "tags": []
   },
   "outputs": [],
   "source": []
  },
  {
   "cell_type": "markdown",
   "id": "53510a4e",
   "metadata": {
    "papermill": {
     "duration": 0.122795,
     "end_time": "2021-10-03T10:57:03.285744",
     "exception": false,
     "start_time": "2021-10-03T10:57:03.162949",
     "status": "completed"
    },
    "tags": []
   },
   "source": [
    "# top 5 gold medalits "
   ]
  },
  {
   "cell_type": "code",
   "execution_count": 5,
   "id": "6aa74ec6",
   "metadata": {
    "execution": {
     "iopub.execute_input": "2021-10-03T10:57:03.553794Z",
     "iopub.status.busy": "2021-10-03T10:57:03.537233Z",
     "iopub.status.idle": "2021-10-03T10:57:03.590420Z",
     "shell.execute_reply": "2021-10-03T10:57:03.589851Z",
     "shell.execute_reply.started": "2021-10-03T08:02:36.481744Z"
    },
    "papermill": {
     "duration": 0.180548,
     "end_time": "2021-10-03T10:57:03.590563",
     "exception": false,
     "start_time": "2021-10-03T10:57:03.410015",
     "status": "completed"
    },
    "tags": []
   },
   "outputs": [
    {
     "data": {
      "text/plain": [
       "Name\n",
       "Michael Fred Phelps, II               23\n",
       "Raymond Clarence \"Ray\" Ewry           10\n",
       "Paavo Johannes Nurmi                   9\n",
       "Larysa Semenivna Latynina (Diriy-)     9\n",
       "Mark Andrew Spitz                      9\n",
       "                                      ..\n",
       "Hermann \"Hannes\" Hansen                1\n",
       "Hermann Alexandre de Pourtals          1\n",
       "Hermann Gehri                          1\n",
       "Hermann Joseph Barrelet                1\n",
       "ystein Pettersen                       1\n",
       "Name: Medal, Length: 10413, dtype: int64"
      ]
     },
     "execution_count": 5,
     "metadata": {},
     "output_type": "execute_result"
    }
   ],
   "source": [
    "temp_df= df[df['Medal']=='Gold']\n",
    "groups= temp_df.groupby(['Name'])\n",
    "groups['Medal'].count().sort_values(ascending=False)\n"
   ]
  },
  {
   "cell_type": "markdown",
   "id": "241c773c",
   "metadata": {
    "execution": {
     "iopub.execute_input": "2021-09-24T06:42:51.34665Z",
     "iopub.status.busy": "2021-09-24T06:42:51.346296Z",
     "iopub.status.idle": "2021-09-24T06:42:51.350957Z",
     "shell.execute_reply": "2021-09-24T06:42:51.350034Z",
     "shell.execute_reply.started": "2021-09-24T06:42:51.346618Z"
    },
    "papermill": {
     "duration": 0.123261,
     "end_time": "2021-10-03T10:57:03.837162",
     "exception": false,
     "start_time": "2021-10-03T10:57:03.713901",
     "status": "completed"
    },
    "tags": []
   },
   "source": [
    "# top 5 countries with most gold"
   ]
  },
  {
   "cell_type": "code",
   "execution_count": 6,
   "id": "493d8e52",
   "metadata": {
    "execution": {
     "iopub.execute_input": "2021-10-03T10:57:04.109428Z",
     "iopub.status.busy": "2021-10-03T10:57:04.108749Z",
     "iopub.status.idle": "2021-10-03T10:57:04.125650Z",
     "shell.execute_reply": "2021-10-03T10:57:04.126154Z",
     "shell.execute_reply.started": "2021-10-03T08:02:36.521927Z"
    },
    "papermill": {
     "duration": 0.16328,
     "end_time": "2021-10-03T10:57:04.126338",
     "exception": false,
     "start_time": "2021-10-03T10:57:03.963058",
     "status": "completed"
    },
    "tags": []
   },
   "outputs": [
    {
     "data": {
      "text/plain": [
       "NOC\n",
       "USA    2638\n",
       "URS    1082\n",
       "GER     745\n",
       "GBR     678\n",
       "ITA     575\n",
       "       ... \n",
       "PAN       1\n",
       "PER       1\n",
       "SGP       1\n",
       "PUR       1\n",
       "JOR       1\n",
       "Name: Medal, Length: 109, dtype: int64"
      ]
     },
     "execution_count": 6,
     "metadata": {},
     "output_type": "execute_result"
    }
   ],
   "source": [
    "temp=df[df['Medal']=='Gold'].groupby('NOC')\n",
    "temp['Medal'].count().sort_values(ascending=False)"
   ]
  },
  {
   "cell_type": "code",
   "execution_count": 7,
   "id": "27943243",
   "metadata": {
    "execution": {
     "iopub.execute_input": "2021-10-03T10:57:04.378935Z",
     "iopub.status.busy": "2021-10-03T10:57:04.378252Z",
     "iopub.status.idle": "2021-10-03T10:57:04.409345Z",
     "shell.execute_reply": "2021-10-03T10:57:04.409840Z",
     "shell.execute_reply.started": "2021-10-03T08:02:36.549376Z"
    },
    "papermill": {
     "duration": 0.158067,
     "end_time": "2021-10-03T10:57:04.410011",
     "exception": false,
     "start_time": "2021-10-03T10:57:04.251944",
     "status": "completed"
    },
    "tags": []
   },
   "outputs": [
    {
     "data": {
      "text/plain": [
       "array(['Basketball', 'Judo', 'Football', 'Tug-Of-War', 'Speed Skating',\n",
       "       'Cross Country Skiing', 'Athletics', 'Ice Hockey', 'Swimming',\n",
       "       'Badminton', 'Sailing', 'Biathlon', 'Gymnastics',\n",
       "       'Art Competitions', 'Alpine Skiing', 'Handball', 'Weightlifting',\n",
       "       'Wrestling', 'Luge', 'Water Polo', 'Hockey', 'Rowing', 'Bobsleigh',\n",
       "       'Fencing', 'Equestrianism', 'Shooting', 'Boxing', 'Taekwondo',\n",
       "       'Cycling', 'Diving', 'Canoeing', 'Tennis', 'Modern Pentathlon',\n",
       "       'Figure Skating', 'Golf', 'Softball', 'Archery', 'Volleyball',\n",
       "       'Synchronized Swimming', 'Table Tennis', 'Nordic Combined',\n",
       "       'Baseball', 'Rhythmic Gymnastics', 'Freestyle Skiing',\n",
       "       'Rugby Sevens', 'Trampolining', 'Beach Volleyball', 'Triathlon',\n",
       "       'Ski Jumping', 'Curling', 'Snowboarding', 'Rugby',\n",
       "       'Short Track Speed Skating', 'Skeleton', 'Lacrosse', 'Polo',\n",
       "       'Cricket', 'Racquets', 'Motorboating', 'Military Ski Patrol',\n",
       "       'Croquet', 'Jeu De Paume', 'Roque', 'Alpinism', 'Basque Pelota',\n",
       "       'Aeronautics'], dtype=object)"
      ]
     },
     "execution_count": 7,
     "metadata": {},
     "output_type": "execute_result"
    }
   ],
   "source": [
    "df['Sport'].unique()"
   ]
  },
  {
   "cell_type": "code",
   "execution_count": 8,
   "id": "2985a831",
   "metadata": {
    "execution": {
     "iopub.execute_input": "2021-10-03T10:57:04.662866Z",
     "iopub.status.busy": "2021-10-03T10:57:04.662197Z",
     "iopub.status.idle": "2021-10-03T10:57:04.778091Z",
     "shell.execute_reply": "2021-10-03T10:57:04.777574Z",
     "shell.execute_reply.started": "2021-10-03T08:02:36.581061Z"
    },
    "papermill": {
     "duration": 0.243803,
     "end_time": "2021-10-03T10:57:04.778250",
     "exception": false,
     "start_time": "2021-10-03T10:57:04.534447",
     "status": "completed"
    },
    "tags": []
   },
   "outputs": [
    {
     "data": {
      "text/plain": [
       "Sport             Event                                            \n",
       "Football          Football Men's Football                              1269\n",
       "Ice Hockey        Ice Hockey Men's Ice Hockey                          1230\n",
       "Hockey            Hockey Men's Hockey                                  1050\n",
       "Water Polo        Water Polo Men's Water Polo                           866\n",
       "Rowing            Rowing Men's Coxed Eights                             730\n",
       "                                                                       ... \n",
       "Art Competitions  Art Competitions Mixed Literature, Unknown Event        0\n",
       "                  Art Competitions Mixed Painting, Unknown Event          0\n",
       "                  Art Competitions Mixed Sculpturing, Unknown Event       0\n",
       "                  Art Competitions Mixed Unknown Event                    0\n",
       "                  Art Competitions Mixed Music, Unknown Event             0\n",
       "Name: Medal, Length: 765, dtype: int64"
      ]
     },
     "execution_count": 8,
     "metadata": {},
     "output_type": "execute_result"
    }
   ],
   "source": [
    "groups=df.groupby(['Sport','Event'])\n",
    "groups['Medal'].count().sort_values(ascending=False)"
   ]
  },
  {
   "cell_type": "markdown",
   "id": "1ee02231",
   "metadata": {
    "papermill": {
     "duration": 0.125464,
     "end_time": "2021-10-03T10:57:05.029877",
     "exception": false,
     "start_time": "2021-10-03T10:57:04.904413",
     "status": "completed"
    },
    "tags": []
   },
   "source": []
  },
  {
   "cell_type": "code",
   "execution_count": 9,
   "id": "e5eef114",
   "metadata": {
    "execution": {
     "iopub.execute_input": "2021-10-03T10:57:05.353382Z",
     "iopub.status.busy": "2021-10-03T10:57:05.340200Z",
     "iopub.status.idle": "2021-10-03T10:57:05.544255Z",
     "shell.execute_reply": "2021-10-03T10:57:05.543608Z",
     "shell.execute_reply.started": "2021-10-03T08:02:36.681491Z"
    },
    "papermill": {
     "duration": 0.389704,
     "end_time": "2021-10-03T10:57:05.544416",
     "exception": false,
     "start_time": "2021-10-03T10:57:05.154712",
     "status": "completed"
    },
    "tags": []
   },
   "outputs": [
    {
     "data": {
      "text/html": [
       "<div>\n",
       "<style scoped>\n",
       "    .dataframe tbody tr th:only-of-type {\n",
       "        vertical-align: middle;\n",
       "    }\n",
       "\n",
       "    .dataframe tbody tr th {\n",
       "        vertical-align: top;\n",
       "    }\n",
       "\n",
       "    .dataframe thead th {\n",
       "        text-align: right;\n",
       "    }\n",
       "</style>\n",
       "<table border=\"1\" class=\"dataframe\">\n",
       "  <thead>\n",
       "    <tr style=\"text-align: right;\">\n",
       "      <th></th>\n",
       "      <th>Sport</th>\n",
       "      <th>Event</th>\n",
       "      <th>NOC</th>\n",
       "      <th>Year</th>\n",
       "      <th>Medal</th>\n",
       "      <th>Name</th>\n",
       "    </tr>\n",
       "  </thead>\n",
       "  <tbody>\n",
       "    <tr>\n",
       "      <th>0</th>\n",
       "      <td>Aeronautics</td>\n",
       "      <td>Aeronautics Mixed Aeronautics</td>\n",
       "      <td>SUI</td>\n",
       "      <td>1936</td>\n",
       "      <td>Gold</td>\n",
       "      <td>1</td>\n",
       "    </tr>\n",
       "    <tr>\n",
       "      <th>1</th>\n",
       "      <td>Alpine Skiing</td>\n",
       "      <td>Alpine Skiing Men's Combined</td>\n",
       "      <td>AUT</td>\n",
       "      <td>1988</td>\n",
       "      <td>Gold</td>\n",
       "      <td>1</td>\n",
       "    </tr>\n",
       "    <tr>\n",
       "      <th>2</th>\n",
       "      <td>Alpine Skiing</td>\n",
       "      <td>Alpine Skiing Men's Combined</td>\n",
       "      <td>AUT</td>\n",
       "      <td>1988</td>\n",
       "      <td>Silver</td>\n",
       "      <td>1</td>\n",
       "    </tr>\n",
       "    <tr>\n",
       "      <th>3</th>\n",
       "      <td>Alpine Skiing</td>\n",
       "      <td>Alpine Skiing Men's Combined</td>\n",
       "      <td>AUT</td>\n",
       "      <td>1998</td>\n",
       "      <td>Bronze</td>\n",
       "      <td>1</td>\n",
       "    </tr>\n",
       "    <tr>\n",
       "      <th>4</th>\n",
       "      <td>Alpine Skiing</td>\n",
       "      <td>Alpine Skiing Men's Combined</td>\n",
       "      <td>AUT</td>\n",
       "      <td>1998</td>\n",
       "      <td>Gold</td>\n",
       "      <td>1</td>\n",
       "    </tr>\n",
       "    <tr>\n",
       "      <th>...</th>\n",
       "      <td>...</td>\n",
       "      <td>...</td>\n",
       "      <td>...</td>\n",
       "      <td>...</td>\n",
       "      <td>...</td>\n",
       "      <td>...</td>\n",
       "    </tr>\n",
       "    <tr>\n",
       "      <th>18900</th>\n",
       "      <td>Wrestling</td>\n",
       "      <td>Wrestling Women's Middleweight, Freestyle</td>\n",
       "      <td>POL</td>\n",
       "      <td>2016</td>\n",
       "      <td>Bronze</td>\n",
       "      <td>1</td>\n",
       "    </tr>\n",
       "    <tr>\n",
       "      <th>18901</th>\n",
       "      <td>Wrestling</td>\n",
       "      <td>Wrestling Women's Middleweight, Freestyle</td>\n",
       "      <td>RUS</td>\n",
       "      <td>2008</td>\n",
       "      <td>Silver</td>\n",
       "      <td>1</td>\n",
       "    </tr>\n",
       "    <tr>\n",
       "      <th>18902</th>\n",
       "      <td>Wrestling</td>\n",
       "      <td>Wrestling Women's Middleweight, Freestyle</td>\n",
       "      <td>RUS</td>\n",
       "      <td>2012</td>\n",
       "      <td>Bronze</td>\n",
       "      <td>1</td>\n",
       "    </tr>\n",
       "    <tr>\n",
       "      <th>18903</th>\n",
       "      <td>Wrestling</td>\n",
       "      <td>Wrestling Women's Middleweight, Freestyle</td>\n",
       "      <td>USA</td>\n",
       "      <td>2004</td>\n",
       "      <td>Silver</td>\n",
       "      <td>1</td>\n",
       "    </tr>\n",
       "    <tr>\n",
       "      <th>18904</th>\n",
       "      <td>Wrestling</td>\n",
       "      <td>Wrestling Women's Middleweight, Freestyle</td>\n",
       "      <td>USA</td>\n",
       "      <td>2008</td>\n",
       "      <td>Bronze</td>\n",
       "      <td>1</td>\n",
       "    </tr>\n",
       "  </tbody>\n",
       "</table>\n",
       "<p>18905 rows × 6 columns</p>\n",
       "</div>"
      ],
      "text/plain": [
       "               Sport                                      Event  NOC  Year  \\\n",
       "0        Aeronautics              Aeronautics Mixed Aeronautics  SUI  1936   \n",
       "1      Alpine Skiing               Alpine Skiing Men's Combined  AUT  1988   \n",
       "2      Alpine Skiing               Alpine Skiing Men's Combined  AUT  1988   \n",
       "3      Alpine Skiing               Alpine Skiing Men's Combined  AUT  1998   \n",
       "4      Alpine Skiing               Alpine Skiing Men's Combined  AUT  1998   \n",
       "...              ...                                        ...  ...   ...   \n",
       "18900      Wrestling  Wrestling Women's Middleweight, Freestyle  POL  2016   \n",
       "18901      Wrestling  Wrestling Women's Middleweight, Freestyle  RUS  2008   \n",
       "18902      Wrestling  Wrestling Women's Middleweight, Freestyle  RUS  2012   \n",
       "18903      Wrestling  Wrestling Women's Middleweight, Freestyle  USA  2004   \n",
       "18904      Wrestling  Wrestling Women's Middleweight, Freestyle  USA  2008   \n",
       "\n",
       "        Medal  Name  \n",
       "0        Gold     1  \n",
       "1        Gold     1  \n",
       "2      Silver     1  \n",
       "3      Bronze     1  \n",
       "4        Gold     1  \n",
       "...       ...   ...  \n",
       "18900  Bronze     1  \n",
       "18901  Silver     1  \n",
       "18902  Bronze     1  \n",
       "18903  Silver     1  \n",
       "18904  Bronze     1  \n",
       "\n",
       "[18905 rows x 6 columns]"
      ]
     },
     "execution_count": 9,
     "metadata": {},
     "output_type": "execute_result"
    }
   ],
   "source": [
    "groups=df.groupby(['Sport','Event','NOC','Year','Medal'])\n",
    "events_df=groups['Name'].count().reset_index()\n",
    "events_df"
   ]
  },
  {
   "cell_type": "code",
   "execution_count": 10,
   "id": "00572072",
   "metadata": {
    "execution": {
     "iopub.execute_input": "2021-10-03T10:57:05.804014Z",
     "iopub.status.busy": "2021-10-03T10:57:05.803048Z",
     "iopub.status.idle": "2021-10-03T10:57:05.822903Z",
     "shell.execute_reply": "2021-10-03T10:57:05.822384Z",
     "shell.execute_reply.started": "2021-10-03T08:02:36.841476Z"
    },
    "papermill": {
     "duration": 0.152945,
     "end_time": "2021-10-03T10:57:05.823049",
     "exception": false,
     "start_time": "2021-10-03T10:57:05.670104",
     "status": "completed"
    },
    "tags": []
   },
   "outputs": [
    {
     "data": {
      "text/html": [
       "<div>\n",
       "<style scoped>\n",
       "    .dataframe tbody tr th:only-of-type {\n",
       "        vertical-align: middle;\n",
       "    }\n",
       "\n",
       "    .dataframe tbody tr th {\n",
       "        vertical-align: top;\n",
       "    }\n",
       "\n",
       "    .dataframe thead th {\n",
       "        text-align: right;\n",
       "    }\n",
       "</style>\n",
       "<table border=\"1\" class=\"dataframe\">\n",
       "  <thead>\n",
       "    <tr style=\"text-align: right;\">\n",
       "      <th></th>\n",
       "      <th>Sport</th>\n",
       "      <th>Event</th>\n",
       "      <th>NOC</th>\n",
       "      <th>Year</th>\n",
       "      <th>Medal</th>\n",
       "      <th>Name</th>\n",
       "    </tr>\n",
       "  </thead>\n",
       "  <tbody>\n",
       "    <tr>\n",
       "      <th>0</th>\n",
       "      <td>Aeronautics</td>\n",
       "      <td>Aeronautics Mixed Aeronautics</td>\n",
       "      <td>SUI</td>\n",
       "      <td>1936</td>\n",
       "      <td>Gold</td>\n",
       "      <td>1</td>\n",
       "    </tr>\n",
       "    <tr>\n",
       "      <th>1</th>\n",
       "      <td>Alpine Skiing</td>\n",
       "      <td>Alpine Skiing Men's Combined</td>\n",
       "      <td>AUT</td>\n",
       "      <td>1988</td>\n",
       "      <td>Gold</td>\n",
       "      <td>1</td>\n",
       "    </tr>\n",
       "    <tr>\n",
       "      <th>2</th>\n",
       "      <td>Alpine Skiing</td>\n",
       "      <td>Alpine Skiing Men's Combined</td>\n",
       "      <td>AUT</td>\n",
       "      <td>1988</td>\n",
       "      <td>Silver</td>\n",
       "      <td>1</td>\n",
       "    </tr>\n",
       "    <tr>\n",
       "      <th>3</th>\n",
       "      <td>Alpine Skiing</td>\n",
       "      <td>Alpine Skiing Men's Combined</td>\n",
       "      <td>AUT</td>\n",
       "      <td>1998</td>\n",
       "      <td>Bronze</td>\n",
       "      <td>1</td>\n",
       "    </tr>\n",
       "    <tr>\n",
       "      <th>31</th>\n",
       "      <td>Alpine Skiing</td>\n",
       "      <td>Alpine Skiing Men's Downhill</td>\n",
       "      <td>AUT</td>\n",
       "      <td>1948</td>\n",
       "      <td>Silver</td>\n",
       "      <td>1</td>\n",
       "    </tr>\n",
       "    <tr>\n",
       "      <th>...</th>\n",
       "      <td>...</td>\n",
       "      <td>...</td>\n",
       "      <td>...</td>\n",
       "      <td>...</td>\n",
       "      <td>...</td>\n",
       "      <td>...</td>\n",
       "    </tr>\n",
       "    <tr>\n",
       "      <th>18876</th>\n",
       "      <td>Wrestling</td>\n",
       "      <td>Wrestling Women's Lightweight, Freestyle</td>\n",
       "      <td>CAN</td>\n",
       "      <td>2004</td>\n",
       "      <td>Silver</td>\n",
       "      <td>1</td>\n",
       "    </tr>\n",
       "    <tr>\n",
       "      <th>18884</th>\n",
       "      <td>Wrestling</td>\n",
       "      <td>Wrestling Women's Lightweight, Freestyle</td>\n",
       "      <td>JPN</td>\n",
       "      <td>2004</td>\n",
       "      <td>Gold</td>\n",
       "      <td>1</td>\n",
       "    </tr>\n",
       "    <tr>\n",
       "      <th>18890</th>\n",
       "      <td>Wrestling</td>\n",
       "      <td>Wrestling Women's Middleweight, Freestyle</td>\n",
       "      <td>BLR</td>\n",
       "      <td>2016</td>\n",
       "      <td>Silver</td>\n",
       "      <td>1</td>\n",
       "    </tr>\n",
       "    <tr>\n",
       "      <th>18892</th>\n",
       "      <td>Wrestling</td>\n",
       "      <td>Wrestling Women's Middleweight, Freestyle</td>\n",
       "      <td>FRA</td>\n",
       "      <td>2004</td>\n",
       "      <td>Bronze</td>\n",
       "      <td>1</td>\n",
       "    </tr>\n",
       "    <tr>\n",
       "      <th>18893</th>\n",
       "      <td>Wrestling</td>\n",
       "      <td>Wrestling Women's Middleweight, Freestyle</td>\n",
       "      <td>JPN</td>\n",
       "      <td>2004</td>\n",
       "      <td>Gold</td>\n",
       "      <td>1</td>\n",
       "    </tr>\n",
       "  </tbody>\n",
       "</table>\n",
       "<p>2215 rows × 6 columns</p>\n",
       "</div>"
      ],
      "text/plain": [
       "               Sport                                      Event  NOC  Year  \\\n",
       "0        Aeronautics              Aeronautics Mixed Aeronautics  SUI  1936   \n",
       "1      Alpine Skiing               Alpine Skiing Men's Combined  AUT  1988   \n",
       "2      Alpine Skiing               Alpine Skiing Men's Combined  AUT  1988   \n",
       "3      Alpine Skiing               Alpine Skiing Men's Combined  AUT  1998   \n",
       "31     Alpine Skiing               Alpine Skiing Men's Downhill  AUT  1948   \n",
       "...              ...                                        ...  ...   ...   \n",
       "18876      Wrestling   Wrestling Women's Lightweight, Freestyle  CAN  2004   \n",
       "18884      Wrestling   Wrestling Women's Lightweight, Freestyle  JPN  2004   \n",
       "18890      Wrestling  Wrestling Women's Middleweight, Freestyle  BLR  2016   \n",
       "18892      Wrestling  Wrestling Women's Middleweight, Freestyle  FRA  2004   \n",
       "18893      Wrestling  Wrestling Women's Middleweight, Freestyle  JPN  2004   \n",
       "\n",
       "        Medal  Name  \n",
       "0        Gold     1  \n",
       "1        Gold     1  \n",
       "2      Silver     1  \n",
       "3      Bronze     1  \n",
       "31     Silver     1  \n",
       "...       ...   ...  \n",
       "18876  Silver     1  \n",
       "18884    Gold     1  \n",
       "18890  Silver     1  \n",
       "18892  Bronze     1  \n",
       "18893    Gold     1  \n",
       "\n",
       "[2215 rows x 6 columns]"
      ]
     },
     "execution_count": 10,
     "metadata": {},
     "output_type": "execute_result"
    }
   ],
   "source": [
    "events_df.drop_duplicates(['Event','Medal'])"
   ]
  },
  {
   "cell_type": "code",
   "execution_count": 11,
   "id": "6f6efff3",
   "metadata": {
    "execution": {
     "iopub.execute_input": "2021-10-03T10:57:06.090698Z",
     "iopub.status.busy": "2021-10-03T10:57:06.089995Z",
     "iopub.status.idle": "2021-10-03T10:57:06.092795Z",
     "shell.execute_reply": "2021-10-03T10:57:06.093438Z",
     "shell.execute_reply.started": "2021-10-03T08:02:36.867514Z"
    },
    "papermill": {
     "duration": 0.142288,
     "end_time": "2021-10-03T10:57:06.093623",
     "exception": false,
     "start_time": "2021-10-03T10:57:05.951335",
     "status": "completed"
    },
    "tags": []
   },
   "outputs": [
    {
     "data": {
      "text/plain": [
       "Series([], Name: Medal, dtype: int64)"
      ]
     },
     "execution_count": 11,
     "metadata": {},
     "output_type": "execute_result"
    }
   ],
   "source": [
    "temp=events_df[events_df['Medal']==1].groupby('NOC')\n",
    "temp['Medal'].count().sort_values(ascending=False)\n"
   ]
  },
  {
   "cell_type": "code",
   "execution_count": 12,
   "id": "3871c49a",
   "metadata": {
    "execution": {
     "iopub.execute_input": "2021-10-03T10:57:06.350012Z",
     "iopub.status.busy": "2021-10-03T10:57:06.349364Z",
     "iopub.status.idle": "2021-10-03T10:57:06.570071Z",
     "shell.execute_reply": "2021-10-03T10:57:06.570587Z",
     "shell.execute_reply.started": "2021-10-03T08:02:36.879986Z"
    },
    "papermill": {
     "duration": 0.35017,
     "end_time": "2021-10-03T10:57:06.570765",
     "exception": false,
     "start_time": "2021-10-03T10:57:06.220595",
     "status": "completed"
    },
    "tags": []
   },
   "outputs": [
    {
     "data": {
      "text/html": [
       "<div>\n",
       "<style scoped>\n",
       "    .dataframe tbody tr th:only-of-type {\n",
       "        vertical-align: middle;\n",
       "    }\n",
       "\n",
       "    .dataframe tbody tr th {\n",
       "        vertical-align: top;\n",
       "    }\n",
       "\n",
       "    .dataframe thead th {\n",
       "        text-align: right;\n",
       "    }\n",
       "</style>\n",
       "<table border=\"1\" class=\"dataframe\">\n",
       "  <thead>\n",
       "    <tr style=\"text-align: right;\">\n",
       "      <th></th>\n",
       "      <th>Sport</th>\n",
       "      <th>Event</th>\n",
       "      <th>NOC</th>\n",
       "      <th>Year</th>\n",
       "      <th>Medal</th>\n",
       "      <th>Team</th>\n",
       "      <th>Season</th>\n",
       "    </tr>\n",
       "  </thead>\n",
       "  <tbody>\n",
       "    <tr>\n",
       "      <th>0</th>\n",
       "      <td>Aeronautics</td>\n",
       "      <td>Aeronautics Mixed Aeronautics</td>\n",
       "      <td>SUI</td>\n",
       "      <td>1936</td>\n",
       "      <td>Gold</td>\n",
       "      <td>Switzerland</td>\n",
       "      <td>1</td>\n",
       "    </tr>\n",
       "    <tr>\n",
       "      <th>1</th>\n",
       "      <td>Alpine Skiing</td>\n",
       "      <td>Alpine Skiing Men's Combined</td>\n",
       "      <td>AUT</td>\n",
       "      <td>1988</td>\n",
       "      <td>Gold</td>\n",
       "      <td>Austria</td>\n",
       "      <td>1</td>\n",
       "    </tr>\n",
       "    <tr>\n",
       "      <th>2</th>\n",
       "      <td>Alpine Skiing</td>\n",
       "      <td>Alpine Skiing Men's Combined</td>\n",
       "      <td>AUT</td>\n",
       "      <td>1988</td>\n",
       "      <td>Silver</td>\n",
       "      <td>Austria</td>\n",
       "      <td>1</td>\n",
       "    </tr>\n",
       "    <tr>\n",
       "      <th>3</th>\n",
       "      <td>Alpine Skiing</td>\n",
       "      <td>Alpine Skiing Men's Combined</td>\n",
       "      <td>AUT</td>\n",
       "      <td>1998</td>\n",
       "      <td>Bronze</td>\n",
       "      <td>Austria</td>\n",
       "      <td>1</td>\n",
       "    </tr>\n",
       "    <tr>\n",
       "      <th>4</th>\n",
       "      <td>Alpine Skiing</td>\n",
       "      <td>Alpine Skiing Men's Combined</td>\n",
       "      <td>AUT</td>\n",
       "      <td>1998</td>\n",
       "      <td>Gold</td>\n",
       "      <td>Austria</td>\n",
       "      <td>1</td>\n",
       "    </tr>\n",
       "    <tr>\n",
       "      <th>...</th>\n",
       "      <td>...</td>\n",
       "      <td>...</td>\n",
       "      <td>...</td>\n",
       "      <td>...</td>\n",
       "      <td>...</td>\n",
       "      <td>...</td>\n",
       "      <td>...</td>\n",
       "    </tr>\n",
       "    <tr>\n",
       "      <th>18922</th>\n",
       "      <td>Wrestling</td>\n",
       "      <td>Wrestling Women's Middleweight, Freestyle</td>\n",
       "      <td>POL</td>\n",
       "      <td>2016</td>\n",
       "      <td>Bronze</td>\n",
       "      <td>Poland</td>\n",
       "      <td>1</td>\n",
       "    </tr>\n",
       "    <tr>\n",
       "      <th>18923</th>\n",
       "      <td>Wrestling</td>\n",
       "      <td>Wrestling Women's Middleweight, Freestyle</td>\n",
       "      <td>RUS</td>\n",
       "      <td>2008</td>\n",
       "      <td>Silver</td>\n",
       "      <td>Russia</td>\n",
       "      <td>1</td>\n",
       "    </tr>\n",
       "    <tr>\n",
       "      <th>18924</th>\n",
       "      <td>Wrestling</td>\n",
       "      <td>Wrestling Women's Middleweight, Freestyle</td>\n",
       "      <td>RUS</td>\n",
       "      <td>2012</td>\n",
       "      <td>Bronze</td>\n",
       "      <td>Russia</td>\n",
       "      <td>1</td>\n",
       "    </tr>\n",
       "    <tr>\n",
       "      <th>18925</th>\n",
       "      <td>Wrestling</td>\n",
       "      <td>Wrestling Women's Middleweight, Freestyle</td>\n",
       "      <td>USA</td>\n",
       "      <td>2004</td>\n",
       "      <td>Silver</td>\n",
       "      <td>United States</td>\n",
       "      <td>1</td>\n",
       "    </tr>\n",
       "    <tr>\n",
       "      <th>18926</th>\n",
       "      <td>Wrestling</td>\n",
       "      <td>Wrestling Women's Middleweight, Freestyle</td>\n",
       "      <td>USA</td>\n",
       "      <td>2008</td>\n",
       "      <td>Bronze</td>\n",
       "      <td>United States</td>\n",
       "      <td>1</td>\n",
       "    </tr>\n",
       "  </tbody>\n",
       "</table>\n",
       "<p>18927 rows × 7 columns</p>\n",
       "</div>"
      ],
      "text/plain": [
       "               Sport                                      Event  NOC  Year  \\\n",
       "0        Aeronautics              Aeronautics Mixed Aeronautics  SUI  1936   \n",
       "1      Alpine Skiing               Alpine Skiing Men's Combined  AUT  1988   \n",
       "2      Alpine Skiing               Alpine Skiing Men's Combined  AUT  1988   \n",
       "3      Alpine Skiing               Alpine Skiing Men's Combined  AUT  1998   \n",
       "4      Alpine Skiing               Alpine Skiing Men's Combined  AUT  1998   \n",
       "...              ...                                        ...  ...   ...   \n",
       "18922      Wrestling  Wrestling Women's Middleweight, Freestyle  POL  2016   \n",
       "18923      Wrestling  Wrestling Women's Middleweight, Freestyle  RUS  2008   \n",
       "18924      Wrestling  Wrestling Women's Middleweight, Freestyle  RUS  2012   \n",
       "18925      Wrestling  Wrestling Women's Middleweight, Freestyle  USA  2004   \n",
       "18926      Wrestling  Wrestling Women's Middleweight, Freestyle  USA  2008   \n",
       "\n",
       "        Medal           Team  Season  \n",
       "0        Gold    Switzerland       1  \n",
       "1        Gold        Austria       1  \n",
       "2      Silver        Austria       1  \n",
       "3      Bronze        Austria       1  \n",
       "4        Gold        Austria       1  \n",
       "...       ...            ...     ...  \n",
       "18922  Bronze         Poland       1  \n",
       "18923  Silver         Russia       1  \n",
       "18924  Bronze         Russia       1  \n",
       "18925  Silver  United States       1  \n",
       "18926  Bronze  United States       1  \n",
       "\n",
       "[18927 rows x 7 columns]"
      ]
     },
     "execution_count": 12,
     "metadata": {},
     "output_type": "execute_result"
    }
   ],
   "source": [
    "groups= df.groupby(['Sport','Event','NOC','Year','Medal','Team'])\n",
    "events_DF= groups['Season'].count().reset_index()\n",
    "events_DF"
   ]
  },
  {
   "cell_type": "code",
   "execution_count": 13,
   "id": "9e5972c6",
   "metadata": {
    "execution": {
     "iopub.execute_input": "2021-10-03T10:57:06.829445Z",
     "iopub.status.busy": "2021-10-03T10:57:06.828788Z",
     "iopub.status.idle": "2021-10-03T10:57:06.840255Z",
     "shell.execute_reply": "2021-10-03T10:57:06.840752Z",
     "shell.execute_reply.started": "2021-10-03T08:02:37.055196Z"
    },
    "papermill": {
     "duration": 0.142334,
     "end_time": "2021-10-03T10:57:06.840949",
     "exception": false,
     "start_time": "2021-10-03T10:57:06.698615",
     "status": "completed"
    },
    "tags": []
   },
   "outputs": [],
   "source": [
    "tempo_df=events_DF.drop_duplicates(['Medal','Event'])"
   ]
  },
  {
   "cell_type": "code",
   "execution_count": 14,
   "id": "74cc775e",
   "metadata": {
    "execution": {
     "iopub.execute_input": "2021-10-03T10:57:07.100280Z",
     "iopub.status.busy": "2021-10-03T10:57:07.099641Z",
     "iopub.status.idle": "2021-10-03T10:57:07.111192Z",
     "shell.execute_reply": "2021-10-03T10:57:07.111730Z",
     "shell.execute_reply.started": "2021-10-03T08:02:37.068640Z"
    },
    "papermill": {
     "duration": 0.142821,
     "end_time": "2021-10-03T10:57:07.111902",
     "exception": false,
     "start_time": "2021-10-03T10:57:06.969081",
     "status": "completed"
    },
    "tags": []
   },
   "outputs": [
    {
     "data": {
      "text/html": [
       "<div>\n",
       "<style scoped>\n",
       "    .dataframe tbody tr th:only-of-type {\n",
       "        vertical-align: middle;\n",
       "    }\n",
       "\n",
       "    .dataframe tbody tr th {\n",
       "        vertical-align: top;\n",
       "    }\n",
       "\n",
       "    .dataframe thead th {\n",
       "        text-align: right;\n",
       "    }\n",
       "</style>\n",
       "<table border=\"1\" class=\"dataframe\">\n",
       "  <thead>\n",
       "    <tr style=\"text-align: right;\">\n",
       "      <th></th>\n",
       "      <th>Sport</th>\n",
       "      <th>Event</th>\n",
       "      <th>NOC</th>\n",
       "      <th>Year</th>\n",
       "      <th>Medal</th>\n",
       "      <th>Team</th>\n",
       "      <th>Season</th>\n",
       "    </tr>\n",
       "  </thead>\n",
       "  <tbody>\n",
       "    <tr>\n",
       "      <th>1259</th>\n",
       "      <td>Athletics</td>\n",
       "      <td>Athletics Men's 200 metres Hurdles</td>\n",
       "      <td>IND</td>\n",
       "      <td>1900</td>\n",
       "      <td>Silver</td>\n",
       "      <td>India</td>\n",
       "      <td>1</td>\n",
       "    </tr>\n",
       "  </tbody>\n",
       "</table>\n",
       "</div>"
      ],
      "text/plain": [
       "          Sport                               Event  NOC  Year   Medal   Team  \\\n",
       "1259  Athletics  Athletics Men's 200 metres Hurdles  IND  1900  Silver  India   \n",
       "\n",
       "      Season  \n",
       "1259       1  "
      ]
     },
     "execution_count": 14,
     "metadata": {},
     "output_type": "execute_result"
    }
   ],
   "source": [
    "tempo_df[tempo_df['Team']=='India']"
   ]
  },
  {
   "cell_type": "code",
   "execution_count": null,
   "id": "936af024",
   "metadata": {
    "papermill": {
     "duration": 0.127748,
     "end_time": "2021-10-03T10:57:07.367452",
     "exception": false,
     "start_time": "2021-10-03T10:57:07.239704",
     "status": "completed"
    },
    "tags": []
   },
   "outputs": [],
   "source": []
  },
  {
   "cell_type": "code",
   "execution_count": 15,
   "id": "ca68815f",
   "metadata": {
    "execution": {
     "iopub.execute_input": "2021-10-03T10:57:07.626148Z",
     "iopub.status.busy": "2021-10-03T10:57:07.625521Z",
     "iopub.status.idle": "2021-10-03T10:57:07.628551Z",
     "shell.execute_reply": "2021-10-03T10:57:07.629078Z",
     "shell.execute_reply.started": "2021-10-03T08:02:37.086328Z"
    },
    "papermill": {
     "duration": 0.133794,
     "end_time": "2021-10-03T10:57:07.629251",
     "exception": false,
     "start_time": "2021-10-03T10:57:07.495457",
     "status": "completed"
    },
    "tags": []
   },
   "outputs": [],
   "source": [
    "#--------------------------------------------"
   ]
  },
  {
   "cell_type": "code",
   "execution_count": 16,
   "id": "6cd1ca33",
   "metadata": {
    "execution": {
     "iopub.execute_input": "2021-10-03T10:57:07.888739Z",
     "iopub.status.busy": "2021-10-03T10:57:07.888092Z",
     "iopub.status.idle": "2021-10-03T10:57:07.959995Z",
     "shell.execute_reply": "2021-10-03T10:57:07.960521Z",
     "shell.execute_reply.started": "2021-10-03T08:02:37.096044Z"
    },
    "papermill": {
     "duration": 0.203684,
     "end_time": "2021-10-03T10:57:07.960710",
     "exception": false,
     "start_time": "2021-10-03T10:57:07.757026",
     "status": "completed"
    },
    "tags": []
   },
   "outputs": [],
   "source": [
    "df=df[df['Season']=='Summer']"
   ]
  },
  {
   "cell_type": "code",
   "execution_count": 17,
   "id": "a71054ed",
   "metadata": {
    "execution": {
     "iopub.execute_input": "2021-10-03T10:57:08.218697Z",
     "iopub.status.busy": "2021-10-03T10:57:08.218040Z",
     "iopub.status.idle": "2021-10-03T10:57:08.222379Z",
     "shell.execute_reply": "2021-10-03T10:57:08.222876Z",
     "shell.execute_reply.started": "2021-10-03T08:02:37.152901Z"
    },
    "papermill": {
     "duration": 0.134784,
     "end_time": "2021-10-03T10:57:08.223036",
     "exception": false,
     "start_time": "2021-10-03T10:57:08.088252",
     "status": "completed"
    },
    "tags": []
   },
   "outputs": [
    {
     "data": {
      "text/plain": [
       "(222552, 15)"
      ]
     },
     "execution_count": 17,
     "metadata": {},
     "output_type": "execute_result"
    }
   ],
   "source": [
    "df.shape"
   ]
  },
  {
   "cell_type": "code",
   "execution_count": 18,
   "id": "c7d0ae33",
   "metadata": {
    "execution": {
     "iopub.execute_input": "2021-10-03T10:57:08.482966Z",
     "iopub.status.busy": "2021-10-03T10:57:08.482272Z",
     "iopub.status.idle": "2021-10-03T10:57:08.491823Z",
     "shell.execute_reply": "2021-10-03T10:57:08.492268Z",
     "shell.execute_reply.started": "2021-10-03T08:02:37.160140Z"
    },
    "papermill": {
     "duration": 0.14076,
     "end_time": "2021-10-03T10:57:08.492460",
     "exception": false,
     "start_time": "2021-10-03T10:57:08.351700",
     "status": "completed"
    },
    "tags": []
   },
   "outputs": [
    {
     "data": {
      "text/html": [
       "<div>\n",
       "<style scoped>\n",
       "    .dataframe tbody tr th:only-of-type {\n",
       "        vertical-align: middle;\n",
       "    }\n",
       "\n",
       "    .dataframe tbody tr th {\n",
       "        vertical-align: top;\n",
       "    }\n",
       "\n",
       "    .dataframe thead th {\n",
       "        text-align: right;\n",
       "    }\n",
       "</style>\n",
       "<table border=\"1\" class=\"dataframe\">\n",
       "  <thead>\n",
       "    <tr style=\"text-align: right;\">\n",
       "      <th></th>\n",
       "      <th>NOC</th>\n",
       "      <th>region</th>\n",
       "      <th>notes</th>\n",
       "    </tr>\n",
       "  </thead>\n",
       "  <tbody>\n",
       "    <tr>\n",
       "      <th>180</th>\n",
       "      <td>SLE</td>\n",
       "      <td>Sierra Leone</td>\n",
       "      <td>NaN</td>\n",
       "    </tr>\n",
       "  </tbody>\n",
       "</table>\n",
       "</div>"
      ],
      "text/plain": [
       "     NOC        region notes\n",
       "180  SLE  Sierra Leone   NaN"
      ]
     },
     "execution_count": 18,
     "metadata": {},
     "output_type": "execute_result"
    }
   ],
   "source": [
    "region_df.sample()"
   ]
  },
  {
   "cell_type": "code",
   "execution_count": 19,
   "id": "8e151a1a",
   "metadata": {
    "execution": {
     "iopub.execute_input": "2021-10-03T10:57:08.777916Z",
     "iopub.status.busy": "2021-10-03T10:57:08.777244Z",
     "iopub.status.idle": "2021-10-03T10:57:08.932603Z",
     "shell.execute_reply": "2021-10-03T10:57:08.932035Z",
     "shell.execute_reply.started": "2021-10-03T08:02:37.178880Z"
    },
    "papermill": {
     "duration": 0.311838,
     "end_time": "2021-10-03T10:57:08.932760",
     "exception": false,
     "start_time": "2021-10-03T10:57:08.620922",
     "status": "completed"
    },
    "tags": []
   },
   "outputs": [],
   "source": [
    "df=df.merge(region_df, how='left',on='NOC')\n",
    "#joining/ merging region_df with df on NOC column\n",
    "# how - Type of merge to be performed.\n",
    "# region tells us the country"
   ]
  },
  {
   "cell_type": "markdown",
   "id": "077b6766",
   "metadata": {
    "execution": {
     "iopub.execute_input": "2021-09-28T06:31:25.377986Z",
     "iopub.status.busy": "2021-09-28T06:31:25.377589Z",
     "iopub.status.idle": "2021-09-28T06:31:25.383119Z",
     "shell.execute_reply": "2021-09-28T06:31:25.382029Z",
     "shell.execute_reply.started": "2021-09-28T06:31:25.377951Z"
    },
    "papermill": {
     "duration": 0.128818,
     "end_time": "2021-10-03T10:57:09.190415",
     "exception": false,
     "start_time": "2021-10-03T10:57:09.061597",
     "status": "completed"
    },
    "tags": []
   },
   "source": [
    "# countries that have particiated in olympics "
   ]
  },
  {
   "cell_type": "code",
   "execution_count": 20,
   "id": "77395665",
   "metadata": {
    "execution": {
     "iopub.execute_input": "2021-10-03T10:57:09.471541Z",
     "iopub.status.busy": "2021-10-03T10:57:09.470639Z",
     "iopub.status.idle": "2021-10-03T10:57:09.474438Z",
     "shell.execute_reply": "2021-10-03T10:57:09.473820Z",
     "shell.execute_reply.started": "2021-10-03T08:02:37.342909Z"
    },
    "papermill": {
     "duration": 0.15572,
     "end_time": "2021-10-03T10:57:09.474575",
     "exception": false,
     "start_time": "2021-10-03T10:57:09.318855",
     "status": "completed"
    },
    "tags": []
   },
   "outputs": [
    {
     "data": {
      "text/plain": [
       "array(['China', 'Denmark', 'Netherlands', 'Finland', 'Norway', 'Romania',\n",
       "       'Estonia', 'France', 'Morocco', 'Spain', 'Egypt', 'Iran',\n",
       "       'Bulgaria', 'Italy', 'Chad', 'Azerbaijan', 'Sudan', 'Russia',\n",
       "       'Argentina', 'Cuba', 'Belarus', 'Greece', 'Cameroon', 'Turkey',\n",
       "       'Chile', 'Mexico', 'USA', 'Nicaragua', 'Hungary', 'Nigeria',\n",
       "       'Algeria', 'Kuwait', 'Bahrain', 'Pakistan', 'Iraq', 'Syria',\n",
       "       'Lebanon', 'Qatar', 'Malaysia', 'Germany', 'Canada', 'Ireland',\n",
       "       'Australia', 'South Africa', 'Eritrea', 'Tanzania', 'Jordan',\n",
       "       'Tunisia', 'Libya', 'Belgium', 'Djibouti', 'Palestine', 'Comoros',\n",
       "       'Kazakhstan', 'Brunei', 'India', 'Saudi Arabia', 'Maldives',\n",
       "       'Ethiopia', 'United Arab Emirates', 'Yemen', 'Indonesia',\n",
       "       'Philippines', nan, 'Uzbekistan', 'Kyrgyzstan', 'Tajikistan',\n",
       "       'Japan', 'Republic of Congo', 'Switzerland', 'Brazil', 'Monaco',\n",
       "       'Israel', 'Uruguay', 'Sweden', 'Sri Lanka', 'Armenia',\n",
       "       'Ivory Coast', 'Kenya', 'Benin', 'UK', 'Ghana', 'Somalia', 'Niger',\n",
       "       'Mali', 'Afghanistan', 'Poland', 'Costa Rica', 'Panama', 'Georgia',\n",
       "       'Slovenia', 'Guyana', 'New Zealand', 'Portugal', 'Paraguay',\n",
       "       'Angola', 'Venezuela', 'Colombia', 'Bangladesh', 'Peru',\n",
       "       'El Salvador', 'Puerto Rico', 'Uganda', 'Honduras', 'Ecuador',\n",
       "       'Turkmenistan', 'Mauritius', 'Seychelles', 'Czech Republic',\n",
       "       'Luxembourg', 'Mauritania', 'Saint Kitts', 'Trinidad',\n",
       "       'Dominican Republic', 'Saint Vincent', 'Jamaica', 'Liberia',\n",
       "       'Suriname', 'Nepal', 'Mongolia', 'Austria', 'Palau', 'Lithuania',\n",
       "       'Togo', 'Namibia', 'Curacao', 'Ukraine', 'Iceland',\n",
       "       'American Samoa', 'Samoa', 'Rwanda', 'Croatia', 'Dominica',\n",
       "       'Haiti', 'Malta', 'Cyprus', 'Guinea', 'Belize', 'Thailand',\n",
       "       'Bermuda', 'Serbia', 'Sierra Leone', 'Papua New Guinea',\n",
       "       'Individual Olympic Athletes', 'Oman', 'Fiji', 'Vanuatu',\n",
       "       'Moldova', 'Bahamas', 'Guatemala', 'Latvia',\n",
       "       'Virgin Islands, British', 'Mozambique', 'Virgin Islands, US',\n",
       "       'Central African Republic', 'Madagascar', 'Bosnia and Herzegovina',\n",
       "       'Guam', 'Cayman Islands', 'Slovakia', 'Barbados', 'Guinea-Bissau',\n",
       "       'Timor-Leste', 'Democratic Republic of the Congo', 'Gabon',\n",
       "       'San Marino', 'Laos', 'Botswana', 'South Korea', 'Cambodia',\n",
       "       'North Korea', 'Solomon Islands', 'Senegal', 'Cape Verde',\n",
       "       'Equatorial Guinea', 'Boliva', 'Antigua', 'Andorra', 'Zimbabwe',\n",
       "       'Grenada', 'Saint Lucia', 'Micronesia', 'Myanmar', 'Malawi',\n",
       "       'Zambia', 'Taiwan', 'Sao Tome and Principe', 'Macedonia',\n",
       "       'Liechtenstein', 'Montenegro', 'Gambia', 'Cook Islands', 'Albania',\n",
       "       'Swaziland', 'Burkina Faso', 'Burundi', 'Aruba', 'Nauru',\n",
       "       'Vietnam', 'Bhutan', 'Marshall Islands', 'Kiribati', 'Tonga',\n",
       "       'Kosovo', 'South Sudan', 'Lesotho'], dtype=object)"
      ]
     },
     "execution_count": 20,
     "metadata": {},
     "output_type": "execute_result"
    }
   ],
   "source": [
    "df['region'].unique()"
   ]
  },
  {
   "cell_type": "code",
   "execution_count": 21,
   "id": "6088a69a",
   "metadata": {
    "execution": {
     "iopub.execute_input": "2021-10-03T10:57:09.752677Z",
     "iopub.status.busy": "2021-10-03T10:57:09.743191Z",
     "iopub.status.idle": "2021-10-03T10:57:09.757715Z",
     "shell.execute_reply": "2021-10-03T10:57:09.757188Z",
     "shell.execute_reply.started": "2021-10-03T08:02:37.362196Z"
    },
    "papermill": {
     "duration": 0.154292,
     "end_time": "2021-10-03T10:57:09.757859",
     "exception": false,
     "start_time": "2021-10-03T10:57:09.603567",
     "status": "completed"
    },
    "tags": []
   },
   "outputs": [
    {
     "data": {
      "text/plain": [
       "(206,)"
      ]
     },
     "execution_count": 21,
     "metadata": {},
     "output_type": "execute_result"
    }
   ],
   "source": [
    "df['region'].unique().shape"
   ]
  },
  {
   "cell_type": "code",
   "execution_count": 22,
   "id": "f2230674",
   "metadata": {
    "execution": {
     "iopub.execute_input": "2021-10-03T10:57:10.020853Z",
     "iopub.status.busy": "2021-10-03T10:57:10.019825Z",
     "iopub.status.idle": "2021-10-03T10:57:10.292195Z",
     "shell.execute_reply": "2021-10-03T10:57:10.291538Z",
     "shell.execute_reply.started": "2021-10-03T08:02:37.379515Z"
    },
    "papermill": {
     "duration": 0.406151,
     "end_time": "2021-10-03T10:57:10.292356",
     "exception": false,
     "start_time": "2021-10-03T10:57:09.886205",
     "status": "completed"
    },
    "tags": []
   },
   "outputs": [
    {
     "data": {
      "text/plain": [
       "ID             0\n",
       "Name           0\n",
       "Sex            0\n",
       "Age         9189\n",
       "Height     51857\n",
       "Weight     53854\n",
       "Team           0\n",
       "NOC            0\n",
       "Games          0\n",
       "Year           0\n",
       "Season         0\n",
       "City           0\n",
       "Sport          0\n",
       "Event          0\n",
       "Medal     188464\n",
       "region       370\n",
       "notes     218151\n",
       "dtype: int64"
      ]
     },
     "execution_count": 22,
     "metadata": {},
     "output_type": "execute_result"
    }
   ],
   "source": [
    "# null values in df \n",
    "df.isnull().sum()"
   ]
  },
  {
   "cell_type": "code",
   "execution_count": 23,
   "id": "2f93c32a",
   "metadata": {
    "execution": {
     "iopub.execute_input": "2021-10-03T10:57:10.558536Z",
     "iopub.status.busy": "2021-10-03T10:57:10.557564Z",
     "iopub.status.idle": "2021-10-03T10:57:10.904773Z",
     "shell.execute_reply": "2021-10-03T10:57:10.904211Z",
     "shell.execute_reply.started": "2021-10-03T08:02:37.517619Z"
    },
    "papermill": {
     "duration": 0.482703,
     "end_time": "2021-10-03T10:57:10.904919",
     "exception": false,
     "start_time": "2021-10-03T10:57:10.422216",
     "status": "completed"
    },
    "tags": []
   },
   "outputs": [
    {
     "data": {
      "text/plain": [
       "1385"
      ]
     },
     "execution_count": 23,
     "metadata": {},
     "output_type": "execute_result"
    }
   ],
   "source": [
    "df.duplicated().sum()"
   ]
  },
  {
   "cell_type": "code",
   "execution_count": null,
   "id": "a20cec19",
   "metadata": {
    "papermill": {
     "duration": 0.129487,
     "end_time": "2021-10-03T10:57:11.166982",
     "exception": false,
     "start_time": "2021-10-03T10:57:11.037495",
     "status": "completed"
    },
    "tags": []
   },
   "outputs": [],
   "source": []
  },
  {
   "cell_type": "code",
   "execution_count": 24,
   "id": "9bf32f99",
   "metadata": {
    "execution": {
     "iopub.execute_input": "2021-10-03T10:57:11.429819Z",
     "iopub.status.busy": "2021-10-03T10:57:11.429096Z",
     "iopub.status.idle": "2021-10-03T10:57:11.877184Z",
     "shell.execute_reply": "2021-10-03T10:57:11.877757Z",
     "shell.execute_reply.started": "2021-10-03T08:02:37.788787Z"
    },
    "papermill": {
     "duration": 0.581236,
     "end_time": "2021-10-03T10:57:11.877967",
     "exception": false,
     "start_time": "2021-10-03T10:57:11.296731",
     "status": "completed"
    },
    "tags": []
   },
   "outputs": [],
   "source": [
    "df.drop_duplicates(inplace=True)\n",
    "#inplace means it will change the original data frame i.e it will remove the duplicated value in original df"
   ]
  },
  {
   "cell_type": "code",
   "execution_count": 25,
   "id": "8795cf22",
   "metadata": {
    "execution": {
     "iopub.execute_input": "2021-10-03T10:57:12.146035Z",
     "iopub.status.busy": "2021-10-03T10:57:12.144232Z",
     "iopub.status.idle": "2021-10-03T10:57:12.492840Z",
     "shell.execute_reply": "2021-10-03T10:57:12.492288Z",
     "shell.execute_reply.started": "2021-10-03T08:02:38.168367Z"
    },
    "papermill": {
     "duration": 0.482853,
     "end_time": "2021-10-03T10:57:12.492984",
     "exception": false,
     "start_time": "2021-10-03T10:57:12.010131",
     "status": "completed"
    },
    "tags": []
   },
   "outputs": [
    {
     "data": {
      "text/plain": [
       "0"
      ]
     },
     "execution_count": 25,
     "metadata": {},
     "output_type": "execute_result"
    }
   ],
   "source": [
    "df.duplicated().sum()"
   ]
  },
  {
   "cell_type": "code",
   "execution_count": 26,
   "id": "a19f1be9",
   "metadata": {
    "execution": {
     "iopub.execute_input": "2021-10-03T10:57:12.773290Z",
     "iopub.status.busy": "2021-10-03T10:57:12.772578Z",
     "iopub.status.idle": "2021-10-03T10:57:12.775534Z",
     "shell.execute_reply": "2021-10-03T10:57:12.776000Z",
     "shell.execute_reply.started": "2021-10-03T08:02:38.446275Z"
    },
    "papermill": {
     "duration": 0.153229,
     "end_time": "2021-10-03T10:57:12.776171",
     "exception": false,
     "start_time": "2021-10-03T10:57:12.622942",
     "status": "completed"
    },
    "tags": []
   },
   "outputs": [
    {
     "data": {
      "text/plain": [
       "Gold      11456\n",
       "Bronze    11409\n",
       "Silver    11212\n",
       "Name: Medal, dtype: int64"
      ]
     },
     "execution_count": 26,
     "metadata": {},
     "output_type": "execute_result"
    }
   ],
   "source": [
    "df['Medal'].value_counts()"
   ]
  },
  {
   "cell_type": "code",
   "execution_count": 27,
   "id": "76f6e604",
   "metadata": {
    "execution": {
     "iopub.execute_input": "2021-10-03T10:57:13.066533Z",
     "iopub.status.busy": "2021-10-03T10:57:13.065439Z",
     "iopub.status.idle": "2021-10-03T10:57:13.083122Z",
     "shell.execute_reply": "2021-10-03T10:57:13.082578Z",
     "shell.execute_reply.started": "2021-10-03T08:02:38.461875Z"
    },
    "papermill": {
     "duration": 0.177365,
     "end_time": "2021-10-03T10:57:13.083254",
     "exception": false,
     "start_time": "2021-10-03T10:57:12.905889",
     "status": "completed"
    },
    "tags": []
   },
   "outputs": [
    {
     "data": {
      "text/html": [
       "<div>\n",
       "<style scoped>\n",
       "    .dataframe tbody tr th:only-of-type {\n",
       "        vertical-align: middle;\n",
       "    }\n",
       "\n",
       "    .dataframe tbody tr th {\n",
       "        vertical-align: top;\n",
       "    }\n",
       "\n",
       "    .dataframe thead th {\n",
       "        text-align: right;\n",
       "    }\n",
       "</style>\n",
       "<table border=\"1\" class=\"dataframe\">\n",
       "  <thead>\n",
       "    <tr style=\"text-align: right;\">\n",
       "      <th></th>\n",
       "      <th>Bronze</th>\n",
       "      <th>Gold</th>\n",
       "      <th>Silver</th>\n",
       "    </tr>\n",
       "  </thead>\n",
       "  <tbody>\n",
       "    <tr>\n",
       "      <th>0</th>\n",
       "      <td>0</td>\n",
       "      <td>0</td>\n",
       "      <td>0</td>\n",
       "    </tr>\n",
       "    <tr>\n",
       "      <th>1</th>\n",
       "      <td>0</td>\n",
       "      <td>0</td>\n",
       "      <td>0</td>\n",
       "    </tr>\n",
       "    <tr>\n",
       "      <th>2</th>\n",
       "      <td>0</td>\n",
       "      <td>0</td>\n",
       "      <td>0</td>\n",
       "    </tr>\n",
       "    <tr>\n",
       "      <th>3</th>\n",
       "      <td>0</td>\n",
       "      <td>1</td>\n",
       "      <td>0</td>\n",
       "    </tr>\n",
       "    <tr>\n",
       "      <th>4</th>\n",
       "      <td>0</td>\n",
       "      <td>0</td>\n",
       "      <td>0</td>\n",
       "    </tr>\n",
       "    <tr>\n",
       "      <th>...</th>\n",
       "      <td>...</td>\n",
       "      <td>...</td>\n",
       "      <td>...</td>\n",
       "    </tr>\n",
       "    <tr>\n",
       "      <th>222547</th>\n",
       "      <td>0</td>\n",
       "      <td>0</td>\n",
       "      <td>0</td>\n",
       "    </tr>\n",
       "    <tr>\n",
       "      <th>222548</th>\n",
       "      <td>0</td>\n",
       "      <td>0</td>\n",
       "      <td>0</td>\n",
       "    </tr>\n",
       "    <tr>\n",
       "      <th>222549</th>\n",
       "      <td>0</td>\n",
       "      <td>0</td>\n",
       "      <td>0</td>\n",
       "    </tr>\n",
       "    <tr>\n",
       "      <th>222550</th>\n",
       "      <td>0</td>\n",
       "      <td>0</td>\n",
       "      <td>0</td>\n",
       "    </tr>\n",
       "    <tr>\n",
       "      <th>222551</th>\n",
       "      <td>0</td>\n",
       "      <td>0</td>\n",
       "      <td>0</td>\n",
       "    </tr>\n",
       "  </tbody>\n",
       "</table>\n",
       "<p>221167 rows × 3 columns</p>\n",
       "</div>"
      ],
      "text/plain": [
       "        Bronze  Gold  Silver\n",
       "0            0     0       0\n",
       "1            0     0       0\n",
       "2            0     0       0\n",
       "3            0     1       0\n",
       "4            0     0       0\n",
       "...        ...   ...     ...\n",
       "222547       0     0       0\n",
       "222548       0     0       0\n",
       "222549       0     0       0\n",
       "222550       0     0       0\n",
       "222551       0     0       0\n",
       "\n",
       "[221167 rows x 3 columns]"
      ]
     },
     "execution_count": 27,
     "metadata": {},
     "output_type": "execute_result"
    }
   ],
   "source": [
    "pd.get_dummies(df['Medal'])\n",
    "#Convert categorical variable into dummy/indicator variables.\n",
    "#paramenter: data - series o df of which we want to get dummy indicator \n"
   ]
  },
  {
   "cell_type": "code",
   "execution_count": 28,
   "id": "9537be1b",
   "metadata": {
    "execution": {
     "iopub.execute_input": "2021-10-03T10:57:13.373808Z",
     "iopub.status.busy": "2021-10-03T10:57:13.372755Z",
     "iopub.status.idle": "2021-10-03T10:57:13.384660Z",
     "shell.execute_reply": "2021-10-03T10:57:13.384092Z",
     "shell.execute_reply.started": "2021-10-03T08:02:38.500285Z"
    },
    "papermill": {
     "duration": 0.170716,
     "end_time": "2021-10-03T10:57:13.384800",
     "exception": false,
     "start_time": "2021-10-03T10:57:13.214084",
     "status": "completed"
    },
    "tags": []
   },
   "outputs": [],
   "source": [
    "temp_df=pd.get_dummies(df['Medal'])"
   ]
  },
  {
   "cell_type": "code",
   "execution_count": 29,
   "id": "c60af158",
   "metadata": {
    "execution": {
     "iopub.execute_input": "2021-10-03T10:57:13.676796Z",
     "iopub.status.busy": "2021-10-03T10:57:13.675881Z",
     "iopub.status.idle": "2021-10-03T10:57:13.679835Z",
     "shell.execute_reply": "2021-10-03T10:57:13.679318Z",
     "shell.execute_reply.started": "2021-10-03T08:02:38.531441Z"
    },
    "papermill": {
     "duration": 0.144777,
     "end_time": "2021-10-03T10:57:13.679966",
     "exception": false,
     "start_time": "2021-10-03T10:57:13.535189",
     "status": "completed"
    },
    "tags": []
   },
   "outputs": [
    {
     "data": {
      "text/plain": [
       "(221167, 3)"
      ]
     },
     "execution_count": 29,
     "metadata": {},
     "output_type": "execute_result"
    }
   ],
   "source": [
    "temp_df.shape"
   ]
  },
  {
   "cell_type": "markdown",
   "id": "7789710e",
   "metadata": {
    "papermill": {
     "duration": 0.13052,
     "end_time": "2021-10-03T10:57:13.941746",
     "exception": false,
     "start_time": "2021-10-03T10:57:13.811226",
     "status": "completed"
    },
    "tags": []
   },
   "source": [
    "# concat df and temp_df"
   ]
  },
  {
   "cell_type": "code",
   "execution_count": null,
   "id": "daef541c",
   "metadata": {
    "papermill": {
     "duration": 0.130804,
     "end_time": "2021-10-03T10:57:14.205634",
     "exception": false,
     "start_time": "2021-10-03T10:57:14.074830",
     "status": "completed"
    },
    "tags": []
   },
   "outputs": [],
   "source": []
  },
  {
   "cell_type": "code",
   "execution_count": 30,
   "id": "b46800bb",
   "metadata": {
    "execution": {
     "iopub.execute_input": "2021-10-03T10:57:14.474139Z",
     "iopub.status.busy": "2021-10-03T10:57:14.473192Z",
     "iopub.status.idle": "2021-10-03T10:57:14.540007Z",
     "shell.execute_reply": "2021-10-03T10:57:14.540486Z",
     "shell.execute_reply.started": "2021-10-03T08:02:38.538355Z"
    },
    "papermill": {
     "duration": 0.204161,
     "end_time": "2021-10-03T10:57:14.540664",
     "exception": false,
     "start_time": "2021-10-03T10:57:14.336503",
     "status": "completed"
    },
    "tags": []
   },
   "outputs": [
    {
     "data": {
      "text/html": [
       "<div>\n",
       "<style scoped>\n",
       "    .dataframe tbody tr th:only-of-type {\n",
       "        vertical-align: middle;\n",
       "    }\n",
       "\n",
       "    .dataframe tbody tr th {\n",
       "        vertical-align: top;\n",
       "    }\n",
       "\n",
       "    .dataframe thead th {\n",
       "        text-align: right;\n",
       "    }\n",
       "</style>\n",
       "<table border=\"1\" class=\"dataframe\">\n",
       "  <thead>\n",
       "    <tr style=\"text-align: right;\">\n",
       "      <th></th>\n",
       "      <th>ID</th>\n",
       "      <th>Name</th>\n",
       "      <th>Sex</th>\n",
       "      <th>Age</th>\n",
       "      <th>Height</th>\n",
       "      <th>Weight</th>\n",
       "      <th>Team</th>\n",
       "      <th>NOC</th>\n",
       "      <th>Games</th>\n",
       "      <th>Year</th>\n",
       "      <th>Season</th>\n",
       "      <th>City</th>\n",
       "      <th>Sport</th>\n",
       "      <th>Event</th>\n",
       "      <th>Medal</th>\n",
       "      <th>region</th>\n",
       "      <th>notes</th>\n",
       "      <th>Bronze</th>\n",
       "      <th>Gold</th>\n",
       "      <th>Silver</th>\n",
       "    </tr>\n",
       "  </thead>\n",
       "  <tbody>\n",
       "    <tr>\n",
       "      <th>0</th>\n",
       "      <td>1</td>\n",
       "      <td>A Dijiang</td>\n",
       "      <td>M</td>\n",
       "      <td>24.0</td>\n",
       "      <td>180.0</td>\n",
       "      <td>80.0</td>\n",
       "      <td>China</td>\n",
       "      <td>CHN</td>\n",
       "      <td>1992 Summer</td>\n",
       "      <td>1992</td>\n",
       "      <td>Summer</td>\n",
       "      <td>Barcelona</td>\n",
       "      <td>Basketball</td>\n",
       "      <td>Basketball Men's Basketball</td>\n",
       "      <td>NaN</td>\n",
       "      <td>China</td>\n",
       "      <td>NaN</td>\n",
       "      <td>0</td>\n",
       "      <td>0</td>\n",
       "      <td>0</td>\n",
       "    </tr>\n",
       "    <tr>\n",
       "      <th>1</th>\n",
       "      <td>2</td>\n",
       "      <td>A Lamusi</td>\n",
       "      <td>M</td>\n",
       "      <td>23.0</td>\n",
       "      <td>170.0</td>\n",
       "      <td>60.0</td>\n",
       "      <td>China</td>\n",
       "      <td>CHN</td>\n",
       "      <td>2012 Summer</td>\n",
       "      <td>2012</td>\n",
       "      <td>Summer</td>\n",
       "      <td>London</td>\n",
       "      <td>Judo</td>\n",
       "      <td>Judo Men's Extra-Lightweight</td>\n",
       "      <td>NaN</td>\n",
       "      <td>China</td>\n",
       "      <td>NaN</td>\n",
       "      <td>0</td>\n",
       "      <td>0</td>\n",
       "      <td>0</td>\n",
       "    </tr>\n",
       "    <tr>\n",
       "      <th>2</th>\n",
       "      <td>3</td>\n",
       "      <td>Gunnar Nielsen Aaby</td>\n",
       "      <td>M</td>\n",
       "      <td>24.0</td>\n",
       "      <td>NaN</td>\n",
       "      <td>NaN</td>\n",
       "      <td>Denmark</td>\n",
       "      <td>DEN</td>\n",
       "      <td>1920 Summer</td>\n",
       "      <td>1920</td>\n",
       "      <td>Summer</td>\n",
       "      <td>Antwerpen</td>\n",
       "      <td>Football</td>\n",
       "      <td>Football Men's Football</td>\n",
       "      <td>NaN</td>\n",
       "      <td>Denmark</td>\n",
       "      <td>NaN</td>\n",
       "      <td>0</td>\n",
       "      <td>0</td>\n",
       "      <td>0</td>\n",
       "    </tr>\n",
       "    <tr>\n",
       "      <th>3</th>\n",
       "      <td>4</td>\n",
       "      <td>Edgar Lindenau Aabye</td>\n",
       "      <td>M</td>\n",
       "      <td>34.0</td>\n",
       "      <td>NaN</td>\n",
       "      <td>NaN</td>\n",
       "      <td>Denmark/Sweden</td>\n",
       "      <td>DEN</td>\n",
       "      <td>1900 Summer</td>\n",
       "      <td>1900</td>\n",
       "      <td>Summer</td>\n",
       "      <td>Paris</td>\n",
       "      <td>Tug-Of-War</td>\n",
       "      <td>Tug-Of-War Men's Tug-Of-War</td>\n",
       "      <td>Gold</td>\n",
       "      <td>Denmark</td>\n",
       "      <td>NaN</td>\n",
       "      <td>0</td>\n",
       "      <td>1</td>\n",
       "      <td>0</td>\n",
       "    </tr>\n",
       "    <tr>\n",
       "      <th>4</th>\n",
       "      <td>8</td>\n",
       "      <td>Cornelia \"Cor\" Aalten (-Strannood)</td>\n",
       "      <td>F</td>\n",
       "      <td>18.0</td>\n",
       "      <td>168.0</td>\n",
       "      <td>NaN</td>\n",
       "      <td>Netherlands</td>\n",
       "      <td>NED</td>\n",
       "      <td>1932 Summer</td>\n",
       "      <td>1932</td>\n",
       "      <td>Summer</td>\n",
       "      <td>Los Angeles</td>\n",
       "      <td>Athletics</td>\n",
       "      <td>Athletics Women's 100 metres</td>\n",
       "      <td>NaN</td>\n",
       "      <td>Netherlands</td>\n",
       "      <td>NaN</td>\n",
       "      <td>0</td>\n",
       "      <td>0</td>\n",
       "      <td>0</td>\n",
       "    </tr>\n",
       "    <tr>\n",
       "      <th>...</th>\n",
       "      <td>...</td>\n",
       "      <td>...</td>\n",
       "      <td>...</td>\n",
       "      <td>...</td>\n",
       "      <td>...</td>\n",
       "      <td>...</td>\n",
       "      <td>...</td>\n",
       "      <td>...</td>\n",
       "      <td>...</td>\n",
       "      <td>...</td>\n",
       "      <td>...</td>\n",
       "      <td>...</td>\n",
       "      <td>...</td>\n",
       "      <td>...</td>\n",
       "      <td>...</td>\n",
       "      <td>...</td>\n",
       "      <td>...</td>\n",
       "      <td>...</td>\n",
       "      <td>...</td>\n",
       "      <td>...</td>\n",
       "    </tr>\n",
       "    <tr>\n",
       "      <th>222547</th>\n",
       "      <td>135565</td>\n",
       "      <td>Fernando scar Zylberberg</td>\n",
       "      <td>M</td>\n",
       "      <td>27.0</td>\n",
       "      <td>168.0</td>\n",
       "      <td>76.0</td>\n",
       "      <td>Argentina</td>\n",
       "      <td>ARG</td>\n",
       "      <td>2004 Summer</td>\n",
       "      <td>2004</td>\n",
       "      <td>Summer</td>\n",
       "      <td>Athina</td>\n",
       "      <td>Hockey</td>\n",
       "      <td>Hockey Men's Hockey</td>\n",
       "      <td>NaN</td>\n",
       "      <td>Argentina</td>\n",
       "      <td>NaN</td>\n",
       "      <td>0</td>\n",
       "      <td>0</td>\n",
       "      <td>0</td>\n",
       "    </tr>\n",
       "    <tr>\n",
       "      <th>222548</th>\n",
       "      <td>135566</td>\n",
       "      <td>James Francis \"Jim\" Zylker</td>\n",
       "      <td>M</td>\n",
       "      <td>21.0</td>\n",
       "      <td>175.0</td>\n",
       "      <td>75.0</td>\n",
       "      <td>United States</td>\n",
       "      <td>USA</td>\n",
       "      <td>1972 Summer</td>\n",
       "      <td>1972</td>\n",
       "      <td>Summer</td>\n",
       "      <td>Munich</td>\n",
       "      <td>Football</td>\n",
       "      <td>Football Men's Football</td>\n",
       "      <td>NaN</td>\n",
       "      <td>USA</td>\n",
       "      <td>NaN</td>\n",
       "      <td>0</td>\n",
       "      <td>0</td>\n",
       "      <td>0</td>\n",
       "    </tr>\n",
       "    <tr>\n",
       "      <th>222549</th>\n",
       "      <td>135567</td>\n",
       "      <td>Aleksandr Viktorovich Zyuzin</td>\n",
       "      <td>M</td>\n",
       "      <td>24.0</td>\n",
       "      <td>183.0</td>\n",
       "      <td>72.0</td>\n",
       "      <td>Russia</td>\n",
       "      <td>RUS</td>\n",
       "      <td>2000 Summer</td>\n",
       "      <td>2000</td>\n",
       "      <td>Summer</td>\n",
       "      <td>Sydney</td>\n",
       "      <td>Rowing</td>\n",
       "      <td>Rowing Men's Lightweight Coxless Fours</td>\n",
       "      <td>NaN</td>\n",
       "      <td>Russia</td>\n",
       "      <td>NaN</td>\n",
       "      <td>0</td>\n",
       "      <td>0</td>\n",
       "      <td>0</td>\n",
       "    </tr>\n",
       "    <tr>\n",
       "      <th>222550</th>\n",
       "      <td>135567</td>\n",
       "      <td>Aleksandr Viktorovich Zyuzin</td>\n",
       "      <td>M</td>\n",
       "      <td>28.0</td>\n",
       "      <td>183.0</td>\n",
       "      <td>72.0</td>\n",
       "      <td>Russia</td>\n",
       "      <td>RUS</td>\n",
       "      <td>2004 Summer</td>\n",
       "      <td>2004</td>\n",
       "      <td>Summer</td>\n",
       "      <td>Athina</td>\n",
       "      <td>Rowing</td>\n",
       "      <td>Rowing Men's Lightweight Coxless Fours</td>\n",
       "      <td>NaN</td>\n",
       "      <td>Russia</td>\n",
       "      <td>NaN</td>\n",
       "      <td>0</td>\n",
       "      <td>0</td>\n",
       "      <td>0</td>\n",
       "    </tr>\n",
       "    <tr>\n",
       "      <th>222551</th>\n",
       "      <td>135568</td>\n",
       "      <td>Olga Igorevna Zyuzkova</td>\n",
       "      <td>F</td>\n",
       "      <td>33.0</td>\n",
       "      <td>171.0</td>\n",
       "      <td>69.0</td>\n",
       "      <td>Belarus</td>\n",
       "      <td>BLR</td>\n",
       "      <td>2016 Summer</td>\n",
       "      <td>2016</td>\n",
       "      <td>Summer</td>\n",
       "      <td>Rio de Janeiro</td>\n",
       "      <td>Basketball</td>\n",
       "      <td>Basketball Women's Basketball</td>\n",
       "      <td>NaN</td>\n",
       "      <td>Belarus</td>\n",
       "      <td>NaN</td>\n",
       "      <td>0</td>\n",
       "      <td>0</td>\n",
       "      <td>0</td>\n",
       "    </tr>\n",
       "  </tbody>\n",
       "</table>\n",
       "<p>221167 rows × 20 columns</p>\n",
       "</div>"
      ],
      "text/plain": [
       "            ID                                Name Sex   Age  Height  Weight  \\\n",
       "0            1                           A Dijiang   M  24.0   180.0    80.0   \n",
       "1            2                            A Lamusi   M  23.0   170.0    60.0   \n",
       "2            3                 Gunnar Nielsen Aaby   M  24.0     NaN     NaN   \n",
       "3            4                Edgar Lindenau Aabye   M  34.0     NaN     NaN   \n",
       "4            8  Cornelia \"Cor\" Aalten (-Strannood)   F  18.0   168.0     NaN   \n",
       "...        ...                                 ...  ..   ...     ...     ...   \n",
       "222547  135565            Fernando scar Zylberberg   M  27.0   168.0    76.0   \n",
       "222548  135566          James Francis \"Jim\" Zylker   M  21.0   175.0    75.0   \n",
       "222549  135567        Aleksandr Viktorovich Zyuzin   M  24.0   183.0    72.0   \n",
       "222550  135567        Aleksandr Viktorovich Zyuzin   M  28.0   183.0    72.0   \n",
       "222551  135568              Olga Igorevna Zyuzkova   F  33.0   171.0    69.0   \n",
       "\n",
       "                  Team  NOC        Games  Year  Season            City  \\\n",
       "0                China  CHN  1992 Summer  1992  Summer       Barcelona   \n",
       "1                China  CHN  2012 Summer  2012  Summer          London   \n",
       "2              Denmark  DEN  1920 Summer  1920  Summer       Antwerpen   \n",
       "3       Denmark/Sweden  DEN  1900 Summer  1900  Summer           Paris   \n",
       "4          Netherlands  NED  1932 Summer  1932  Summer     Los Angeles   \n",
       "...                ...  ...          ...   ...     ...             ...   \n",
       "222547       Argentina  ARG  2004 Summer  2004  Summer          Athina   \n",
       "222548   United States  USA  1972 Summer  1972  Summer          Munich   \n",
       "222549          Russia  RUS  2000 Summer  2000  Summer          Sydney   \n",
       "222550          Russia  RUS  2004 Summer  2004  Summer          Athina   \n",
       "222551         Belarus  BLR  2016 Summer  2016  Summer  Rio de Janeiro   \n",
       "\n",
       "             Sport                                   Event Medal       region  \\\n",
       "0       Basketball             Basketball Men's Basketball   NaN        China   \n",
       "1             Judo            Judo Men's Extra-Lightweight   NaN        China   \n",
       "2         Football                 Football Men's Football   NaN      Denmark   \n",
       "3       Tug-Of-War             Tug-Of-War Men's Tug-Of-War  Gold      Denmark   \n",
       "4        Athletics            Athletics Women's 100 metres   NaN  Netherlands   \n",
       "...            ...                                     ...   ...          ...   \n",
       "222547      Hockey                     Hockey Men's Hockey   NaN    Argentina   \n",
       "222548    Football                 Football Men's Football   NaN          USA   \n",
       "222549      Rowing  Rowing Men's Lightweight Coxless Fours   NaN       Russia   \n",
       "222550      Rowing  Rowing Men's Lightweight Coxless Fours   NaN       Russia   \n",
       "222551  Basketball           Basketball Women's Basketball   NaN      Belarus   \n",
       "\n",
       "       notes  Bronze  Gold  Silver  \n",
       "0        NaN       0     0       0  \n",
       "1        NaN       0     0       0  \n",
       "2        NaN       0     0       0  \n",
       "3        NaN       0     1       0  \n",
       "4        NaN       0     0       0  \n",
       "...      ...     ...   ...     ...  \n",
       "222547   NaN       0     0       0  \n",
       "222548   NaN       0     0       0  \n",
       "222549   NaN       0     0       0  \n",
       "222550   NaN       0     0       0  \n",
       "222551   NaN       0     0       0  \n",
       "\n",
       "[221167 rows x 20 columns]"
      ]
     },
     "execution_count": 30,
     "metadata": {},
     "output_type": "execute_result"
    }
   ],
   "source": [
    "pd.concat([df,temp_df],axis=1)"
   ]
  },
  {
   "cell_type": "code",
   "execution_count": null,
   "id": "84b5034f",
   "metadata": {
    "papermill": {
     "duration": 0.130893,
     "end_time": "2021-10-03T10:57:14.803083",
     "exception": false,
     "start_time": "2021-10-03T10:57:14.672190",
     "status": "completed"
    },
    "tags": []
   },
   "outputs": [],
   "source": []
  },
  {
   "cell_type": "code",
   "execution_count": 31,
   "id": "8474a2e4",
   "metadata": {
    "execution": {
     "iopub.execute_input": "2021-10-03T10:57:15.079403Z",
     "iopub.status.busy": "2021-10-03T10:57:15.078684Z",
     "iopub.status.idle": "2021-10-03T10:57:15.117944Z",
     "shell.execute_reply": "2021-10-03T10:57:15.118461Z",
     "shell.execute_reply.started": "2021-10-03T08:02:38.602026Z"
    },
    "papermill": {
     "duration": 0.184427,
     "end_time": "2021-10-03T10:57:15.118644",
     "exception": false,
     "start_time": "2021-10-03T10:57:14.934217",
     "status": "completed"
    },
    "tags": []
   },
   "outputs": [],
   "source": [
    "df=pd.concat([df,temp_df],axis=1)"
   ]
  },
  {
   "cell_type": "code",
   "execution_count": 32,
   "id": "3b50f75c",
   "metadata": {
    "execution": {
     "iopub.execute_input": "2021-10-03T10:57:15.385733Z",
     "iopub.status.busy": "2021-10-03T10:57:15.385099Z",
     "iopub.status.idle": "2021-10-03T10:57:15.396052Z",
     "shell.execute_reply": "2021-10-03T10:57:15.396519Z",
     "shell.execute_reply.started": "2021-10-03T08:02:38.640569Z"
    },
    "papermill": {
     "duration": 0.146201,
     "end_time": "2021-10-03T10:57:15.396685",
     "exception": false,
     "start_time": "2021-10-03T10:57:15.250484",
     "status": "completed"
    },
    "tags": []
   },
   "outputs": [],
   "source": [
    "df.groupby('NOC')\n",
    "groups=df.groupby('NOC')"
   ]
  },
  {
   "cell_type": "code",
   "execution_count": 33,
   "id": "a9b202c2",
   "metadata": {
    "execution": {
     "iopub.execute_input": "2021-10-03T10:57:15.665606Z",
     "iopub.status.busy": "2021-10-03T10:57:15.664901Z",
     "iopub.status.idle": "2021-10-03T10:57:15.784585Z",
     "shell.execute_reply": "2021-10-03T10:57:15.784077Z",
     "shell.execute_reply.started": "2021-10-03T08:02:38.652920Z"
    },
    "papermill": {
     "duration": 0.25446,
     "end_time": "2021-10-03T10:57:15.784723",
     "exception": false,
     "start_time": "2021-10-03T10:57:15.530263",
     "status": "completed"
    },
    "tags": []
   },
   "outputs": [
    {
     "data": {
      "text/html": [
       "<div>\n",
       "<style scoped>\n",
       "    .dataframe tbody tr th:only-of-type {\n",
       "        vertical-align: middle;\n",
       "    }\n",
       "\n",
       "    .dataframe tbody tr th {\n",
       "        vertical-align: top;\n",
       "    }\n",
       "\n",
       "    .dataframe thead th {\n",
       "        text-align: right;\n",
       "    }\n",
       "</style>\n",
       "<table border=\"1\" class=\"dataframe\">\n",
       "  <thead>\n",
       "    <tr style=\"text-align: right;\">\n",
       "      <th></th>\n",
       "      <th>ID</th>\n",
       "      <th>Age</th>\n",
       "      <th>Height</th>\n",
       "      <th>Weight</th>\n",
       "      <th>Year</th>\n",
       "      <th>Bronze</th>\n",
       "      <th>Gold</th>\n",
       "      <th>Silver</th>\n",
       "    </tr>\n",
       "    <tr>\n",
       "      <th>NOC</th>\n",
       "      <th></th>\n",
       "      <th></th>\n",
       "      <th></th>\n",
       "      <th></th>\n",
       "      <th></th>\n",
       "      <th></th>\n",
       "      <th></th>\n",
       "      <th></th>\n",
       "    </tr>\n",
       "  </thead>\n",
       "  <tbody>\n",
       "    <tr>\n",
       "      <th>AFG</th>\n",
       "      <td>8918075</td>\n",
       "      <td>1836.0</td>\n",
       "      <td>9212.0</td>\n",
       "      <td>4020.0</td>\n",
       "      <td>247720</td>\n",
       "      <td>2.0</td>\n",
       "      <td>0.0</td>\n",
       "      <td>0.0</td>\n",
       "    </tr>\n",
       "    <tr>\n",
       "      <th>AHO</th>\n",
       "      <td>4345762</td>\n",
       "      <td>1916.0</td>\n",
       "      <td>8862.0</td>\n",
       "      <td>3803.0</td>\n",
       "      <td>146544</td>\n",
       "      <td>0.0</td>\n",
       "      <td>0.0</td>\n",
       "      <td>1.0</td>\n",
       "    </tr>\n",
       "    <tr>\n",
       "      <th>ALB</th>\n",
       "      <td>4583008</td>\n",
       "      <td>1631.0</td>\n",
       "      <td>8635.0</td>\n",
       "      <td>3879.0</td>\n",
       "      <td>126092</td>\n",
       "      <td>0.0</td>\n",
       "      <td>0.0</td>\n",
       "      <td>0.0</td>\n",
       "    </tr>\n",
       "    <tr>\n",
       "      <th>ALG</th>\n",
       "      <td>26774400</td>\n",
       "      <td>13035.0</td>\n",
       "      <td>84571.0</td>\n",
       "      <td>33338.0</td>\n",
       "      <td>1076852</td>\n",
       "      <td>8.0</td>\n",
       "      <td>5.0</td>\n",
       "      <td>4.0</td>\n",
       "    </tr>\n",
       "    <tr>\n",
       "      <th>AND</th>\n",
       "      <td>3328267</td>\n",
       "      <td>1448.0</td>\n",
       "      <td>8131.0</td>\n",
       "      <td>3210.0</td>\n",
       "      <td>105912</td>\n",
       "      <td>0.0</td>\n",
       "      <td>0.0</td>\n",
       "      <td>0.0</td>\n",
       "    </tr>\n",
       "    <tr>\n",
       "      <th>...</th>\n",
       "      <td>...</td>\n",
       "      <td>...</td>\n",
       "      <td>...</td>\n",
       "      <td>...</td>\n",
       "      <td>...</td>\n",
       "      <td>...</td>\n",
       "      <td>...</td>\n",
       "      <td>...</td>\n",
       "    </tr>\n",
       "    <tr>\n",
       "      <th>YEM</th>\n",
       "      <td>932821</td>\n",
       "      <td>675.0</td>\n",
       "      <td>4199.0</td>\n",
       "      <td>1492.0</td>\n",
       "      <td>64092</td>\n",
       "      <td>0.0</td>\n",
       "      <td>0.0</td>\n",
       "      <td>0.0</td>\n",
       "    </tr>\n",
       "    <tr>\n",
       "      <th>YMD</th>\n",
       "      <td>345630</td>\n",
       "      <td>118.0</td>\n",
       "      <td>350.0</td>\n",
       "      <td>190.0</td>\n",
       "      <td>9940</td>\n",
       "      <td>0.0</td>\n",
       "      <td>0.0</td>\n",
       "      <td>0.0</td>\n",
       "    </tr>\n",
       "    <tr>\n",
       "      <th>YUG</th>\n",
       "      <td>146095387</td>\n",
       "      <td>48245.0</td>\n",
       "      <td>243501.0</td>\n",
       "      <td>102379.0</td>\n",
       "      <td>4005080</td>\n",
       "      <td>92.0</td>\n",
       "      <td>130.0</td>\n",
       "      <td>161.0</td>\n",
       "    </tr>\n",
       "    <tr>\n",
       "      <th>ZAM</th>\n",
       "      <td>12125915</td>\n",
       "      <td>3613.0</td>\n",
       "      <td>22122.0</td>\n",
       "      <td>9179.0</td>\n",
       "      <td>363520</td>\n",
       "      <td>1.0</td>\n",
       "      <td>0.0</td>\n",
       "      <td>1.0</td>\n",
       "    </tr>\n",
       "    <tr>\n",
       "      <th>ZIM</th>\n",
       "      <td>20440062</td>\n",
       "      <td>7747.0</td>\n",
       "      <td>49565.0</td>\n",
       "      <td>19536.0</td>\n",
       "      <td>614824</td>\n",
       "      <td>1.0</td>\n",
       "      <td>17.0</td>\n",
       "      <td>4.0</td>\n",
       "    </tr>\n",
       "  </tbody>\n",
       "</table>\n",
       "<p>230 rows × 8 columns</p>\n",
       "</div>"
      ],
      "text/plain": [
       "            ID      Age    Height    Weight     Year  Bronze   Gold  Silver\n",
       "NOC                                                                        \n",
       "AFG    8918075   1836.0    9212.0    4020.0   247720     2.0    0.0     0.0\n",
       "AHO    4345762   1916.0    8862.0    3803.0   146544     0.0    0.0     1.0\n",
       "ALB    4583008   1631.0    8635.0    3879.0   126092     0.0    0.0     0.0\n",
       "ALG   26774400  13035.0   84571.0   33338.0  1076852     8.0    5.0     4.0\n",
       "AND    3328267   1448.0    8131.0    3210.0   105912     0.0    0.0     0.0\n",
       "..         ...      ...       ...       ...      ...     ...    ...     ...\n",
       "YEM     932821    675.0    4199.0    1492.0    64092     0.0    0.0     0.0\n",
       "YMD     345630    118.0     350.0     190.0     9940     0.0    0.0     0.0\n",
       "YUG  146095387  48245.0  243501.0  102379.0  4005080    92.0  130.0   161.0\n",
       "ZAM   12125915   3613.0   22122.0    9179.0   363520     1.0    0.0     1.0\n",
       "ZIM   20440062   7747.0   49565.0   19536.0   614824     1.0   17.0     4.0\n",
       "\n",
       "[230 rows x 8 columns]"
      ]
     },
     "execution_count": 33,
     "metadata": {},
     "output_type": "execute_result"
    }
   ],
   "source": [
    "groups.sum()"
   ]
  },
  {
   "cell_type": "code",
   "execution_count": 34,
   "id": "5594464c",
   "metadata": {
    "execution": {
     "iopub.execute_input": "2021-10-03T10:57:16.058121Z",
     "iopub.status.busy": "2021-10-03T10:57:16.057421Z",
     "iopub.status.idle": "2021-10-03T10:57:16.084019Z",
     "shell.execute_reply": "2021-10-03T10:57:16.084664Z",
     "shell.execute_reply.started": "2021-10-03T08:02:38.778327Z"
    },
    "papermill": {
     "duration": 0.167702,
     "end_time": "2021-10-03T10:57:16.084835",
     "exception": false,
     "start_time": "2021-10-03T10:57:15.917133",
     "status": "completed"
    },
    "tags": []
   },
   "outputs": [
    {
     "data": {
      "text/html": [
       "<div>\n",
       "<style scoped>\n",
       "    .dataframe tbody tr th:only-of-type {\n",
       "        vertical-align: middle;\n",
       "    }\n",
       "\n",
       "    .dataframe tbody tr th {\n",
       "        vertical-align: top;\n",
       "    }\n",
       "\n",
       "    .dataframe thead th {\n",
       "        text-align: right;\n",
       "    }\n",
       "</style>\n",
       "<table border=\"1\" class=\"dataframe\">\n",
       "  <thead>\n",
       "    <tr style=\"text-align: right;\">\n",
       "      <th></th>\n",
       "      <th>NOC</th>\n",
       "      <th>Gold</th>\n",
       "      <th>Silver</th>\n",
       "      <th>Bronze</th>\n",
       "    </tr>\n",
       "  </thead>\n",
       "  <tbody>\n",
       "    <tr>\n",
       "      <th>0</th>\n",
       "      <td>USA</td>\n",
       "      <td>2472.0</td>\n",
       "      <td>1333.0</td>\n",
       "      <td>1197.0</td>\n",
       "    </tr>\n",
       "    <tr>\n",
       "      <th>1</th>\n",
       "      <td>URS</td>\n",
       "      <td>832.0</td>\n",
       "      <td>635.0</td>\n",
       "      <td>596.0</td>\n",
       "    </tr>\n",
       "    <tr>\n",
       "      <th>2</th>\n",
       "      <td>GBR</td>\n",
       "      <td>635.0</td>\n",
       "      <td>729.0</td>\n",
       "      <td>620.0</td>\n",
       "    </tr>\n",
       "    <tr>\n",
       "      <th>3</th>\n",
       "      <td>GER</td>\n",
       "      <td>592.0</td>\n",
       "      <td>538.0</td>\n",
       "      <td>649.0</td>\n",
       "    </tr>\n",
       "    <tr>\n",
       "      <th>4</th>\n",
       "      <td>ITA</td>\n",
       "      <td>518.0</td>\n",
       "      <td>474.0</td>\n",
       "      <td>454.0</td>\n",
       "    </tr>\n",
       "    <tr>\n",
       "      <th>...</th>\n",
       "      <td>...</td>\n",
       "      <td>...</td>\n",
       "      <td>...</td>\n",
       "      <td>...</td>\n",
       "    </tr>\n",
       "    <tr>\n",
       "      <th>225</th>\n",
       "      <td>AHO</td>\n",
       "      <td>0.0</td>\n",
       "      <td>1.0</td>\n",
       "      <td>0.0</td>\n",
       "    </tr>\n",
       "    <tr>\n",
       "      <th>226</th>\n",
       "      <td>LBR</td>\n",
       "      <td>0.0</td>\n",
       "      <td>0.0</td>\n",
       "      <td>0.0</td>\n",
       "    </tr>\n",
       "    <tr>\n",
       "      <th>227</th>\n",
       "      <td>LCA</td>\n",
       "      <td>0.0</td>\n",
       "      <td>0.0</td>\n",
       "      <td>0.0</td>\n",
       "    </tr>\n",
       "    <tr>\n",
       "      <th>228</th>\n",
       "      <td>LES</td>\n",
       "      <td>0.0</td>\n",
       "      <td>0.0</td>\n",
       "      <td>0.0</td>\n",
       "    </tr>\n",
       "    <tr>\n",
       "      <th>229</th>\n",
       "      <td>LBA</td>\n",
       "      <td>0.0</td>\n",
       "      <td>0.0</td>\n",
       "      <td>0.0</td>\n",
       "    </tr>\n",
       "  </tbody>\n",
       "</table>\n",
       "<p>230 rows × 4 columns</p>\n",
       "</div>"
      ],
      "text/plain": [
       "     NOC    Gold  Silver  Bronze\n",
       "0    USA  2472.0  1333.0  1197.0\n",
       "1    URS   832.0   635.0   596.0\n",
       "2    GBR   635.0   729.0   620.0\n",
       "3    GER   592.0   538.0   649.0\n",
       "4    ITA   518.0   474.0   454.0\n",
       "..   ...     ...     ...     ...\n",
       "225  AHO     0.0     1.0     0.0\n",
       "226  LBR     0.0     0.0     0.0\n",
       "227  LCA     0.0     0.0     0.0\n",
       "228  LES     0.0     0.0     0.0\n",
       "229  LBA     0.0     0.0     0.0\n",
       "\n",
       "[230 rows x 4 columns]"
      ]
     },
     "execution_count": 34,
     "metadata": {},
     "output_type": "execute_result"
    }
   ],
   "source": [
    "groups.sum()[['Gold','Silver','Bronze']].sort_values('Gold',ascending=False).reset_index()\n",
    "# reset_index is used to change series to data_frame\n",
    "#groups.sum() counts the meadals of each team. According to our table USA has wond 2472 gold, but there are some mistakes\n",
    "# since in team events like hockey all the 15 players win medals so gold is counted 15 times \n",
    "# to avoid this we can delete duplicate rows which have same colums"
   ]
  },
  {
   "cell_type": "code",
   "execution_count": null,
   "id": "50c06f57",
   "metadata": {
    "papermill": {
     "duration": 0.132285,
     "end_time": "2021-10-03T10:57:16.349793",
     "exception": false,
     "start_time": "2021-10-03T10:57:16.217508",
     "status": "completed"
    },
    "tags": []
   },
   "outputs": [],
   "source": []
  },
  {
   "cell_type": "code",
   "execution_count": 35,
   "id": "9243560c",
   "metadata": {
    "execution": {
     "iopub.execute_input": "2021-10-03T10:57:16.619473Z",
     "iopub.status.busy": "2021-10-03T10:57:16.618816Z",
     "iopub.status.idle": "2021-10-03T10:57:16.826375Z",
     "shell.execute_reply": "2021-10-03T10:57:16.825807Z",
     "shell.execute_reply.started": "2021-10-03T08:02:38.808356Z"
    },
    "papermill": {
     "duration": 0.344358,
     "end_time": "2021-10-03T10:57:16.826511",
     "exception": false,
     "start_time": "2021-10-03T10:57:16.482153",
     "status": "completed"
    },
    "tags": []
   },
   "outputs": [
    {
     "data": {
      "text/html": [
       "<div>\n",
       "<style scoped>\n",
       "    .dataframe tbody tr th:only-of-type {\n",
       "        vertical-align: middle;\n",
       "    }\n",
       "\n",
       "    .dataframe tbody tr th {\n",
       "        vertical-align: top;\n",
       "    }\n",
       "\n",
       "    .dataframe thead th {\n",
       "        text-align: right;\n",
       "    }\n",
       "</style>\n",
       "<table border=\"1\" class=\"dataframe\">\n",
       "  <thead>\n",
       "    <tr style=\"text-align: right;\">\n",
       "      <th></th>\n",
       "      <th>ID</th>\n",
       "      <th>Name</th>\n",
       "      <th>Sex</th>\n",
       "      <th>Age</th>\n",
       "      <th>Height</th>\n",
       "      <th>Weight</th>\n",
       "      <th>Team</th>\n",
       "      <th>NOC</th>\n",
       "      <th>Games</th>\n",
       "      <th>Year</th>\n",
       "      <th>Season</th>\n",
       "      <th>City</th>\n",
       "      <th>Sport</th>\n",
       "      <th>Event</th>\n",
       "      <th>Medal</th>\n",
       "      <th>region</th>\n",
       "      <th>notes</th>\n",
       "      <th>Bronze</th>\n",
       "      <th>Gold</th>\n",
       "      <th>Silver</th>\n",
       "    </tr>\n",
       "  </thead>\n",
       "  <tbody>\n",
       "    <tr>\n",
       "      <th>0</th>\n",
       "      <td>1</td>\n",
       "      <td>A Dijiang</td>\n",
       "      <td>M</td>\n",
       "      <td>24.0</td>\n",
       "      <td>180.0</td>\n",
       "      <td>80.0</td>\n",
       "      <td>China</td>\n",
       "      <td>CHN</td>\n",
       "      <td>1992 Summer</td>\n",
       "      <td>1992</td>\n",
       "      <td>Summer</td>\n",
       "      <td>Barcelona</td>\n",
       "      <td>Basketball</td>\n",
       "      <td>Basketball Men's Basketball</td>\n",
       "      <td>NaN</td>\n",
       "      <td>China</td>\n",
       "      <td>NaN</td>\n",
       "      <td>0</td>\n",
       "      <td>0</td>\n",
       "      <td>0</td>\n",
       "    </tr>\n",
       "    <tr>\n",
       "      <th>1</th>\n",
       "      <td>2</td>\n",
       "      <td>A Lamusi</td>\n",
       "      <td>M</td>\n",
       "      <td>23.0</td>\n",
       "      <td>170.0</td>\n",
       "      <td>60.0</td>\n",
       "      <td>China</td>\n",
       "      <td>CHN</td>\n",
       "      <td>2012 Summer</td>\n",
       "      <td>2012</td>\n",
       "      <td>Summer</td>\n",
       "      <td>London</td>\n",
       "      <td>Judo</td>\n",
       "      <td>Judo Men's Extra-Lightweight</td>\n",
       "      <td>NaN</td>\n",
       "      <td>China</td>\n",
       "      <td>NaN</td>\n",
       "      <td>0</td>\n",
       "      <td>0</td>\n",
       "      <td>0</td>\n",
       "    </tr>\n",
       "    <tr>\n",
       "      <th>2</th>\n",
       "      <td>3</td>\n",
       "      <td>Gunnar Nielsen Aaby</td>\n",
       "      <td>M</td>\n",
       "      <td>24.0</td>\n",
       "      <td>NaN</td>\n",
       "      <td>NaN</td>\n",
       "      <td>Denmark</td>\n",
       "      <td>DEN</td>\n",
       "      <td>1920 Summer</td>\n",
       "      <td>1920</td>\n",
       "      <td>Summer</td>\n",
       "      <td>Antwerpen</td>\n",
       "      <td>Football</td>\n",
       "      <td>Football Men's Football</td>\n",
       "      <td>NaN</td>\n",
       "      <td>Denmark</td>\n",
       "      <td>NaN</td>\n",
       "      <td>0</td>\n",
       "      <td>0</td>\n",
       "      <td>0</td>\n",
       "    </tr>\n",
       "    <tr>\n",
       "      <th>3</th>\n",
       "      <td>4</td>\n",
       "      <td>Edgar Lindenau Aabye</td>\n",
       "      <td>M</td>\n",
       "      <td>34.0</td>\n",
       "      <td>NaN</td>\n",
       "      <td>NaN</td>\n",
       "      <td>Denmark/Sweden</td>\n",
       "      <td>DEN</td>\n",
       "      <td>1900 Summer</td>\n",
       "      <td>1900</td>\n",
       "      <td>Summer</td>\n",
       "      <td>Paris</td>\n",
       "      <td>Tug-Of-War</td>\n",
       "      <td>Tug-Of-War Men's Tug-Of-War</td>\n",
       "      <td>Gold</td>\n",
       "      <td>Denmark</td>\n",
       "      <td>NaN</td>\n",
       "      <td>0</td>\n",
       "      <td>1</td>\n",
       "      <td>0</td>\n",
       "    </tr>\n",
       "    <tr>\n",
       "      <th>4</th>\n",
       "      <td>8</td>\n",
       "      <td>Cornelia \"Cor\" Aalten (-Strannood)</td>\n",
       "      <td>F</td>\n",
       "      <td>18.0</td>\n",
       "      <td>168.0</td>\n",
       "      <td>NaN</td>\n",
       "      <td>Netherlands</td>\n",
       "      <td>NED</td>\n",
       "      <td>1932 Summer</td>\n",
       "      <td>1932</td>\n",
       "      <td>Summer</td>\n",
       "      <td>Los Angeles</td>\n",
       "      <td>Athletics</td>\n",
       "      <td>Athletics Women's 100 metres</td>\n",
       "      <td>NaN</td>\n",
       "      <td>Netherlands</td>\n",
       "      <td>NaN</td>\n",
       "      <td>0</td>\n",
       "      <td>0</td>\n",
       "      <td>0</td>\n",
       "    </tr>\n",
       "    <tr>\n",
       "      <th>...</th>\n",
       "      <td>...</td>\n",
       "      <td>...</td>\n",
       "      <td>...</td>\n",
       "      <td>...</td>\n",
       "      <td>...</td>\n",
       "      <td>...</td>\n",
       "      <td>...</td>\n",
       "      <td>...</td>\n",
       "      <td>...</td>\n",
       "      <td>...</td>\n",
       "      <td>...</td>\n",
       "      <td>...</td>\n",
       "      <td>...</td>\n",
       "      <td>...</td>\n",
       "      <td>...</td>\n",
       "      <td>...</td>\n",
       "      <td>...</td>\n",
       "      <td>...</td>\n",
       "      <td>...</td>\n",
       "      <td>...</td>\n",
       "    </tr>\n",
       "    <tr>\n",
       "      <th>222528</th>\n",
       "      <td>135553</td>\n",
       "      <td>Galina Ivanovna Zybina (-Fyodorova)</td>\n",
       "      <td>F</td>\n",
       "      <td>25.0</td>\n",
       "      <td>168.0</td>\n",
       "      <td>80.0</td>\n",
       "      <td>Soviet Union</td>\n",
       "      <td>URS</td>\n",
       "      <td>1956 Summer</td>\n",
       "      <td>1956</td>\n",
       "      <td>Summer</td>\n",
       "      <td>Melbourne</td>\n",
       "      <td>Athletics</td>\n",
       "      <td>Athletics Women's Shot Put</td>\n",
       "      <td>Silver</td>\n",
       "      <td>Russia</td>\n",
       "      <td>NaN</td>\n",
       "      <td>0</td>\n",
       "      <td>0</td>\n",
       "      <td>1</td>\n",
       "    </tr>\n",
       "    <tr>\n",
       "      <th>222530</th>\n",
       "      <td>135553</td>\n",
       "      <td>Galina Ivanovna Zybina (-Fyodorova)</td>\n",
       "      <td>F</td>\n",
       "      <td>33.0</td>\n",
       "      <td>168.0</td>\n",
       "      <td>80.0</td>\n",
       "      <td>Soviet Union</td>\n",
       "      <td>URS</td>\n",
       "      <td>1964 Summer</td>\n",
       "      <td>1964</td>\n",
       "      <td>Summer</td>\n",
       "      <td>Tokyo</td>\n",
       "      <td>Athletics</td>\n",
       "      <td>Athletics Women's Shot Put</td>\n",
       "      <td>Bronze</td>\n",
       "      <td>Russia</td>\n",
       "      <td>NaN</td>\n",
       "      <td>1</td>\n",
       "      <td>0</td>\n",
       "      <td>0</td>\n",
       "    </tr>\n",
       "    <tr>\n",
       "      <th>222536</th>\n",
       "      <td>135556</td>\n",
       "      <td>Bogusaw Stanisaw Zychowicz</td>\n",
       "      <td>M</td>\n",
       "      <td>19.0</td>\n",
       "      <td>189.0</td>\n",
       "      <td>80.0</td>\n",
       "      <td>Poland</td>\n",
       "      <td>POL</td>\n",
       "      <td>1980 Summer</td>\n",
       "      <td>1980</td>\n",
       "      <td>Summer</td>\n",
       "      <td>Moskva</td>\n",
       "      <td>Swimming</td>\n",
       "      <td>Swimming Men's 100 metres Butterfly</td>\n",
       "      <td>NaN</td>\n",
       "      <td>Poland</td>\n",
       "      <td>NaN</td>\n",
       "      <td>0</td>\n",
       "      <td>0</td>\n",
       "      <td>0</td>\n",
       "    </tr>\n",
       "    <tr>\n",
       "      <th>222537</th>\n",
       "      <td>135556</td>\n",
       "      <td>Bogusaw Stanisaw Zychowicz</td>\n",
       "      <td>M</td>\n",
       "      <td>19.0</td>\n",
       "      <td>189.0</td>\n",
       "      <td>80.0</td>\n",
       "      <td>Poland</td>\n",
       "      <td>POL</td>\n",
       "      <td>1980 Summer</td>\n",
       "      <td>1980</td>\n",
       "      <td>Summer</td>\n",
       "      <td>Moskva</td>\n",
       "      <td>Swimming</td>\n",
       "      <td>Swimming Men's 200 metres Butterfly</td>\n",
       "      <td>NaN</td>\n",
       "      <td>Poland</td>\n",
       "      <td>NaN</td>\n",
       "      <td>0</td>\n",
       "      <td>0</td>\n",
       "      <td>0</td>\n",
       "    </tr>\n",
       "    <tr>\n",
       "      <th>222541</th>\n",
       "      <td>135560</td>\n",
       "      <td>Stavroula Zygouri</td>\n",
       "      <td>F</td>\n",
       "      <td>36.0</td>\n",
       "      <td>171.0</td>\n",
       "      <td>63.0</td>\n",
       "      <td>Greece</td>\n",
       "      <td>GRE</td>\n",
       "      <td>2004 Summer</td>\n",
       "      <td>2004</td>\n",
       "      <td>Summer</td>\n",
       "      <td>Athina</td>\n",
       "      <td>Wrestling</td>\n",
       "      <td>Wrestling Women's Middleweight, Freestyle</td>\n",
       "      <td>NaN</td>\n",
       "      <td>Greece</td>\n",
       "      <td>NaN</td>\n",
       "      <td>0</td>\n",
       "      <td>0</td>\n",
       "      <td>0</td>\n",
       "    </tr>\n",
       "  </tbody>\n",
       "</table>\n",
       "<p>105636 rows × 20 columns</p>\n",
       "</div>"
      ],
      "text/plain": [
       "            ID                                 Name Sex   Age  Height  Weight  \\\n",
       "0            1                            A Dijiang   M  24.0   180.0    80.0   \n",
       "1            2                             A Lamusi   M  23.0   170.0    60.0   \n",
       "2            3                  Gunnar Nielsen Aaby   M  24.0     NaN     NaN   \n",
       "3            4                 Edgar Lindenau Aabye   M  34.0     NaN     NaN   \n",
       "4            8   Cornelia \"Cor\" Aalten (-Strannood)   F  18.0   168.0     NaN   \n",
       "...        ...                                  ...  ..   ...     ...     ...   \n",
       "222528  135553  Galina Ivanovna Zybina (-Fyodorova)   F  25.0   168.0    80.0   \n",
       "222530  135553  Galina Ivanovna Zybina (-Fyodorova)   F  33.0   168.0    80.0   \n",
       "222536  135556           Bogusaw Stanisaw Zychowicz   M  19.0   189.0    80.0   \n",
       "222537  135556           Bogusaw Stanisaw Zychowicz   M  19.0   189.0    80.0   \n",
       "222541  135560                    Stavroula Zygouri   F  36.0   171.0    63.0   \n",
       "\n",
       "                  Team  NOC        Games  Year  Season         City  \\\n",
       "0                China  CHN  1992 Summer  1992  Summer    Barcelona   \n",
       "1                China  CHN  2012 Summer  2012  Summer       London   \n",
       "2              Denmark  DEN  1920 Summer  1920  Summer    Antwerpen   \n",
       "3       Denmark/Sweden  DEN  1900 Summer  1900  Summer        Paris   \n",
       "4          Netherlands  NED  1932 Summer  1932  Summer  Los Angeles   \n",
       "...                ...  ...          ...   ...     ...          ...   \n",
       "222528    Soviet Union  URS  1956 Summer  1956  Summer    Melbourne   \n",
       "222530    Soviet Union  URS  1964 Summer  1964  Summer        Tokyo   \n",
       "222536          Poland  POL  1980 Summer  1980  Summer       Moskva   \n",
       "222537          Poland  POL  1980 Summer  1980  Summer       Moskva   \n",
       "222541          Greece  GRE  2004 Summer  2004  Summer       Athina   \n",
       "\n",
       "             Sport                                      Event   Medal  \\\n",
       "0       Basketball                Basketball Men's Basketball     NaN   \n",
       "1             Judo               Judo Men's Extra-Lightweight     NaN   \n",
       "2         Football                    Football Men's Football     NaN   \n",
       "3       Tug-Of-War                Tug-Of-War Men's Tug-Of-War    Gold   \n",
       "4        Athletics               Athletics Women's 100 metres     NaN   \n",
       "...            ...                                        ...     ...   \n",
       "222528   Athletics                 Athletics Women's Shot Put  Silver   \n",
       "222530   Athletics                 Athletics Women's Shot Put  Bronze   \n",
       "222536    Swimming        Swimming Men's 100 metres Butterfly     NaN   \n",
       "222537    Swimming        Swimming Men's 200 metres Butterfly     NaN   \n",
       "222541   Wrestling  Wrestling Women's Middleweight, Freestyle     NaN   \n",
       "\n",
       "             region notes  Bronze  Gold  Silver  \n",
       "0             China   NaN       0     0       0  \n",
       "1             China   NaN       0     0       0  \n",
       "2           Denmark   NaN       0     0       0  \n",
       "3           Denmark   NaN       0     1       0  \n",
       "4       Netherlands   NaN       0     0       0  \n",
       "...             ...   ...     ...   ...     ...  \n",
       "222528       Russia   NaN       0     0       1  \n",
       "222530       Russia   NaN       1     0       0  \n",
       "222536       Poland   NaN       0     0       0  \n",
       "222537       Poland   NaN       0     0       0  \n",
       "222541       Greece   NaN       0     0       0  \n",
       "\n",
       "[105636 rows x 20 columns]"
      ]
     },
     "execution_count": 35,
     "metadata": {},
     "output_type": "execute_result"
    }
   ],
   "source": [
    "df.drop_duplicates(subset=['Team','NOC','Games','Year','City','Sport','Medal','Event'])\n",
    "# dropping duplicate values whose teams , noc , games , year  , city , sport , medal , events are same "
   ]
  },
  {
   "cell_type": "code",
   "execution_count": 36,
   "id": "c53e0bae",
   "metadata": {
    "execution": {
     "iopub.execute_input": "2021-10-03T10:57:17.116851Z",
     "iopub.status.busy": "2021-10-03T10:57:17.115882Z",
     "iopub.status.idle": "2021-10-03T10:57:17.286837Z",
     "shell.execute_reply": "2021-10-03T10:57:17.286238Z",
     "shell.execute_reply.started": "2021-10-03T08:02:38.981550Z"
    },
    "papermill": {
     "duration": 0.325485,
     "end_time": "2021-10-03T10:57:17.286978",
     "exception": false,
     "start_time": "2021-10-03T10:57:16.961493",
     "status": "completed"
    },
    "tags": []
   },
   "outputs": [],
   "source": [
    "df=df.drop_duplicates(subset=['Team','NOC','Games','Year','City','Sport','Medal','Event'])\n"
   ]
  },
  {
   "cell_type": "markdown",
   "id": "c9019fd0",
   "metadata": {
    "papermill": {
     "duration": 0.149744,
     "end_time": "2021-10-03T10:57:17.576957",
     "exception": false,
     "start_time": "2021-10-03T10:57:17.427213",
     "status": "completed"
    },
    "tags": []
   },
   "source": []
  },
  {
   "cell_type": "code",
   "execution_count": 37,
   "id": "da6cb846",
   "metadata": {
    "execution": {
     "iopub.execute_input": "2021-10-03T10:57:17.880565Z",
     "iopub.status.busy": "2021-10-03T10:57:17.879840Z",
     "iopub.status.idle": "2021-10-03T10:57:17.914251Z",
     "shell.execute_reply": "2021-10-03T10:57:17.915200Z",
     "shell.execute_reply.started": "2021-10-03T08:02:39.135923Z"
    },
    "papermill": {
     "duration": 0.189549,
     "end_time": "2021-10-03T10:57:17.915440",
     "exception": false,
     "start_time": "2021-10-03T10:57:17.725891",
     "status": "completed"
    },
    "tags": []
   },
   "outputs": [],
   "source": [
    "medal_tally=df.groupby('NOC').sum()[['Gold','Silver','Bronze']].sort_values('Gold',ascending=False).reset_index()"
   ]
  },
  {
   "cell_type": "code",
   "execution_count": 38,
   "id": "f96d9b53",
   "metadata": {
    "execution": {
     "iopub.execute_input": "2021-10-03T10:57:18.198835Z",
     "iopub.status.busy": "2021-10-03T10:57:18.195566Z",
     "iopub.status.idle": "2021-10-03T10:57:18.214020Z",
     "shell.execute_reply": "2021-10-03T10:57:18.214630Z",
     "shell.execute_reply.started": "2021-10-03T08:02:39.174981Z"
    },
    "papermill": {
     "duration": 0.160268,
     "end_time": "2021-10-03T10:57:18.214805",
     "exception": false,
     "start_time": "2021-10-03T10:57:18.054537",
     "status": "completed"
    },
    "tags": []
   },
   "outputs": [
    {
     "data": {
      "text/html": [
       "<div>\n",
       "<style scoped>\n",
       "    .dataframe tbody tr th:only-of-type {\n",
       "        vertical-align: middle;\n",
       "    }\n",
       "\n",
       "    .dataframe tbody tr th {\n",
       "        vertical-align: top;\n",
       "    }\n",
       "\n",
       "    .dataframe thead th {\n",
       "        text-align: right;\n",
       "    }\n",
       "</style>\n",
       "<table border=\"1\" class=\"dataframe\">\n",
       "  <thead>\n",
       "    <tr style=\"text-align: right;\">\n",
       "      <th></th>\n",
       "      <th>NOC</th>\n",
       "      <th>Gold</th>\n",
       "      <th>Silver</th>\n",
       "      <th>Bronze</th>\n",
       "    </tr>\n",
       "  </thead>\n",
       "  <tbody>\n",
       "    <tr>\n",
       "      <th>0</th>\n",
       "      <td>USA</td>\n",
       "      <td>1035.0</td>\n",
       "      <td>802.0</td>\n",
       "      <td>708.0</td>\n",
       "    </tr>\n",
       "    <tr>\n",
       "      <th>1</th>\n",
       "      <td>URS</td>\n",
       "      <td>394.0</td>\n",
       "      <td>317.0</td>\n",
       "      <td>294.0</td>\n",
       "    </tr>\n",
       "    <tr>\n",
       "      <th>2</th>\n",
       "      <td>GBR</td>\n",
       "      <td>278.0</td>\n",
       "      <td>317.0</td>\n",
       "      <td>300.0</td>\n",
       "    </tr>\n",
       "    <tr>\n",
       "      <th>3</th>\n",
       "      <td>GER</td>\n",
       "      <td>235.0</td>\n",
       "      <td>261.0</td>\n",
       "      <td>283.0</td>\n",
       "    </tr>\n",
       "    <tr>\n",
       "      <th>4</th>\n",
       "      <td>FRA</td>\n",
       "      <td>234.0</td>\n",
       "      <td>256.0</td>\n",
       "      <td>287.0</td>\n",
       "    </tr>\n",
       "    <tr>\n",
       "      <th>...</th>\n",
       "      <td>...</td>\n",
       "      <td>...</td>\n",
       "      <td>...</td>\n",
       "      <td>...</td>\n",
       "    </tr>\n",
       "    <tr>\n",
       "      <th>225</th>\n",
       "      <td>AHO</td>\n",
       "      <td>0.0</td>\n",
       "      <td>1.0</td>\n",
       "      <td>0.0</td>\n",
       "    </tr>\n",
       "    <tr>\n",
       "      <th>226</th>\n",
       "      <td>LBR</td>\n",
       "      <td>0.0</td>\n",
       "      <td>0.0</td>\n",
       "      <td>0.0</td>\n",
       "    </tr>\n",
       "    <tr>\n",
       "      <th>227</th>\n",
       "      <td>LCA</td>\n",
       "      <td>0.0</td>\n",
       "      <td>0.0</td>\n",
       "      <td>0.0</td>\n",
       "    </tr>\n",
       "    <tr>\n",
       "      <th>228</th>\n",
       "      <td>LES</td>\n",
       "      <td>0.0</td>\n",
       "      <td>0.0</td>\n",
       "      <td>0.0</td>\n",
       "    </tr>\n",
       "    <tr>\n",
       "      <th>229</th>\n",
       "      <td>LBA</td>\n",
       "      <td>0.0</td>\n",
       "      <td>0.0</td>\n",
       "      <td>0.0</td>\n",
       "    </tr>\n",
       "  </tbody>\n",
       "</table>\n",
       "<p>230 rows × 4 columns</p>\n",
       "</div>"
      ],
      "text/plain": [
       "     NOC    Gold  Silver  Bronze\n",
       "0    USA  1035.0   802.0   708.0\n",
       "1    URS   394.0   317.0   294.0\n",
       "2    GBR   278.0   317.0   300.0\n",
       "3    GER   235.0   261.0   283.0\n",
       "4    FRA   234.0   256.0   287.0\n",
       "..   ...     ...     ...     ...\n",
       "225  AHO     0.0     1.0     0.0\n",
       "226  LBR     0.0     0.0     0.0\n",
       "227  LCA     0.0     0.0     0.0\n",
       "228  LES     0.0     0.0     0.0\n",
       "229  LBA     0.0     0.0     0.0\n",
       "\n",
       "[230 rows x 4 columns]"
      ]
     },
     "execution_count": 38,
     "metadata": {},
     "output_type": "execute_result"
    }
   ],
   "source": [
    "medal_tally=medal_tally.groupby('NOC').sum()[['Gold','Silver','Bronze']].sort_values('Gold',ascending=False).reset_index()\n",
    "medal_tally"
   ]
  },
  {
   "cell_type": "code",
   "execution_count": 39,
   "id": "9b845695",
   "metadata": {
    "execution": {
     "iopub.execute_input": "2021-10-03T10:57:18.489199Z",
     "iopub.status.busy": "2021-10-03T10:57:18.488517Z",
     "iopub.status.idle": "2021-10-03T10:57:18.499018Z",
     "shell.execute_reply": "2021-10-03T10:57:18.499566Z",
     "shell.execute_reply.started": "2021-10-03T08:02:39.200203Z"
    },
    "papermill": {
     "duration": 0.148664,
     "end_time": "2021-10-03T10:57:18.499747",
     "exception": false,
     "start_time": "2021-10-03T10:57:18.351083",
     "status": "completed"
    },
    "tags": []
   },
   "outputs": [
    {
     "data": {
      "text/html": [
       "<div>\n",
       "<style scoped>\n",
       "    .dataframe tbody tr th:only-of-type {\n",
       "        vertical-align: middle;\n",
       "    }\n",
       "\n",
       "    .dataframe tbody tr th {\n",
       "        vertical-align: top;\n",
       "    }\n",
       "\n",
       "    .dataframe thead th {\n",
       "        text-align: right;\n",
       "    }\n",
       "</style>\n",
       "<table border=\"1\" class=\"dataframe\">\n",
       "  <thead>\n",
       "    <tr style=\"text-align: right;\">\n",
       "      <th></th>\n",
       "      <th>NOC</th>\n",
       "      <th>Gold</th>\n",
       "      <th>Silver</th>\n",
       "      <th>Bronze</th>\n",
       "    </tr>\n",
       "  </thead>\n",
       "  <tbody>\n",
       "    <tr>\n",
       "      <th>67</th>\n",
       "      <td>PAK</td>\n",
       "      <td>3.0</td>\n",
       "      <td>3.0</td>\n",
       "      <td>4.0</td>\n",
       "    </tr>\n",
       "  </tbody>\n",
       "</table>\n",
       "</div>"
      ],
      "text/plain": [
       "    NOC  Gold  Silver  Bronze\n",
       "67  PAK   3.0     3.0     4.0"
      ]
     },
     "execution_count": 39,
     "metadata": {},
     "output_type": "execute_result"
    }
   ],
   "source": [
    "medal_tally[medal_tally['NOC']=='PAK']"
   ]
  },
  {
   "cell_type": "code",
   "execution_count": 40,
   "id": "38352ca3",
   "metadata": {
    "execution": {
     "iopub.execute_input": "2021-10-03T10:57:18.777755Z",
     "iopub.status.busy": "2021-10-03T10:57:18.777059Z",
     "iopub.status.idle": "2021-10-03T10:57:18.782877Z",
     "shell.execute_reply": "2021-10-03T10:57:18.783501Z",
     "shell.execute_reply.started": "2021-10-03T08:02:39.212776Z"
    },
    "papermill": {
     "duration": 0.14568,
     "end_time": "2021-10-03T10:57:18.783699",
     "exception": false,
     "start_time": "2021-10-03T10:57:18.638019",
     "status": "completed"
    },
    "tags": []
   },
   "outputs": [],
   "source": [
    "medal_tally['total']=medal_tally['Gold']+medal_tally['Silver']+medal_tally['Bronze']"
   ]
  },
  {
   "cell_type": "code",
   "execution_count": 41,
   "id": "e152c09e",
   "metadata": {
    "execution": {
     "iopub.execute_input": "2021-10-03T10:57:19.058699Z",
     "iopub.status.busy": "2021-10-03T10:57:19.057989Z",
     "iopub.status.idle": "2021-10-03T10:57:19.070086Z",
     "shell.execute_reply": "2021-10-03T10:57:19.070644Z",
     "shell.execute_reply.started": "2021-10-03T08:02:39.224407Z"
    },
    "papermill": {
     "duration": 0.152123,
     "end_time": "2021-10-03T10:57:19.070816",
     "exception": false,
     "start_time": "2021-10-03T10:57:18.918693",
     "status": "completed"
    },
    "tags": []
   },
   "outputs": [
    {
     "data": {
      "text/html": [
       "<div>\n",
       "<style scoped>\n",
       "    .dataframe tbody tr th:only-of-type {\n",
       "        vertical-align: middle;\n",
       "    }\n",
       "\n",
       "    .dataframe tbody tr th {\n",
       "        vertical-align: top;\n",
       "    }\n",
       "\n",
       "    .dataframe thead th {\n",
       "        text-align: right;\n",
       "    }\n",
       "</style>\n",
       "<table border=\"1\" class=\"dataframe\">\n",
       "  <thead>\n",
       "    <tr style=\"text-align: right;\">\n",
       "      <th></th>\n",
       "      <th>NOC</th>\n",
       "      <th>Gold</th>\n",
       "      <th>Silver</th>\n",
       "      <th>Bronze</th>\n",
       "      <th>total</th>\n",
       "    </tr>\n",
       "  </thead>\n",
       "  <tbody>\n",
       "    <tr>\n",
       "      <th>0</th>\n",
       "      <td>USA</td>\n",
       "      <td>1035.0</td>\n",
       "      <td>802.0</td>\n",
       "      <td>708.0</td>\n",
       "      <td>2545.0</td>\n",
       "    </tr>\n",
       "    <tr>\n",
       "      <th>1</th>\n",
       "      <td>URS</td>\n",
       "      <td>394.0</td>\n",
       "      <td>317.0</td>\n",
       "      <td>294.0</td>\n",
       "      <td>1005.0</td>\n",
       "    </tr>\n",
       "    <tr>\n",
       "      <th>2</th>\n",
       "      <td>GBR</td>\n",
       "      <td>278.0</td>\n",
       "      <td>317.0</td>\n",
       "      <td>300.0</td>\n",
       "      <td>895.0</td>\n",
       "    </tr>\n",
       "    <tr>\n",
       "      <th>3</th>\n",
       "      <td>GER</td>\n",
       "      <td>235.0</td>\n",
       "      <td>261.0</td>\n",
       "      <td>283.0</td>\n",
       "      <td>779.0</td>\n",
       "    </tr>\n",
       "    <tr>\n",
       "      <th>4</th>\n",
       "      <td>FRA</td>\n",
       "      <td>234.0</td>\n",
       "      <td>256.0</td>\n",
       "      <td>287.0</td>\n",
       "      <td>777.0</td>\n",
       "    </tr>\n",
       "  </tbody>\n",
       "</table>\n",
       "</div>"
      ],
      "text/plain": [
       "   NOC    Gold  Silver  Bronze   total\n",
       "0  USA  1035.0   802.0   708.0  2545.0\n",
       "1  URS   394.0   317.0   294.0  1005.0\n",
       "2  GBR   278.0   317.0   300.0   895.0\n",
       "3  GER   235.0   261.0   283.0   779.0\n",
       "4  FRA   234.0   256.0   287.0   777.0"
      ]
     },
     "execution_count": 41,
     "metadata": {},
     "output_type": "execute_result"
    }
   ],
   "source": [
    "medal_tally.head(5)"
   ]
  },
  {
   "cell_type": "code",
   "execution_count": 42,
   "id": "db5dc62c",
   "metadata": {
    "execution": {
     "iopub.execute_input": "2021-10-03T10:57:19.345926Z",
     "iopub.status.busy": "2021-10-03T10:57:19.345259Z",
     "iopub.status.idle": "2021-10-03T10:57:19.365188Z",
     "shell.execute_reply": "2021-10-03T10:57:19.365739Z",
     "shell.execute_reply.started": "2021-10-03T08:02:39.242531Z"
    },
    "papermill": {
     "duration": 0.159019,
     "end_time": "2021-10-03T10:57:19.365909",
     "exception": false,
     "start_time": "2021-10-03T10:57:19.206890",
     "status": "completed"
    },
    "tags": []
   },
   "outputs": [
    {
     "data": {
      "text/html": [
       "<div>\n",
       "<style scoped>\n",
       "    .dataframe tbody tr th:only-of-type {\n",
       "        vertical-align: middle;\n",
       "    }\n",
       "\n",
       "    .dataframe tbody tr th {\n",
       "        vertical-align: top;\n",
       "    }\n",
       "\n",
       "    .dataframe thead th {\n",
       "        text-align: right;\n",
       "    }\n",
       "</style>\n",
       "<table border=\"1\" class=\"dataframe\">\n",
       "  <thead>\n",
       "    <tr style=\"text-align: right;\">\n",
       "      <th></th>\n",
       "      <th>ID</th>\n",
       "      <th>Name</th>\n",
       "      <th>Sex</th>\n",
       "      <th>Age</th>\n",
       "      <th>Height</th>\n",
       "      <th>Weight</th>\n",
       "      <th>Team</th>\n",
       "      <th>NOC</th>\n",
       "      <th>Games</th>\n",
       "      <th>Year</th>\n",
       "      <th>Season</th>\n",
       "      <th>City</th>\n",
       "      <th>Sport</th>\n",
       "      <th>Event</th>\n",
       "      <th>Medal</th>\n",
       "      <th>region</th>\n",
       "      <th>notes</th>\n",
       "      <th>Bronze</th>\n",
       "      <th>Gold</th>\n",
       "      <th>Silver</th>\n",
       "    </tr>\n",
       "  </thead>\n",
       "  <tbody>\n",
       "    <tr>\n",
       "      <th>31685</th>\n",
       "      <td>19465</td>\n",
       "      <td>Vittoria Cesarini</td>\n",
       "      <td>F</td>\n",
       "      <td>19.0</td>\n",
       "      <td>NaN</td>\n",
       "      <td>NaN</td>\n",
       "      <td>Italy</td>\n",
       "      <td>ITA</td>\n",
       "      <td>1952 Summer</td>\n",
       "      <td>1952</td>\n",
       "      <td>Summer</td>\n",
       "      <td>Helsinki</td>\n",
       "      <td>Athletics</td>\n",
       "      <td>Athletics Women's 100 metres</td>\n",
       "      <td>NaN</td>\n",
       "      <td>Italy</td>\n",
       "      <td>NaN</td>\n",
       "      <td>0</td>\n",
       "      <td>0</td>\n",
       "      <td>0</td>\n",
       "    </tr>\n",
       "    <tr>\n",
       "      <th>139792</th>\n",
       "      <td>85286</td>\n",
       "      <td>Aleksey Yuryevich Nemov</td>\n",
       "      <td>M</td>\n",
       "      <td>20.0</td>\n",
       "      <td>174.0</td>\n",
       "      <td>75.0</td>\n",
       "      <td>Russia</td>\n",
       "      <td>RUS</td>\n",
       "      <td>1996 Summer</td>\n",
       "      <td>1996</td>\n",
       "      <td>Summer</td>\n",
       "      <td>Atlanta</td>\n",
       "      <td>Gymnastics</td>\n",
       "      <td>Gymnastics Men's Individual All-Around</td>\n",
       "      <td>Silver</td>\n",
       "      <td>Russia</td>\n",
       "      <td>NaN</td>\n",
       "      <td>0</td>\n",
       "      <td>0</td>\n",
       "      <td>1</td>\n",
       "    </tr>\n",
       "  </tbody>\n",
       "</table>\n",
       "</div>"
      ],
      "text/plain": [
       "           ID                     Name Sex   Age  Height  Weight    Team  NOC  \\\n",
       "31685   19465        Vittoria Cesarini   F  19.0     NaN     NaN   Italy  ITA   \n",
       "139792  85286  Aleksey Yuryevich Nemov   M  20.0   174.0    75.0  Russia  RUS   \n",
       "\n",
       "              Games  Year  Season      City       Sport  \\\n",
       "31685   1952 Summer  1952  Summer  Helsinki   Athletics   \n",
       "139792  1996 Summer  1996  Summer   Atlanta  Gymnastics   \n",
       "\n",
       "                                         Event   Medal  region notes  Bronze  \\\n",
       "31685             Athletics Women's 100 metres     NaN   Italy   NaN       0   \n",
       "139792  Gymnastics Men's Individual All-Around  Silver  Russia   NaN       0   \n",
       "\n",
       "        Gold  Silver  \n",
       "31685      0       0  \n",
       "139792     0       1  "
      ]
     },
     "execution_count": 42,
     "metadata": {},
     "output_type": "execute_result"
    }
   ],
   "source": [
    "df.sample(2)"
   ]
  },
  {
   "cell_type": "code",
   "execution_count": 43,
   "id": "2e1fbe5d",
   "metadata": {
    "execution": {
     "iopub.execute_input": "2021-10-03T10:57:19.644737Z",
     "iopub.status.busy": "2021-10-03T10:57:19.644035Z",
     "iopub.status.idle": "2021-10-03T10:57:19.648242Z",
     "shell.execute_reply": "2021-10-03T10:57:19.648764Z",
     "shell.execute_reply.started": "2021-10-03T08:02:39.271224Z"
    },
    "papermill": {
     "duration": 0.145696,
     "end_time": "2021-10-03T10:57:19.648932",
     "exception": false,
     "start_time": "2021-10-03T10:57:19.503236",
     "status": "completed"
    },
    "tags": []
   },
   "outputs": [],
   "source": [
    "years=df['Year'].unique().tolist()"
   ]
  },
  {
   "cell_type": "code",
   "execution_count": 44,
   "id": "8f2efe93",
   "metadata": {
    "execution": {
     "iopub.execute_input": "2021-10-03T10:57:19.926432Z",
     "iopub.status.busy": "2021-10-03T10:57:19.925772Z",
     "iopub.status.idle": "2021-10-03T10:57:19.930888Z",
     "shell.execute_reply": "2021-10-03T10:57:19.931510Z",
     "shell.execute_reply.started": "2021-10-03T08:02:39.278633Z"
    },
    "papermill": {
     "duration": 0.146249,
     "end_time": "2021-10-03T10:57:19.931681",
     "exception": false,
     "start_time": "2021-10-03T10:57:19.785432",
     "status": "completed"
    },
    "tags": []
   },
   "outputs": [
    {
     "data": {
      "text/plain": [
       "[1896,\n",
       " 1900,\n",
       " 1904,\n",
       " 1906,\n",
       " 1908,\n",
       " 1912,\n",
       " 1920,\n",
       " 1924,\n",
       " 1928,\n",
       " 1932,\n",
       " 1936,\n",
       " 1948,\n",
       " 1952,\n",
       " 1956,\n",
       " 1960,\n",
       " 1964,\n",
       " 1968,\n",
       " 1972,\n",
       " 1976,\n",
       " 1980,\n",
       " 1984,\n",
       " 1988,\n",
       " 1992,\n",
       " 1996,\n",
       " 2000,\n",
       " 2004,\n",
       " 2008,\n",
       " 2012,\n",
       " 2016]"
      ]
     },
     "execution_count": 44,
     "metadata": {},
     "output_type": "execute_result"
    }
   ],
   "source": [
    "years.sort()\n",
    "years"
   ]
  },
  {
   "cell_type": "code",
   "execution_count": 45,
   "id": "aec439ea",
   "metadata": {
    "execution": {
     "iopub.execute_input": "2021-10-03T10:57:20.209679Z",
     "iopub.status.busy": "2021-10-03T10:57:20.208953Z",
     "iopub.status.idle": "2021-10-03T10:57:20.212477Z",
     "shell.execute_reply": "2021-10-03T10:57:20.212922Z",
     "shell.execute_reply.started": "2021-10-03T08:02:39.292345Z"
    },
    "papermill": {
     "duration": 0.143199,
     "end_time": "2021-10-03T10:57:20.213110",
     "exception": false,
     "start_time": "2021-10-03T10:57:20.069911",
     "status": "completed"
    },
    "tags": []
   },
   "outputs": [],
   "source": [
    "years.insert(0,'Overall')"
   ]
  },
  {
   "cell_type": "code",
   "execution_count": 46,
   "id": "cb5a2257",
   "metadata": {
    "execution": {
     "iopub.execute_input": "2021-10-03T10:57:20.503823Z",
     "iopub.status.busy": "2021-10-03T10:57:20.503105Z",
     "iopub.status.idle": "2021-10-03T10:57:20.505382Z",
     "shell.execute_reply": "2021-10-03T10:57:20.505901Z",
     "shell.execute_reply.started": "2021-10-03T08:02:39.302131Z"
    },
    "papermill": {
     "duration": 0.157083,
     "end_time": "2021-10-03T10:57:20.506068",
     "exception": false,
     "start_time": "2021-10-03T10:57:20.348985",
     "status": "completed"
    },
    "tags": []
   },
   "outputs": [],
   "source": [
    "country=df['region'].unique().tolist()\n",
    "#country.sort()\n",
    "# we cannot sort this as we have a data in country as NAN which is of type float so this won't work out "
   ]
  },
  {
   "cell_type": "code",
   "execution_count": 47,
   "id": "31ebdeb4",
   "metadata": {
    "execution": {
     "iopub.execute_input": "2021-10-03T10:57:20.782365Z",
     "iopub.status.busy": "2021-10-03T10:57:20.781686Z",
     "iopub.status.idle": "2021-10-03T10:57:20.934139Z",
     "shell.execute_reply": "2021-10-03T10:57:20.934646Z",
     "shell.execute_reply.started": "2021-10-03T08:02:39.318305Z"
    },
    "papermill": {
     "duration": 0.291722,
     "end_time": "2021-10-03T10:57:20.934823",
     "exception": false,
     "start_time": "2021-10-03T10:57:20.643101",
     "status": "completed"
    },
    "tags": []
   },
   "outputs": [
    {
     "data": {
      "text/plain": [
       "['Afghanistan',\n",
       " 'Albania',\n",
       " 'Algeria',\n",
       " 'American Samoa',\n",
       " 'Andorra',\n",
       " 'Angola',\n",
       " 'Antigua',\n",
       " 'Argentina',\n",
       " 'Armenia',\n",
       " 'Aruba',\n",
       " 'Australia',\n",
       " 'Austria',\n",
       " 'Azerbaijan',\n",
       " 'Bahamas',\n",
       " 'Bahrain',\n",
       " 'Bangladesh',\n",
       " 'Barbados',\n",
       " 'Belarus',\n",
       " 'Belgium',\n",
       " 'Belize',\n",
       " 'Benin',\n",
       " 'Bermuda',\n",
       " 'Bhutan',\n",
       " 'Boliva',\n",
       " 'Bosnia and Herzegovina',\n",
       " 'Botswana',\n",
       " 'Brazil',\n",
       " 'Brunei',\n",
       " 'Bulgaria',\n",
       " 'Burkina Faso',\n",
       " 'Burundi',\n",
       " 'Cambodia',\n",
       " 'Cameroon',\n",
       " 'Canada',\n",
       " 'Cape Verde',\n",
       " 'Cayman Islands',\n",
       " 'Central African Republic',\n",
       " 'Chad',\n",
       " 'Chile',\n",
       " 'China',\n",
       " 'Colombia',\n",
       " 'Comoros',\n",
       " 'Cook Islands',\n",
       " 'Costa Rica',\n",
       " 'Croatia',\n",
       " 'Cuba',\n",
       " 'Curacao',\n",
       " 'Cyprus',\n",
       " 'Czech Republic',\n",
       " 'Democratic Republic of the Congo',\n",
       " 'Denmark',\n",
       " 'Djibouti',\n",
       " 'Dominica',\n",
       " 'Dominican Republic',\n",
       " 'Ecuador',\n",
       " 'Egypt',\n",
       " 'El Salvador',\n",
       " 'Equatorial Guinea',\n",
       " 'Eritrea',\n",
       " 'Estonia',\n",
       " 'Ethiopia',\n",
       " 'Fiji',\n",
       " 'Finland',\n",
       " 'France',\n",
       " 'Gabon',\n",
       " 'Gambia',\n",
       " 'Georgia',\n",
       " 'Germany',\n",
       " 'Ghana',\n",
       " 'Greece',\n",
       " 'Grenada',\n",
       " 'Guam',\n",
       " 'Guatemala',\n",
       " 'Guinea',\n",
       " 'Guinea-Bissau',\n",
       " 'Guyana',\n",
       " 'Haiti',\n",
       " 'Honduras',\n",
       " 'Hungary',\n",
       " 'Iceland',\n",
       " 'India',\n",
       " 'Individual Olympic Athletes',\n",
       " 'Indonesia',\n",
       " 'Iran',\n",
       " 'Iraq',\n",
       " 'Ireland',\n",
       " 'Israel',\n",
       " 'Italy',\n",
       " 'Ivory Coast',\n",
       " 'Jamaica',\n",
       " 'Japan',\n",
       " 'Jordan',\n",
       " 'Kazakhstan',\n",
       " 'Kenya',\n",
       " 'Kiribati',\n",
       " 'Kosovo',\n",
       " 'Kuwait',\n",
       " 'Kyrgyzstan',\n",
       " 'Laos',\n",
       " 'Latvia',\n",
       " 'Lebanon',\n",
       " 'Lesotho',\n",
       " 'Liberia',\n",
       " 'Libya',\n",
       " 'Liechtenstein',\n",
       " 'Lithuania',\n",
       " 'Luxembourg',\n",
       " 'Macedonia',\n",
       " 'Madagascar',\n",
       " 'Malawi',\n",
       " 'Malaysia',\n",
       " 'Maldives',\n",
       " 'Mali',\n",
       " 'Malta',\n",
       " 'Marshall Islands',\n",
       " 'Mauritania',\n",
       " 'Mauritius',\n",
       " 'Mexico',\n",
       " 'Micronesia',\n",
       " 'Moldova',\n",
       " 'Monaco',\n",
       " 'Mongolia',\n",
       " 'Montenegro',\n",
       " 'Morocco',\n",
       " 'Mozambique',\n",
       " 'Myanmar',\n",
       " 'Namibia',\n",
       " 'Nauru',\n",
       " 'Nepal',\n",
       " 'Netherlands',\n",
       " 'New Zealand',\n",
       " 'Nicaragua',\n",
       " 'Niger',\n",
       " 'Nigeria',\n",
       " 'North Korea',\n",
       " 'Norway',\n",
       " 'Oman',\n",
       " 'Pakistan',\n",
       " 'Palau',\n",
       " 'Palestine',\n",
       " 'Panama',\n",
       " 'Papua New Guinea',\n",
       " 'Paraguay',\n",
       " 'Peru',\n",
       " 'Philippines',\n",
       " 'Poland',\n",
       " 'Portugal',\n",
       " 'Puerto Rico',\n",
       " 'Qatar',\n",
       " 'Republic of Congo',\n",
       " 'Romania',\n",
       " 'Russia',\n",
       " 'Rwanda',\n",
       " 'Saint Kitts',\n",
       " 'Saint Lucia',\n",
       " 'Saint Vincent',\n",
       " 'Samoa',\n",
       " 'San Marino',\n",
       " 'Sao Tome and Principe',\n",
       " 'Saudi Arabia',\n",
       " 'Senegal',\n",
       " 'Serbia',\n",
       " 'Seychelles',\n",
       " 'Sierra Leone',\n",
       " 'Slovakia',\n",
       " 'Slovenia',\n",
       " 'Solomon Islands',\n",
       " 'Somalia',\n",
       " 'South Africa',\n",
       " 'South Korea',\n",
       " 'South Sudan',\n",
       " 'Spain',\n",
       " 'Sri Lanka',\n",
       " 'Sudan',\n",
       " 'Suriname',\n",
       " 'Swaziland',\n",
       " 'Sweden',\n",
       " 'Switzerland',\n",
       " 'Syria',\n",
       " 'Taiwan',\n",
       " 'Tajikistan',\n",
       " 'Tanzania',\n",
       " 'Thailand',\n",
       " 'Timor-Leste',\n",
       " 'Togo',\n",
       " 'Tonga',\n",
       " 'Trinidad',\n",
       " 'Tunisia',\n",
       " 'Turkey',\n",
       " 'Turkmenistan',\n",
       " 'UK',\n",
       " 'USA',\n",
       " 'Uganda',\n",
       " 'Ukraine',\n",
       " 'United Arab Emirates',\n",
       " 'Uruguay',\n",
       " 'Uzbekistan',\n",
       " 'Vanuatu',\n",
       " 'Venezuela',\n",
       " 'Vietnam',\n",
       " 'Virgin Islands, British',\n",
       " 'Virgin Islands, US',\n",
       " 'Yemen',\n",
       " 'Zambia',\n",
       " 'Zimbabwe']"
      ]
     },
     "execution_count": 47,
     "metadata": {},
     "output_type": "execute_result"
    }
   ],
   "source": [
    "df['region'].dropna()  # drop NAN values \n",
    "\n",
    "country=np.unique(df['region'].dropna().values).tolist()\n",
    "country.sort()\n",
    "country"
   ]
  },
  {
   "cell_type": "code",
   "execution_count": 48,
   "id": "3c60160f",
   "metadata": {
    "execution": {
     "iopub.execute_input": "2021-10-03T10:57:21.213787Z",
     "iopub.status.busy": "2021-10-03T10:57:21.212803Z",
     "iopub.status.idle": "2021-10-03T10:57:21.217448Z",
     "shell.execute_reply": "2021-10-03T10:57:21.216897Z",
     "shell.execute_reply.started": "2021-10-03T08:02:39.407433Z"
    },
    "papermill": {
     "duration": 0.143898,
     "end_time": "2021-10-03T10:57:21.217593",
     "exception": false,
     "start_time": "2021-10-03T10:57:21.073695",
     "status": "completed"
    },
    "tags": []
   },
   "outputs": [],
   "source": [
    "country.insert(0,'Overall')"
   ]
  },
  {
   "cell_type": "code",
   "execution_count": 49,
   "id": "ae0d8271",
   "metadata": {
    "execution": {
     "iopub.execute_input": "2021-10-03T10:57:21.505601Z",
     "iopub.status.busy": "2021-10-03T10:57:21.504939Z",
     "iopub.status.idle": "2021-10-03T10:57:21.609583Z",
     "shell.execute_reply": "2021-10-03T10:57:21.610043Z",
     "shell.execute_reply.started": "2021-10-03T08:02:39.414782Z"
    },
    "papermill": {
     "duration": 0.254563,
     "end_time": "2021-10-03T10:57:21.610218",
     "exception": false,
     "start_time": "2021-10-03T10:57:21.355655",
     "status": "completed"
    },
    "tags": []
   },
   "outputs": [
    {
     "data": {
      "text/html": [
       "<div>\n",
       "<style scoped>\n",
       "    .dataframe tbody tr th:only-of-type {\n",
       "        vertical-align: middle;\n",
       "    }\n",
       "\n",
       "    .dataframe tbody tr th {\n",
       "        vertical-align: top;\n",
       "    }\n",
       "\n",
       "    .dataframe thead th {\n",
       "        text-align: right;\n",
       "    }\n",
       "</style>\n",
       "<table border=\"1\" class=\"dataframe\">\n",
       "  <thead>\n",
       "    <tr style=\"text-align: right;\">\n",
       "      <th></th>\n",
       "      <th>ID</th>\n",
       "      <th>Name</th>\n",
       "      <th>Sex</th>\n",
       "      <th>Age</th>\n",
       "      <th>Height</th>\n",
       "      <th>Weight</th>\n",
       "      <th>Team</th>\n",
       "      <th>NOC</th>\n",
       "      <th>Games</th>\n",
       "      <th>Year</th>\n",
       "      <th>Season</th>\n",
       "      <th>City</th>\n",
       "      <th>Sport</th>\n",
       "      <th>Event</th>\n",
       "      <th>Medal</th>\n",
       "      <th>region</th>\n",
       "      <th>notes</th>\n",
       "      <th>Bronze</th>\n",
       "      <th>Gold</th>\n",
       "      <th>Silver</th>\n",
       "    </tr>\n",
       "  </thead>\n",
       "  <tbody>\n",
       "    <tr>\n",
       "      <th>151670</th>\n",
       "      <td>92603</td>\n",
       "      <td>Anders stre Pedersen</td>\n",
       "      <td>M</td>\n",
       "      <td>25.0</td>\n",
       "      <td>189.0</td>\n",
       "      <td>98.0</td>\n",
       "      <td>Norway</td>\n",
       "      <td>NOR</td>\n",
       "      <td>2016 Summer</td>\n",
       "      <td>2016</td>\n",
       "      <td>Summer</td>\n",
       "      <td>Rio de Janeiro</td>\n",
       "      <td>Sailing</td>\n",
       "      <td>Sailing Men's One Person Heavyweight Dinghy</td>\n",
       "      <td>NaN</td>\n",
       "      <td>Norway</td>\n",
       "      <td>NaN</td>\n",
       "      <td>0</td>\n",
       "      <td>0</td>\n",
       "      <td>0</td>\n",
       "    </tr>\n",
       "    <tr>\n",
       "      <th>26215</th>\n",
       "      <td>16199</td>\n",
       "      <td>Tonja Yvette Buford-Bailey</td>\n",
       "      <td>F</td>\n",
       "      <td>21.0</td>\n",
       "      <td>176.0</td>\n",
       "      <td>62.0</td>\n",
       "      <td>United States</td>\n",
       "      <td>USA</td>\n",
       "      <td>1992 Summer</td>\n",
       "      <td>1992</td>\n",
       "      <td>Summer</td>\n",
       "      <td>Barcelona</td>\n",
       "      <td>Athletics</td>\n",
       "      <td>Athletics Women's 400 metres Hurdles</td>\n",
       "      <td>NaN</td>\n",
       "      <td>USA</td>\n",
       "      <td>NaN</td>\n",
       "      <td>0</td>\n",
       "      <td>0</td>\n",
       "      <td>0</td>\n",
       "    </tr>\n",
       "  </tbody>\n",
       "</table>\n",
       "</div>"
      ],
      "text/plain": [
       "           ID                        Name Sex   Age  Height  Weight  \\\n",
       "151670  92603        Anders stre Pedersen   M  25.0   189.0    98.0   \n",
       "26215   16199  Tonja Yvette Buford-Bailey   F  21.0   176.0    62.0   \n",
       "\n",
       "                 Team  NOC        Games  Year  Season            City  \\\n",
       "151670         Norway  NOR  2016 Summer  2016  Summer  Rio de Janeiro   \n",
       "26215   United States  USA  1992 Summer  1992  Summer       Barcelona   \n",
       "\n",
       "            Sport                                        Event Medal  region  \\\n",
       "151670    Sailing  Sailing Men's One Person Heavyweight Dinghy   NaN  Norway   \n",
       "26215   Athletics         Athletics Women's 400 metres Hurdles   NaN     USA   \n",
       "\n",
       "       notes  Bronze  Gold  Silver  \n",
       "151670   NaN       0     0       0  \n",
       "26215    NaN       0     0       0  "
      ]
     },
     "execution_count": 49,
     "metadata": {},
     "output_type": "execute_result"
    }
   ],
   "source": [
    "medal_df=df.drop_duplicates(subset=['Team','NOC','Games','Year','City','Sport','Medal','Event'])\n",
    "\n",
    "medal_df.sample(2)"
   ]
  },
  {
   "cell_type": "code",
   "execution_count": 50,
   "id": "f5e63d50",
   "metadata": {
    "execution": {
     "iopub.execute_input": "2021-10-03T10:57:21.890071Z",
     "iopub.status.busy": "2021-10-03T10:57:21.889402Z",
     "iopub.status.idle": "2021-10-03T10:57:21.933954Z",
     "shell.execute_reply": "2021-10-03T10:57:21.934459Z",
     "shell.execute_reply.started": "2021-10-03T08:02:39.515891Z"
    },
    "papermill": {
     "duration": 0.185647,
     "end_time": "2021-10-03T10:57:21.934630",
     "exception": false,
     "start_time": "2021-10-03T10:57:21.748983",
     "status": "completed"
    },
    "tags": []
   },
   "outputs": [
    {
     "data": {
      "text/html": [
       "<div>\n",
       "<style scoped>\n",
       "    .dataframe tbody tr th:only-of-type {\n",
       "        vertical-align: middle;\n",
       "    }\n",
       "\n",
       "    .dataframe tbody tr th {\n",
       "        vertical-align: top;\n",
       "    }\n",
       "\n",
       "    .dataframe thead th {\n",
       "        text-align: right;\n",
       "    }\n",
       "</style>\n",
       "<table border=\"1\" class=\"dataframe\">\n",
       "  <thead>\n",
       "    <tr style=\"text-align: right;\">\n",
       "      <th></th>\n",
       "      <th>ID</th>\n",
       "      <th>Name</th>\n",
       "      <th>Sex</th>\n",
       "      <th>Age</th>\n",
       "      <th>Height</th>\n",
       "      <th>Weight</th>\n",
       "      <th>Team</th>\n",
       "      <th>NOC</th>\n",
       "      <th>Games</th>\n",
       "      <th>Year</th>\n",
       "      <th>Season</th>\n",
       "      <th>City</th>\n",
       "      <th>Sport</th>\n",
       "      <th>Event</th>\n",
       "      <th>Medal</th>\n",
       "      <th>region</th>\n",
       "      <th>notes</th>\n",
       "      <th>Bronze</th>\n",
       "      <th>Gold</th>\n",
       "      <th>Silver</th>\n",
       "    </tr>\n",
       "  </thead>\n",
       "  <tbody>\n",
       "    <tr>\n",
       "      <th>436</th>\n",
       "      <td>281</td>\n",
       "      <td>S. Abdul Hamid</td>\n",
       "      <td>M</td>\n",
       "      <td>NaN</td>\n",
       "      <td>NaN</td>\n",
       "      <td>NaN</td>\n",
       "      <td>India</td>\n",
       "      <td>IND</td>\n",
       "      <td>1928 Summer</td>\n",
       "      <td>1928</td>\n",
       "      <td>Summer</td>\n",
       "      <td>Amsterdam</td>\n",
       "      <td>Athletics</td>\n",
       "      <td>Athletics Men's 110 metres Hurdles</td>\n",
       "      <td>NaN</td>\n",
       "      <td>India</td>\n",
       "      <td>NaN</td>\n",
       "      <td>0</td>\n",
       "      <td>0</td>\n",
       "      <td>0</td>\n",
       "    </tr>\n",
       "    <tr>\n",
       "      <th>437</th>\n",
       "      <td>281</td>\n",
       "      <td>S. Abdul Hamid</td>\n",
       "      <td>M</td>\n",
       "      <td>NaN</td>\n",
       "      <td>NaN</td>\n",
       "      <td>NaN</td>\n",
       "      <td>India</td>\n",
       "      <td>IND</td>\n",
       "      <td>1928 Summer</td>\n",
       "      <td>1928</td>\n",
       "      <td>Summer</td>\n",
       "      <td>Amsterdam</td>\n",
       "      <td>Athletics</td>\n",
       "      <td>Athletics Men's 400 metres Hurdles</td>\n",
       "      <td>NaN</td>\n",
       "      <td>India</td>\n",
       "      <td>NaN</td>\n",
       "      <td>0</td>\n",
       "      <td>0</td>\n",
       "      <td>0</td>\n",
       "    </tr>\n",
       "    <tr>\n",
       "      <th>790</th>\n",
       "      <td>512</td>\n",
       "      <td>Shiny Kurisingal Abraham-Wilson</td>\n",
       "      <td>F</td>\n",
       "      <td>19.0</td>\n",
       "      <td>167.0</td>\n",
       "      <td>53.0</td>\n",
       "      <td>India</td>\n",
       "      <td>IND</td>\n",
       "      <td>1984 Summer</td>\n",
       "      <td>1984</td>\n",
       "      <td>Summer</td>\n",
       "      <td>Los Angeles</td>\n",
       "      <td>Athletics</td>\n",
       "      <td>Athletics Women's 800 metres</td>\n",
       "      <td>NaN</td>\n",
       "      <td>India</td>\n",
       "      <td>NaN</td>\n",
       "      <td>0</td>\n",
       "      <td>0</td>\n",
       "      <td>0</td>\n",
       "    </tr>\n",
       "    <tr>\n",
       "      <th>791</th>\n",
       "      <td>512</td>\n",
       "      <td>Shiny Kurisingal Abraham-Wilson</td>\n",
       "      <td>F</td>\n",
       "      <td>19.0</td>\n",
       "      <td>167.0</td>\n",
       "      <td>53.0</td>\n",
       "      <td>India</td>\n",
       "      <td>IND</td>\n",
       "      <td>1984 Summer</td>\n",
       "      <td>1984</td>\n",
       "      <td>Summer</td>\n",
       "      <td>Los Angeles</td>\n",
       "      <td>Athletics</td>\n",
       "      <td>Athletics Women's 4 x 400 metres Relay</td>\n",
       "      <td>NaN</td>\n",
       "      <td>India</td>\n",
       "      <td>NaN</td>\n",
       "      <td>0</td>\n",
       "      <td>0</td>\n",
       "      <td>0</td>\n",
       "    </tr>\n",
       "    <tr>\n",
       "      <th>792</th>\n",
       "      <td>512</td>\n",
       "      <td>Shiny Kurisingal Abraham-Wilson</td>\n",
       "      <td>F</td>\n",
       "      <td>23.0</td>\n",
       "      <td>167.0</td>\n",
       "      <td>53.0</td>\n",
       "      <td>India</td>\n",
       "      <td>IND</td>\n",
       "      <td>1988 Summer</td>\n",
       "      <td>1988</td>\n",
       "      <td>Summer</td>\n",
       "      <td>Seoul</td>\n",
       "      <td>Athletics</td>\n",
       "      <td>Athletics Women's 800 metres</td>\n",
       "      <td>NaN</td>\n",
       "      <td>India</td>\n",
       "      <td>NaN</td>\n",
       "      <td>0</td>\n",
       "      <td>0</td>\n",
       "      <td>0</td>\n",
       "    </tr>\n",
       "    <tr>\n",
       "      <th>...</th>\n",
       "      <td>...</td>\n",
       "      <td>...</td>\n",
       "      <td>...</td>\n",
       "      <td>...</td>\n",
       "      <td>...</td>\n",
       "      <td>...</td>\n",
       "      <td>...</td>\n",
       "      <td>...</td>\n",
       "      <td>...</td>\n",
       "      <td>...</td>\n",
       "      <td>...</td>\n",
       "      <td>...</td>\n",
       "      <td>...</td>\n",
       "      <td>...</td>\n",
       "      <td>...</td>\n",
       "      <td>...</td>\n",
       "      <td>...</td>\n",
       "      <td>...</td>\n",
       "      <td>...</td>\n",
       "      <td>...</td>\n",
       "    </tr>\n",
       "    <tr>\n",
       "      <th>216942</th>\n",
       "      <td>132143</td>\n",
       "      <td>Vikas Krishan Yadav</td>\n",
       "      <td>M</td>\n",
       "      <td>24.0</td>\n",
       "      <td>177.0</td>\n",
       "      <td>69.0</td>\n",
       "      <td>India</td>\n",
       "      <td>IND</td>\n",
       "      <td>2016 Summer</td>\n",
       "      <td>2016</td>\n",
       "      <td>Summer</td>\n",
       "      <td>Rio de Janeiro</td>\n",
       "      <td>Boxing</td>\n",
       "      <td>Boxing Men's Middleweight</td>\n",
       "      <td>NaN</td>\n",
       "      <td>India</td>\n",
       "      <td>NaN</td>\n",
       "      <td>0</td>\n",
       "      <td>0</td>\n",
       "      <td>0</td>\n",
       "    </tr>\n",
       "    <tr>\n",
       "      <th>216985</th>\n",
       "      <td>132177</td>\n",
       "      <td>Mohammad Anas Yahiya</td>\n",
       "      <td>M</td>\n",
       "      <td>21.0</td>\n",
       "      <td>177.0</td>\n",
       "      <td>69.0</td>\n",
       "      <td>India</td>\n",
       "      <td>IND</td>\n",
       "      <td>2016 Summer</td>\n",
       "      <td>2016</td>\n",
       "      <td>Summer</td>\n",
       "      <td>Rio de Janeiro</td>\n",
       "      <td>Athletics</td>\n",
       "      <td>Athletics Men's 400 metres</td>\n",
       "      <td>NaN</td>\n",
       "      <td>India</td>\n",
       "      <td>NaN</td>\n",
       "      <td>0</td>\n",
       "      <td>0</td>\n",
       "      <td>0</td>\n",
       "    </tr>\n",
       "    <tr>\n",
       "      <th>218411</th>\n",
       "      <td>133029</td>\n",
       "      <td>Thyadathuvilla Chandrapillai \"T. C.\" Yohannan</td>\n",
       "      <td>M</td>\n",
       "      <td>29.0</td>\n",
       "      <td>174.0</td>\n",
       "      <td>62.0</td>\n",
       "      <td>India</td>\n",
       "      <td>IND</td>\n",
       "      <td>1976 Summer</td>\n",
       "      <td>1976</td>\n",
       "      <td>Summer</td>\n",
       "      <td>Montreal</td>\n",
       "      <td>Athletics</td>\n",
       "      <td>Athletics Men's Long Jump</td>\n",
       "      <td>NaN</td>\n",
       "      <td>India</td>\n",
       "      <td>NaN</td>\n",
       "      <td>0</td>\n",
       "      <td>0</td>\n",
       "      <td>0</td>\n",
       "    </tr>\n",
       "    <tr>\n",
       "      <th>222416</th>\n",
       "      <td>135480</td>\n",
       "      <td>Geeta Zutshi</td>\n",
       "      <td>F</td>\n",
       "      <td>23.0</td>\n",
       "      <td>167.0</td>\n",
       "      <td>51.0</td>\n",
       "      <td>India</td>\n",
       "      <td>IND</td>\n",
       "      <td>1980 Summer</td>\n",
       "      <td>1980</td>\n",
       "      <td>Summer</td>\n",
       "      <td>Moskva</td>\n",
       "      <td>Athletics</td>\n",
       "      <td>Athletics Women's 800 metres</td>\n",
       "      <td>NaN</td>\n",
       "      <td>India</td>\n",
       "      <td>NaN</td>\n",
       "      <td>0</td>\n",
       "      <td>0</td>\n",
       "      <td>0</td>\n",
       "    </tr>\n",
       "    <tr>\n",
       "      <th>222417</th>\n",
       "      <td>135480</td>\n",
       "      <td>Geeta Zutshi</td>\n",
       "      <td>F</td>\n",
       "      <td>27.0</td>\n",
       "      <td>167.0</td>\n",
       "      <td>51.0</td>\n",
       "      <td>India</td>\n",
       "      <td>IND</td>\n",
       "      <td>1984 Summer</td>\n",
       "      <td>1984</td>\n",
       "      <td>Summer</td>\n",
       "      <td>Los Angeles</td>\n",
       "      <td>Athletics</td>\n",
       "      <td>Athletics Women's 3,000 metres</td>\n",
       "      <td>NaN</td>\n",
       "      <td>India</td>\n",
       "      <td>NaN</td>\n",
       "      <td>0</td>\n",
       "      <td>0</td>\n",
       "      <td>0</td>\n",
       "    </tr>\n",
       "  </tbody>\n",
       "</table>\n",
       "<p>687 rows × 20 columns</p>\n",
       "</div>"
      ],
      "text/plain": [
       "            ID                                           Name Sex   Age  \\\n",
       "436        281                                 S. Abdul Hamid   M   NaN   \n",
       "437        281                                 S. Abdul Hamid   M   NaN   \n",
       "790        512                Shiny Kurisingal Abraham-Wilson   F  19.0   \n",
       "791        512                Shiny Kurisingal Abraham-Wilson   F  19.0   \n",
       "792        512                Shiny Kurisingal Abraham-Wilson   F  23.0   \n",
       "...        ...                                            ...  ..   ...   \n",
       "216942  132143                            Vikas Krishan Yadav   M  24.0   \n",
       "216985  132177                           Mohammad Anas Yahiya   M  21.0   \n",
       "218411  133029  Thyadathuvilla Chandrapillai \"T. C.\" Yohannan   M  29.0   \n",
       "222416  135480                                   Geeta Zutshi   F  23.0   \n",
       "222417  135480                                   Geeta Zutshi   F  27.0   \n",
       "\n",
       "        Height  Weight   Team  NOC        Games  Year  Season            City  \\\n",
       "436        NaN     NaN  India  IND  1928 Summer  1928  Summer       Amsterdam   \n",
       "437        NaN     NaN  India  IND  1928 Summer  1928  Summer       Amsterdam   \n",
       "790      167.0    53.0  India  IND  1984 Summer  1984  Summer     Los Angeles   \n",
       "791      167.0    53.0  India  IND  1984 Summer  1984  Summer     Los Angeles   \n",
       "792      167.0    53.0  India  IND  1988 Summer  1988  Summer           Seoul   \n",
       "...        ...     ...    ...  ...          ...   ...     ...             ...   \n",
       "216942   177.0    69.0  India  IND  2016 Summer  2016  Summer  Rio de Janeiro   \n",
       "216985   177.0    69.0  India  IND  2016 Summer  2016  Summer  Rio de Janeiro   \n",
       "218411   174.0    62.0  India  IND  1976 Summer  1976  Summer        Montreal   \n",
       "222416   167.0    51.0  India  IND  1980 Summer  1980  Summer          Moskva   \n",
       "222417   167.0    51.0  India  IND  1984 Summer  1984  Summer     Los Angeles   \n",
       "\n",
       "            Sport                                   Event Medal region notes  \\\n",
       "436     Athletics      Athletics Men's 110 metres Hurdles   NaN  India   NaN   \n",
       "437     Athletics      Athletics Men's 400 metres Hurdles   NaN  India   NaN   \n",
       "790     Athletics            Athletics Women's 800 metres   NaN  India   NaN   \n",
       "791     Athletics  Athletics Women's 4 x 400 metres Relay   NaN  India   NaN   \n",
       "792     Athletics            Athletics Women's 800 metres   NaN  India   NaN   \n",
       "...           ...                                     ...   ...    ...   ...   \n",
       "216942     Boxing               Boxing Men's Middleweight   NaN  India   NaN   \n",
       "216985  Athletics              Athletics Men's 400 metres   NaN  India   NaN   \n",
       "218411  Athletics               Athletics Men's Long Jump   NaN  India   NaN   \n",
       "222416  Athletics            Athletics Women's 800 metres   NaN  India   NaN   \n",
       "222417  Athletics          Athletics Women's 3,000 metres   NaN  India   NaN   \n",
       "\n",
       "        Bronze  Gold  Silver  \n",
       "436          0     0       0  \n",
       "437          0     0       0  \n",
       "790          0     0       0  \n",
       "791          0     0       0  \n",
       "792          0     0       0  \n",
       "...        ...   ...     ...  \n",
       "216942       0     0       0  \n",
       "216985       0     0       0  \n",
       "218411       0     0       0  \n",
       "222416       0     0       0  \n",
       "222417       0     0       0  \n",
       "\n",
       "[687 rows x 20 columns]"
      ]
     },
     "execution_count": 50,
     "metadata": {},
     "output_type": "execute_result"
    }
   ],
   "source": [
    "medal_df[medal_df['region']=='India']"
   ]
  },
  {
   "cell_type": "code",
   "execution_count": null,
   "id": "fe997920",
   "metadata": {
    "papermill": {
     "duration": 0.137574,
     "end_time": "2021-10-03T10:57:22.212232",
     "exception": false,
     "start_time": "2021-10-03T10:57:22.074658",
     "status": "completed"
    },
    "tags": []
   },
   "outputs": [],
   "source": []
  },
  {
   "cell_type": "code",
   "execution_count": 51,
   "id": "57519199",
   "metadata": {
    "execution": {
     "iopub.execute_input": "2021-10-03T10:57:22.491822Z",
     "iopub.status.busy": "2021-10-03T10:57:22.491093Z",
     "iopub.status.idle": "2021-10-03T10:57:22.499665Z",
     "shell.execute_reply": "2021-10-03T10:57:22.500127Z",
     "shell.execute_reply.started": "2021-10-03T08:02:39.552602Z"
    },
    "papermill": {
     "duration": 0.149803,
     "end_time": "2021-10-03T10:57:22.500323",
     "exception": false,
     "start_time": "2021-10-03T10:57:22.350520",
     "status": "completed"
    },
    "tags": []
   },
   "outputs": [],
   "source": [
    "def fetch_medal_tally(df,year, country):\n",
    "    medal_df=df.drop_duplicates(subset=['Team','NOC','Games','Year','City','Sport','Medal','Event'])\n",
    "    flag=0\n",
    "    if year=='Overall' and country=='Overall':\n",
    "        temp_df=medal_df\n",
    "    if year=='Overall' and country!='Overall':\n",
    "        flag=1\n",
    "        temp_df=medal_df[medal_df['region']==country]\n",
    "    if year!='Overall' and country=='Overall':\n",
    "        temp_df=medal_df[medal_df['Year'] ==int(year)]\n",
    "    if year!='Overall' and country!='Overall':\n",
    "        temp_df=medal_df[(medal_df['Year']==int(year)) & (medal_df['region']==country)]\n",
    "        \n",
    "    if flag==1:\n",
    "        x=temp_df.groupby('Year').sum()[['Gold','Silver','Bronze']].sort_values('Year',ascending=True).reset_index()\n",
    "    else:\n",
    "        x=temp_df.groupby('region').sum()[['Gold','Silver','Bronze']].sort_values('Gold',ascending=False).reset_index()\n",
    "    \n",
    "\n",
    "    x['total']=x['Gold']+x['Silver']+x['Bronze']\n",
    "    print(x)"
   ]
  },
  {
   "cell_type": "code",
   "execution_count": 52,
   "id": "a0fe28f7",
   "metadata": {
    "execution": {
     "iopub.execute_input": "2021-10-03T10:57:22.824001Z",
     "iopub.status.busy": "2021-10-03T10:57:22.823371Z",
     "iopub.status.idle": "2021-10-03T10:57:22.886505Z",
     "shell.execute_reply": "2021-10-03T10:57:22.885851Z",
     "shell.execute_reply.started": "2021-10-03T08:02:39.565189Z"
    },
    "papermill": {
     "duration": 0.247709,
     "end_time": "2021-10-03T10:57:22.886772",
     "exception": true,
     "start_time": "2021-10-03T10:57:22.639063",
     "status": "failed"
    },
    "tags": []
   },
   "outputs": [
    {
     "ename": "TypeError",
     "evalue": "fetch_medal_tally() missing 1 required positional argument: 'df'",
     "output_type": "error",
     "traceback": [
      "\u001b[0;31m---------------------------------------------------------------------------\u001b[0m",
      "\u001b[0;31mTypeError\u001b[0m                                 Traceback (most recent call last)",
      "\u001b[0;32m/tmp/ipykernel_19/2546303495.py\u001b[0m in \u001b[0;36m<module>\u001b[0;34m\u001b[0m\n\u001b[0;32m----> 1\u001b[0;31m \u001b[0mfetch_medal_tally\u001b[0m\u001b[0;34m(\u001b[0m\u001b[0myear\u001b[0m\u001b[0;34m=\u001b[0m\u001b[0;34m'Overall'\u001b[0m\u001b[0;34m,\u001b[0m \u001b[0mcountry\u001b[0m\u001b[0;34m=\u001b[0m\u001b[0;34m'India'\u001b[0m\u001b[0;34m)\u001b[0m\u001b[0;34m\u001b[0m\u001b[0;34m\u001b[0m\u001b[0m\n\u001b[0m",
      "\u001b[0;31mTypeError\u001b[0m: fetch_medal_tally() missing 1 required positional argument: 'df'"
     ]
    }
   ],
   "source": [
    "fetch_medal_tally(year='Overall', country='India')"
   ]
  },
  {
   "cell_type": "code",
   "execution_count": null,
   "id": "1514d5d7",
   "metadata": {
    "execution": {
     "iopub.status.busy": "2021-10-03T08:02:39.589311Z",
     "iopub.status.idle": "2021-10-03T08:02:39.589942Z",
     "shell.execute_reply": "2021-10-03T08:02:39.589519Z",
     "shell.execute_reply.started": "2021-10-03T08:02:39.589497Z"
    },
    "papermill": {
     "duration": null,
     "end_time": null,
     "exception": null,
     "start_time": null,
     "status": "pending"
    },
    "tags": []
   },
   "outputs": [],
   "source": [
    "fetch_medal_tally(year='Overall' , country='Overall')"
   ]
  },
  {
   "cell_type": "code",
   "execution_count": null,
   "id": "5029d901",
   "metadata": {
    "execution": {
     "iopub.status.busy": "2021-10-03T08:02:39.592083Z",
     "iopub.status.idle": "2021-10-03T08:02:39.592452Z",
     "shell.execute_reply": "2021-10-03T08:02:39.592267Z",
     "shell.execute_reply.started": "2021-10-03T08:02:39.592251Z"
    },
    "papermill": {
     "duration": null,
     "end_time": null,
     "exception": null,
     "start_time": null,
     "status": "pending"
    },
    "tags": []
   },
   "outputs": [],
   "source": [
    "medal_tally.sample(2)"
   ]
  },
  {
   "cell_type": "code",
   "execution_count": null,
   "id": "b332478d",
   "metadata": {
    "execution": {
     "iopub.status.busy": "2021-10-03T08:02:39.593370Z",
     "iopub.status.idle": "2021-10-03T08:02:39.593654Z",
     "shell.execute_reply": "2021-10-03T08:02:39.593523Z",
     "shell.execute_reply.started": "2021-10-03T08:02:39.593509Z"
    },
    "papermill": {
     "duration": null,
     "end_time": null,
     "exception": null,
     "start_time": null,
     "status": "pending"
    },
    "tags": []
   },
   "outputs": [],
   "source": [
    "df.head(2)"
   ]
  },
  {
   "cell_type": "code",
   "execution_count": null,
   "id": "4e031296",
   "metadata": {
    "papermill": {
     "duration": null,
     "end_time": null,
     "exception": null,
     "start_time": null,
     "status": "pending"
    },
    "tags": []
   },
   "outputs": [],
   "source": []
  },
  {
   "cell_type": "markdown",
   "id": "e7685b53",
   "metadata": {
    "execution": {
     "iopub.execute_input": "2021-09-29T08:24:20.014814Z",
     "iopub.status.busy": "2021-09-29T08:24:20.013784Z",
     "iopub.status.idle": "2021-09-29T08:24:20.019151Z",
     "shell.execute_reply": "2021-09-29T08:24:20.018229Z",
     "shell.execute_reply.started": "2021-09-29T08:24:20.014741Z"
    },
    "papermill": {
     "duration": null,
     "end_time": null,
     "exception": null,
     "start_time": null,
     "status": "pending"
    },
    "tags": []
   },
   "source": [
    "# find out how many  medals india has won in each season "
   ]
  },
  {
   "cell_type": "code",
   "execution_count": null,
   "id": "8c19f194",
   "metadata": {
    "execution": {
     "iopub.status.busy": "2021-10-03T08:02:39.594704Z",
     "iopub.status.idle": "2021-10-03T08:02:39.594986Z",
     "shell.execute_reply": "2021-10-03T08:02:39.594855Z",
     "shell.execute_reply.started": "2021-10-03T08:02:39.594841Z"
    },
    "papermill": {
     "duration": null,
     "end_time": null,
     "exception": null,
     "start_time": null,
     "status": "pending"
    },
    "tags": []
   },
   "outputs": [],
   "source": [
    "medal_df.sample(1)"
   ]
  },
  {
   "cell_type": "code",
   "execution_count": null,
   "id": "21634c31",
   "metadata": {
    "execution": {
     "iopub.status.busy": "2021-10-03T08:02:39.595795Z",
     "iopub.status.idle": "2021-10-03T08:02:39.596087Z",
     "shell.execute_reply": "2021-10-03T08:02:39.595956Z",
     "shell.execute_reply.started": "2021-10-03T08:02:39.595942Z"
    },
    "papermill": {
     "duration": null,
     "end_time": null,
     "exception": null,
     "start_time": null,
     "status": "pending"
    },
    "tags": []
   },
   "outputs": [],
   "source": [
    "new=medal_df.groupby(['Year','region'])"
   ]
  },
  {
   "cell_type": "code",
   "execution_count": null,
   "id": "3eba12d0",
   "metadata": {
    "execution": {
     "iopub.status.busy": "2021-10-03T08:02:39.597079Z",
     "iopub.status.idle": "2021-10-03T08:02:39.597384Z",
     "shell.execute_reply": "2021-10-03T08:02:39.597231Z",
     "shell.execute_reply.started": "2021-10-03T08:02:39.597217Z"
    },
    "papermill": {
     "duration": null,
     "end_time": null,
     "exception": null,
     "start_time": null,
     "status": "pending"
    },
    "tags": []
   },
   "outputs": [],
   "source": [
    "new_df=new[['Gold','Silver','Bronze']].sum().reset_index()\n",
    "new_df['Total']=new_df['Gold']+new_df['Silver']+new_df['Bronze']\n",
    "new_df.sample(2)\n",
    "maskA=new_df['region']=='USA'\n",
    "maskB=new_df['Year']==2016\n",
    "lol=new_df[maskA & maskB]['Bronze'].values[0]\n",
    "lol"
   ]
  },
  {
   "cell_type": "code",
   "execution_count": null,
   "id": "21da69e7",
   "metadata": {
    "execution": {
     "iopub.status.busy": "2021-10-03T08:02:39.598347Z",
     "iopub.status.idle": "2021-10-03T08:02:39.598629Z",
     "shell.execute_reply": "2021-10-03T08:02:39.598499Z",
     "shell.execute_reply.started": "2021-10-03T08:02:39.598485Z"
    },
    "papermill": {
     "duration": null,
     "end_time": null,
     "exception": null,
     "start_time": null,
     "status": "pending"
    },
    "tags": []
   },
   "outputs": [],
   "source": [
    "\n",
    "my_years=medal_df[medal_df['region']=='India']['Year'].unique().tolist()\n",
    "my_years.sort()\n",
    "len(my_years)"
   ]
  },
  {
   "cell_type": "code",
   "execution_count": null,
   "id": "2abf4b76",
   "metadata": {
    "execution": {
     "iopub.status.busy": "2021-10-03T08:02:39.599785Z",
     "iopub.status.idle": "2021-10-03T08:02:39.600072Z",
     "shell.execute_reply": "2021-10-03T08:02:39.599946Z",
     "shell.execute_reply.started": "2021-10-03T08:02:39.599932Z"
    },
    "papermill": {
     "duration": null,
     "end_time": null,
     "exception": null,
     "start_time": null,
     "status": "pending"
    },
    "tags": []
   },
   "outputs": [],
   "source": [
    "new_df[(new_df['region']=='India') & (new_df['Year']==2016)][['Gold','Silver','Bronze','Total']]"
   ]
  },
  {
   "cell_type": "code",
   "execution_count": null,
   "id": "fcb3610b",
   "metadata": {
    "execution": {
     "iopub.status.busy": "2021-10-03T08:02:39.600885Z",
     "iopub.status.idle": "2021-10-03T08:02:39.601165Z",
     "shell.execute_reply": "2021-10-03T08:02:39.601039Z",
     "shell.execute_reply.started": "2021-10-03T08:02:39.601025Z"
    },
    "papermill": {
     "duration": null,
     "end_time": null,
     "exception": null,
     "start_time": null,
     "status": "pending"
    },
    "tags": []
   },
   "outputs": [],
   "source": [
    "\n",
    "for year in my_years:\n",
    "    print('Year',year)\n",
    "    print(new_df[(new_df['region']=='India') & (new_df['Year']==year)][['Gold','Silver','Bronze','Total']])"
   ]
  },
  {
   "cell_type": "code",
   "execution_count": null,
   "id": "46662897",
   "metadata": {
    "execution": {
     "iopub.status.busy": "2021-10-03T08:02:39.602055Z",
     "iopub.status.idle": "2021-10-03T08:02:39.602369Z",
     "shell.execute_reply": "2021-10-03T08:02:39.602213Z",
     "shell.execute_reply.started": "2021-10-03T08:02:39.602192Z"
    },
    "papermill": {
     "duration": null,
     "end_time": null,
     "exception": null,
     "start_time": null,
     "status": "pending"
    },
    "tags": []
   },
   "outputs": [],
   "source": [
    "new=medal_df.groupby(['Year','region'])\n",
    "new_df=new[['Gold','Silver','Bronze']].sum().reset_index()\n",
    "new_df['Total']=new_df['Gold']+new_df['Silver']+new_df['Bronze']\n",
    "new_df.sample(2)\n",
    "maskA=new_df['region']=='USA'\n",
    "maskB=new_df['Year']==2016\n",
    "new_df[maskA & maskB]['Bronze'].values[0]\n",
    "\n",
    "my_years=medal_df[medal_df['region']=='India']['Year'].unique().tolist()\n",
    "my_years.sort()\n",
    "len(my_years)\n",
    "new_df[(new_df['region']=='India') & (new_df['Year']==2016)][['Gold','Silver','Bronze','Total']]\n",
    "for year in my_years:\n",
    "    print('Year',year)\n",
    "    print(new_df[(new_df['region']=='India') & (new_df['Year']==year)][['Gold','Silver','Bronze','Total']])"
   ]
  },
  {
   "cell_type": "code",
   "execution_count": null,
   "id": "5a5bffad",
   "metadata": {
    "papermill": {
     "duration": null,
     "end_time": null,
     "exception": null,
     "start_time": null,
     "status": "pending"
    },
    "tags": []
   },
   "outputs": [],
   "source": []
  },
  {
   "cell_type": "code",
   "execution_count": null,
   "id": "5ea02145",
   "metadata": {
    "execution": {
     "iopub.status.busy": "2021-10-03T08:02:39.603450Z",
     "iopub.status.idle": "2021-10-03T08:02:39.603725Z",
     "shell.execute_reply": "2021-10-03T08:02:39.603599Z",
     "shell.execute_reply.started": "2021-10-03T08:02:39.603585Z"
    },
    "papermill": {
     "duration": null,
     "end_time": null,
     "exception": null,
     "start_time": null,
     "status": "pending"
    },
    "tags": []
   },
   "outputs": [],
   "source": [
    "new_df=medal_df.groupby(['Year','region'])[['Gold','Silver','Bronze']].sum().reset_index()\n",
    "\n",
    "new_df['Total']=new_df['Gold']+new_df['Silver']+new_df['Bronze']\n",
    "\n",
    "my_years=medal_df[medal_df['region']=='India']['Year'].unique().tolist()\n",
    "my_years.sort()\n",
    "for year in my_years:\n",
    "    print('Year',year)\n",
    "    print(new_df[(new_df['region']=='India') & (new_df['Year']==year)][['Gold','Silver','Bronze','Total']])"
   ]
  },
  {
   "cell_type": "code",
   "execution_count": null,
   "id": "081468d7",
   "metadata": {
    "papermill": {
     "duration": null,
     "end_time": null,
     "exception": null,
     "start_time": null,
     "status": "pending"
    },
    "tags": []
   },
   "outputs": [],
   "source": []
  },
  {
   "cell_type": "code",
   "execution_count": null,
   "id": "e707ffbc",
   "metadata": {
    "papermill": {
     "duration": null,
     "end_time": null,
     "exception": null,
     "start_time": null,
     "status": "pending"
    },
    "tags": []
   },
   "outputs": [],
   "source": []
  },
  {
   "cell_type": "code",
   "execution_count": null,
   "id": "9b0a6138",
   "metadata": {
    "papermill": {
     "duration": null,
     "end_time": null,
     "exception": null,
     "start_time": null,
     "status": "pending"
    },
    "tags": []
   },
   "outputs": [],
   "source": []
  },
  {
   "cell_type": "markdown",
   "id": "e95892df",
   "metadata": {
    "papermill": {
     "duration": null,
     "end_time": null,
     "exception": null,
     "start_time": null,
     "status": "pending"
    },
    "tags": []
   },
   "source": [
    "# overall analysis"
   ]
  },
  {
   "cell_type": "code",
   "execution_count": null,
   "id": "4301fc44",
   "metadata": {
    "execution": {
     "iopub.status.busy": "2021-10-03T08:02:39.604497Z",
     "iopub.status.idle": "2021-10-03T08:02:39.604796Z",
     "shell.execute_reply": "2021-10-03T08:02:39.604668Z",
     "shell.execute_reply.started": "2021-10-03T08:02:39.604654Z"
    },
    "papermill": {
     "duration": null,
     "end_time": null,
     "exception": null,
     "start_time": null,
     "status": "pending"
    },
    "tags": []
   },
   "outputs": [],
   "source": [
    "df.sample(2)"
   ]
  },
  {
   "cell_type": "code",
   "execution_count": null,
   "id": "dc6925c0",
   "metadata": {
    "execution": {
     "iopub.status.busy": "2021-10-03T08:02:39.605586Z",
     "iopub.status.idle": "2021-10-03T08:02:39.605859Z",
     "shell.execute_reply": "2021-10-03T08:02:39.605734Z",
     "shell.execute_reply.started": "2021-10-03T08:02:39.605721Z"
    },
    "papermill": {
     "duration": null,
     "end_time": null,
     "exception": null,
     "start_time": null,
     "status": "pending"
    },
    "tags": []
   },
   "outputs": [],
   "source": [
    "df['Year'].sort_values().unique().shape[0]-1\n",
    "# we subtracted 1 since olympics was held in 1906 which was discarded by IOC "
   ]
  },
  {
   "cell_type": "code",
   "execution_count": null,
   "id": "8a151f72",
   "metadata": {
    "execution": {
     "iopub.status.busy": "2021-10-03T08:02:39.607056Z",
     "iopub.status.idle": "2021-10-03T08:02:39.607388Z",
     "shell.execute_reply": "2021-10-03T08:02:39.607229Z",
     "shell.execute_reply.started": "2021-10-03T08:02:39.607215Z"
    },
    "papermill": {
     "duration": null,
     "end_time": null,
     "exception": null,
     "start_time": null,
     "status": "pending"
    },
    "tags": []
   },
   "outputs": [],
   "source": [
    "df['City'].unique()"
   ]
  },
  {
   "cell_type": "code",
   "execution_count": null,
   "id": "019eddab",
   "metadata": {
    "execution": {
     "iopub.status.busy": "2021-10-03T08:02:39.608338Z",
     "iopub.status.idle": "2021-10-03T08:02:39.608612Z",
     "shell.execute_reply": "2021-10-03T08:02:39.608483Z",
     "shell.execute_reply.started": "2021-10-03T08:02:39.608469Z"
    },
    "papermill": {
     "duration": null,
     "end_time": null,
     "exception": null,
     "start_time": null,
     "status": "pending"
    },
    "tags": []
   },
   "outputs": [],
   "source": [
    "df['City'].sort_values().unique().shape[0]"
   ]
  },
  {
   "cell_type": "code",
   "execution_count": null,
   "id": "8799eaee",
   "metadata": {
    "execution": {
     "iopub.status.busy": "2021-10-03T08:02:39.609451Z",
     "iopub.status.idle": "2021-10-03T08:02:39.609729Z",
     "shell.execute_reply": "2021-10-03T08:02:39.609598Z",
     "shell.execute_reply.started": "2021-10-03T08:02:39.609584Z"
    },
    "papermill": {
     "duration": null,
     "end_time": null,
     "exception": null,
     "start_time": null,
     "status": "pending"
    },
    "tags": []
   },
   "outputs": [],
   "source": [
    "df['Event'].unique()"
   ]
  },
  {
   "cell_type": "code",
   "execution_count": null,
   "id": "2a7bbb78",
   "metadata": {
    "execution": {
     "iopub.status.busy": "2021-10-03T08:02:39.610642Z",
     "iopub.status.idle": "2021-10-03T08:02:39.610927Z",
     "shell.execute_reply": "2021-10-03T08:02:39.610800Z",
     "shell.execute_reply.started": "2021-10-03T08:02:39.610785Z"
    },
    "papermill": {
     "duration": null,
     "end_time": null,
     "exception": null,
     "start_time": null,
     "status": "pending"
    },
    "tags": []
   },
   "outputs": [],
   "source": [
    "df[df['Sport']=='Swimming']['Event'].unique().shape"
   ]
  },
  {
   "cell_type": "code",
   "execution_count": null,
   "id": "1ad44cbb",
   "metadata": {
    "execution": {
     "iopub.status.busy": "2021-10-03T08:02:39.611765Z",
     "iopub.status.idle": "2021-10-03T08:02:39.612048Z",
     "shell.execute_reply": "2021-10-03T08:02:39.611920Z",
     "shell.execute_reply.started": "2021-10-03T08:02:39.611906Z"
    },
    "papermill": {
     "duration": null,
     "end_time": null,
     "exception": null,
     "start_time": null,
     "status": "pending"
    },
    "tags": []
   },
   "outputs": [],
   "source": [
    "df['Name'].unique().shape[0]"
   ]
  },
  {
   "cell_type": "code",
   "execution_count": null,
   "id": "ce21142b",
   "metadata": {
    "execution": {
     "iopub.status.busy": "2021-10-03T08:02:39.613068Z",
     "iopub.status.idle": "2021-10-03T08:02:39.613372Z",
     "shell.execute_reply": "2021-10-03T08:02:39.613217Z",
     "shell.execute_reply.started": "2021-10-03T08:02:39.613196Z"
    },
    "papermill": {
     "duration": null,
     "end_time": null,
     "exception": null,
     "start_time": null,
     "status": "pending"
    },
    "tags": []
   },
   "outputs": [],
   "source": [
    "df.sample()\n"
   ]
  },
  {
   "cell_type": "markdown",
   "id": "905d0d8b",
   "metadata": {
    "papermill": {
     "duration": null,
     "end_time": null,
     "exception": null,
     "start_time": null,
     "status": "pending"
    },
    "tags": []
   },
   "source": [
    "# sahi dataframe"
   ]
  },
  {
   "cell_type": "code",
   "execution_count": null,
   "id": "90b58908",
   "metadata": {
    "execution": {
     "iopub.execute_input": "2021-10-03T08:07:23.620301Z",
     "iopub.status.busy": "2021-10-03T08:07:23.619995Z",
     "iopub.status.idle": "2021-10-03T08:07:24.978033Z",
     "shell.execute_reply": "2021-10-03T08:07:24.977479Z",
     "shell.execute_reply.started": "2021-10-03T08:07:23.620271Z"
    },
    "papermill": {
     "duration": null,
     "end_time": null,
     "exception": null,
     "start_time": null,
     "status": "pending"
    },
    "tags": []
   },
   "outputs": [],
   "source": [
    "region_df= pd.read_csv('/kaggle/input/120-years-of-olympic-history-athletes-and-results/noc_regions.csv')\n",
    "df = pd.read_csv('/kaggle/input/120-years-of-olympic-history-athletes-and-results/athlete_events.csv')\n",
    "df=df.merge(region_df, how='left',on='NOC')\n",
    "df=df[df['Season']=='Summer']\n",
    "df.drop_duplicates(inplace=True)\n",
    "temp_df=pd.get_dummies(df['Medal'])\n",
    "df=pd.concat([df,temp_df],axis=1)\n",
    "df.drop_duplicates(subset=['Team','NOC','Games','Year','City','Sport','Medal','Event'])"
   ]
  },
  {
   "cell_type": "code",
   "execution_count": null,
   "id": "d63c16fb",
   "metadata": {
    "execution": {
     "iopub.status.busy": "2021-10-03T08:02:39.615977Z",
     "iopub.status.idle": "2021-10-03T08:02:39.616263Z",
     "shell.execute_reply": "2021-10-03T08:02:39.616124Z",
     "shell.execute_reply.started": "2021-10-03T08:02:39.616109Z"
    },
    "papermill": {
     "duration": null,
     "end_time": null,
     "exception": null,
     "start_time": null,
     "status": "pending"
    },
    "tags": []
   },
   "outputs": [],
   "source": [
    "df.shape"
   ]
  },
  {
   "cell_type": "markdown",
   "id": "34526ffc",
   "metadata": {
    "papermill": {
     "duration": null,
     "end_time": null,
     "exception": null,
     "start_time": null,
     "status": "pending"
    },
    "tags": []
   },
   "source": [
    "# overall analysis"
   ]
  },
  {
   "cell_type": "code",
   "execution_count": null,
   "id": "63da4a52",
   "metadata": {
    "execution": {
     "iopub.status.busy": "2021-10-03T08:02:39.617072Z",
     "iopub.status.idle": "2021-10-03T08:02:39.617393Z",
     "shell.execute_reply": "2021-10-03T08:02:39.617234Z",
     "shell.execute_reply.started": "2021-10-03T08:02:39.617220Z"
    },
    "papermill": {
     "duration": null,
     "end_time": null,
     "exception": null,
     "start_time": null,
     "status": "pending"
    },
    "tags": []
   },
   "outputs": [],
   "source": [
    "df['Year'].sort_values().unique().shape[0]-1"
   ]
  },
  {
   "cell_type": "code",
   "execution_count": null,
   "id": "f2b1f184",
   "metadata": {
    "execution": {
     "iopub.status.busy": "2021-10-03T08:02:39.618459Z",
     "iopub.status.idle": "2021-10-03T08:02:39.619113Z",
     "shell.execute_reply": "2021-10-03T08:02:39.618915Z",
     "shell.execute_reply.started": "2021-10-03T08:02:39.618892Z"
    },
    "papermill": {
     "duration": null,
     "end_time": null,
     "exception": null,
     "start_time": null,
     "status": "pending"
    },
    "tags": []
   },
   "outputs": [],
   "source": [
    "df['City'].sort_values().unique().shape[0]"
   ]
  },
  {
   "cell_type": "code",
   "execution_count": null,
   "id": "98996b4f",
   "metadata": {
    "execution": {
     "iopub.status.busy": "2021-10-03T08:02:39.620256Z",
     "iopub.status.idle": "2021-10-03T08:02:39.620551Z",
     "shell.execute_reply": "2021-10-03T08:02:39.620424Z",
     "shell.execute_reply.started": "2021-10-03T08:02:39.620409Z"
    },
    "papermill": {
     "duration": null,
     "end_time": null,
     "exception": null,
     "start_time": null,
     "status": "pending"
    },
    "tags": []
   },
   "outputs": [],
   "source": [
    "df['Event'].sort_values().unique().shape[0]"
   ]
  },
  {
   "cell_type": "code",
   "execution_count": null,
   "id": "ef6c668d",
   "metadata": {
    "execution": {
     "iopub.status.busy": "2021-10-03T08:02:39.621431Z",
     "iopub.status.idle": "2021-10-03T08:02:39.621705Z",
     "shell.execute_reply": "2021-10-03T08:02:39.621578Z",
     "shell.execute_reply.started": "2021-10-03T08:02:39.621565Z"
    },
    "papermill": {
     "duration": null,
     "end_time": null,
     "exception": null,
     "start_time": null,
     "status": "pending"
    },
    "tags": []
   },
   "outputs": [],
   "source": [
    "df['Event'].sort_values().unique().shape[0]"
   ]
  },
  {
   "cell_type": "code",
   "execution_count": null,
   "id": "49df857a",
   "metadata": {
    "execution": {
     "iopub.status.busy": "2021-10-03T08:02:39.622477Z",
     "iopub.status.idle": "2021-10-03T08:02:39.622749Z",
     "shell.execute_reply": "2021-10-03T08:02:39.622621Z",
     "shell.execute_reply.started": "2021-10-03T08:02:39.622606Z"
    },
    "papermill": {
     "duration": null,
     "end_time": null,
     "exception": null,
     "start_time": null,
     "status": "pending"
    },
    "tags": []
   },
   "outputs": [],
   "source": [
    "df[df['Sport']=='Swimming']['Event'].unique().shape"
   ]
  },
  {
   "cell_type": "markdown",
   "id": "496a1f43",
   "metadata": {
    "execution": {
     "iopub.status.busy": "2021-09-30T08:50:28.304739Z",
     "iopub.status.idle": "2021-09-30T08:50:28.305172Z",
     "shell.execute_reply": "2021-09-30T08:50:28.305026Z",
     "shell.execute_reply.started": "2021-09-30T08:50:28.305009Z"
    },
    "papermill": {
     "duration": null,
     "end_time": null,
     "exception": null,
     "start_time": null,
     "status": "pending"
    },
    "tags": []
   },
   "source": [
    "# no:of country that participate in olympics each year"
   ]
  },
  {
   "cell_type": "code",
   "execution_count": null,
   "id": "f1bb99e1",
   "metadata": {
    "execution": {
     "iopub.status.busy": "2021-10-03T08:02:39.623968Z",
     "iopub.status.idle": "2021-10-03T08:02:39.624259Z",
     "shell.execute_reply": "2021-10-03T08:02:39.624126Z",
     "shell.execute_reply.started": "2021-10-03T08:02:39.624112Z"
    },
    "papermill": {
     "duration": null,
     "end_time": null,
     "exception": null,
     "start_time": null,
     "status": "pending"
    },
    "tags": []
   },
   "outputs": [],
   "source": [
    "df.drop_duplicates(['Year','region'])['Year'].value_counts().reset_index().sort_values('index')"
   ]
  },
  {
   "cell_type": "code",
   "execution_count": null,
   "id": "1f64fc78",
   "metadata": {
    "execution": {
     "iopub.status.busy": "2021-10-03T08:02:39.625138Z",
     "iopub.status.idle": "2021-10-03T08:02:39.625462Z",
     "shell.execute_reply": "2021-10-03T08:02:39.625294Z",
     "shell.execute_reply.started": "2021-10-03T08:02:39.625280Z"
    },
    "papermill": {
     "duration": null,
     "end_time": null,
     "exception": null,
     "start_time": null,
     "status": "pending"
    },
    "tags": []
   },
   "outputs": [],
   "source": [
    "nations_over_time=df.drop_duplicates(['Year','region'])['Year'].value_counts().reset_index().sort_values('index')"
   ]
  },
  {
   "cell_type": "code",
   "execution_count": null,
   "id": "6a08b553",
   "metadata": {
    "papermill": {
     "duration": null,
     "end_time": null,
     "exception": null,
     "start_time": null,
     "status": "pending"
    },
    "tags": []
   },
   "outputs": [],
   "source": []
  },
  {
   "cell_type": "code",
   "execution_count": null,
   "id": "9dfa031a",
   "metadata": {
    "execution": {
     "iopub.status.busy": "2021-10-03T08:02:39.626609Z",
     "iopub.status.idle": "2021-10-03T08:02:39.626879Z",
     "shell.execute_reply": "2021-10-03T08:02:39.626753Z",
     "shell.execute_reply.started": "2021-10-03T08:02:39.626740Z"
    },
    "papermill": {
     "duration": null,
     "end_time": null,
     "exception": null,
     "start_time": null,
     "status": "pending"
    },
    "tags": []
   },
   "outputs": [],
   "source": [
    "nations_over_time.rename(columns={'index':'Editions', 'Year':'Number of countries'},inplace = True)"
   ]
  },
  {
   "cell_type": "code",
   "execution_count": null,
   "id": "232171a6",
   "metadata": {
    "execution": {
     "iopub.status.busy": "2021-10-03T08:02:39.627567Z",
     "iopub.status.idle": "2021-10-03T08:02:39.628022Z",
     "shell.execute_reply": "2021-10-03T08:02:39.627886Z",
     "shell.execute_reply.started": "2021-10-03T08:02:39.627870Z"
    },
    "papermill": {
     "duration": null,
     "end_time": null,
     "exception": null,
     "start_time": null,
     "status": "pending"
    },
    "tags": []
   },
   "outputs": [],
   "source": [
    "nations_over_time"
   ]
  },
  {
   "cell_type": "code",
   "execution_count": null,
   "id": "c26725f4",
   "metadata": {
    "execution": {
     "iopub.status.busy": "2021-10-03T08:02:39.628750Z",
     "iopub.status.idle": "2021-10-03T08:02:39.629019Z",
     "shell.execute_reply": "2021-10-03T08:02:39.628894Z",
     "shell.execute_reply.started": "2021-10-03T08:02:39.628881Z"
    },
    "papermill": {
     "duration": null,
     "end_time": null,
     "exception": null,
     "start_time": null,
     "status": "pending"
    },
    "tags": []
   },
   "outputs": [],
   "source": [
    "import seaborn as sns\n",
    "import matplotlib.pyplot as plt"
   ]
  },
  {
   "cell_type": "code",
   "execution_count": null,
   "id": "a4c1548c",
   "metadata": {
    "execution": {
     "iopub.status.busy": "2021-10-03T08:02:39.630094Z",
     "iopub.status.idle": "2021-10-03T08:02:39.630401Z",
     "shell.execute_reply": "2021-10-03T08:02:39.630243Z",
     "shell.execute_reply.started": "2021-10-03T08:02:39.630229Z"
    },
    "papermill": {
     "duration": null,
     "end_time": null,
     "exception": null,
     "start_time": null,
     "status": "pending"
    },
    "tags": []
   },
   "outputs": [],
   "source": [
    "sns.lineplot(nations_over_time['Editions'],nations_over_time['Number of countries'])"
   ]
  },
  {
   "cell_type": "code",
   "execution_count": null,
   "id": "47d1b95b",
   "metadata": {
    "execution": {
     "iopub.status.busy": "2021-10-03T08:02:39.631259Z",
     "iopub.status.idle": "2021-10-03T08:02:39.631566Z",
     "shell.execute_reply": "2021-10-03T08:02:39.631436Z",
     "shell.execute_reply.started": "2021-10-03T08:02:39.631422Z"
    },
    "papermill": {
     "duration": null,
     "end_time": null,
     "exception": null,
     "start_time": null,
     "status": "pending"
    },
    "tags": []
   },
   "outputs": [],
   "source": [
    "import plotly.express as px"
   ]
  },
  {
   "cell_type": "code",
   "execution_count": null,
   "id": "35649599",
   "metadata": {
    "execution": {
     "iopub.status.busy": "2021-10-03T08:02:39.632626Z",
     "iopub.status.idle": "2021-10-03T08:02:39.632905Z",
     "shell.execute_reply": "2021-10-03T08:02:39.632775Z",
     "shell.execute_reply.started": "2021-10-03T08:02:39.632761Z"
    },
    "papermill": {
     "duration": null,
     "end_time": null,
     "exception": null,
     "start_time": null,
     "status": "pending"
    },
    "tags": []
   },
   "outputs": [],
   "source": [
    "fig=px.line(nations_over_time,x=\"Editions\", y=\"Number of countries\")\n",
    "\n",
    "fig.show()"
   ]
  },
  {
   "cell_type": "markdown",
   "id": "74156c9a",
   "metadata": {
    "papermill": {
     "duration": null,
     "end_time": null,
     "exception": null,
     "start_time": null,
     "status": "pending"
    },
    "tags": []
   },
   "source": [
    "\n",
    "# No:of events in each olympics "
   ]
  },
  {
   "cell_type": "code",
   "execution_count": null,
   "id": "92fcbf23",
   "metadata": {
    "execution": {
     "iopub.status.busy": "2021-10-03T08:02:39.633756Z",
     "iopub.status.idle": "2021-10-03T08:02:39.634051Z",
     "shell.execute_reply": "2021-10-03T08:02:39.633903Z",
     "shell.execute_reply.started": "2021-10-03T08:02:39.633885Z"
    },
    "papermill": {
     "duration": null,
     "end_time": null,
     "exception": null,
     "start_time": null,
     "status": "pending"
    },
    "tags": []
   },
   "outputs": [],
   "source": [
    "df.sample(1)\n"
   ]
  },
  {
   "cell_type": "code",
   "execution_count": null,
   "id": "7663935d",
   "metadata": {
    "execution": {
     "iopub.status.busy": "2021-10-03T08:02:39.635388Z",
     "iopub.status.idle": "2021-10-03T08:02:39.635848Z",
     "shell.execute_reply": "2021-10-03T08:02:39.635615Z",
     "shell.execute_reply.started": "2021-10-03T08:02:39.635593Z"
    },
    "papermill": {
     "duration": null,
     "end_time": null,
     "exception": null,
     "start_time": null,
     "status": "pending"
    },
    "tags": []
   },
   "outputs": [],
   "source": [
    "df.drop_duplicates(['Year','Event'])['Year']"
   ]
  },
  {
   "cell_type": "code",
   "execution_count": null,
   "id": "428b27b4",
   "metadata": {
    "execution": {
     "iopub.status.busy": "2021-10-03T08:02:39.637457Z",
     "iopub.status.idle": "2021-10-03T08:02:39.637904Z",
     "shell.execute_reply": "2021-10-03T08:02:39.637680Z",
     "shell.execute_reply.started": "2021-10-03T08:02:39.637658Z"
    },
    "papermill": {
     "duration": null,
     "end_time": null,
     "exception": null,
     "start_time": null,
     "status": "pending"
    },
    "tags": []
   },
   "outputs": [],
   "source": [
    "a=df.drop_duplicates(['Year','Event'])['Year']"
   ]
  },
  {
   "cell_type": "code",
   "execution_count": null,
   "id": "c7b907d5",
   "metadata": {
    "execution": {
     "iopub.status.busy": "2021-10-03T08:02:39.638931Z",
     "iopub.status.idle": "2021-10-03T08:02:39.639392Z",
     "shell.execute_reply": "2021-10-03T08:02:39.639156Z",
     "shell.execute_reply.started": "2021-10-03T08:02:39.639134Z"
    },
    "papermill": {
     "duration": null,
     "end_time": null,
     "exception": null,
     "start_time": null,
     "status": "pending"
    },
    "tags": []
   },
   "outputs": [],
   "source": [
    "a_df=a.value_counts().reset_index()\n",
    "a_df.sample(2)"
   ]
  },
  {
   "cell_type": "code",
   "execution_count": null,
   "id": "87ec53bf",
   "metadata": {
    "execution": {
     "iopub.status.busy": "2021-10-03T08:02:39.641189Z",
     "iopub.status.idle": "2021-10-03T08:02:39.641650Z",
     "shell.execute_reply": "2021-10-03T08:02:39.641434Z",
     "shell.execute_reply.started": "2021-10-03T08:02:39.641411Z"
    },
    "papermill": {
     "duration": null,
     "end_time": null,
     "exception": null,
     "start_time": null,
     "status": "pending"
    },
    "tags": []
   },
   "outputs": [],
   "source": [
    "fig_a=px.line(a_df['index'],a_df['Year'])\n",
    "fig.show()"
   ]
  },
  {
   "cell_type": "code",
   "execution_count": null,
   "id": "3bbfb206",
   "metadata": {
    "execution": {
     "iopub.status.busy": "2021-10-03T08:02:39.643008Z",
     "iopub.status.idle": "2021-10-03T08:02:39.643475Z",
     "shell.execute_reply": "2021-10-03T08:02:39.643235Z",
     "shell.execute_reply.started": "2021-10-03T08:02:39.643212Z"
    },
    "papermill": {
     "duration": null,
     "end_time": null,
     "exception": null,
     "start_time": null,
     "status": "pending"
    },
    "tags": []
   },
   "outputs": [],
   "source": [
    "df.shape"
   ]
  },
  {
   "cell_type": "code",
   "execution_count": null,
   "id": "017c1969",
   "metadata": {
    "papermill": {
     "duration": null,
     "end_time": null,
     "exception": null,
     "start_time": null,
     "status": "pending"
    },
    "tags": []
   },
   "outputs": [],
   "source": []
  },
  {
   "cell_type": "code",
   "execution_count": null,
   "id": "2baa3255",
   "metadata": {
    "execution": {
     "iopub.status.busy": "2021-10-03T08:02:39.644546Z",
     "iopub.status.idle": "2021-10-03T08:02:39.645018Z",
     "shell.execute_reply": "2021-10-03T08:02:39.644804Z",
     "shell.execute_reply.started": "2021-10-03T08:02:39.644780Z"
    },
    "papermill": {
     "duration": null,
     "end_time": null,
     "exception": null,
     "start_time": null,
     "status": "pending"
    },
    "tags": []
   },
   "outputs": [],
   "source": [
    "temp_df=df.drop_duplicates(['Year','Sport','Name'])"
   ]
  },
  {
   "cell_type": "code",
   "execution_count": null,
   "id": "bdf1d80d",
   "metadata": {
    "execution": {
     "iopub.status.busy": "2021-10-03T08:02:39.646357Z",
     "iopub.status.idle": "2021-10-03T08:02:39.646816Z",
     "shell.execute_reply": "2021-10-03T08:02:39.646588Z",
     "shell.execute_reply.started": "2021-10-03T08:02:39.646565Z"
    },
    "papermill": {
     "duration": null,
     "end_time": null,
     "exception": null,
     "start_time": null,
     "status": "pending"
    },
    "tags": []
   },
   "outputs": [],
   "source": [
    "temp_df.sample()"
   ]
  },
  {
   "cell_type": "code",
   "execution_count": null,
   "id": "6fed6802",
   "metadata": {
    "execution": {
     "iopub.status.busy": "2021-10-03T08:02:39.648447Z",
     "iopub.status.idle": "2021-10-03T08:02:39.648897Z",
     "shell.execute_reply": "2021-10-03T08:02:39.648675Z",
     "shell.execute_reply.started": "2021-10-03T08:02:39.648651Z"
    },
    "papermill": {
     "duration": null,
     "end_time": null,
     "exception": null,
     "start_time": null,
     "status": "pending"
    },
    "tags": []
   },
   "outputs": [],
   "source": [
    "temp_df[temp_df['Name']=='Michael Fred Phelps, II']"
   ]
  },
  {
   "cell_type": "code",
   "execution_count": null,
   "id": "ba81b193",
   "metadata": {
    "execution": {
     "iopub.status.busy": "2021-10-03T08:02:39.649804Z",
     "iopub.status.idle": "2021-10-03T08:02:39.650234Z",
     "shell.execute_reply": "2021-10-03T08:02:39.650023Z",
     "shell.execute_reply.started": "2021-10-03T08:02:39.650000Z"
    },
    "papermill": {
     "duration": null,
     "end_time": null,
     "exception": null,
     "start_time": null,
     "status": "pending"
    },
    "tags": []
   },
   "outputs": [],
   "source": [
    "temp_df.sample(5)"
   ]
  },
  {
   "cell_type": "code",
   "execution_count": null,
   "id": "b3636818",
   "metadata": {
    "execution": {
     "iopub.status.busy": "2021-10-03T08:02:39.655430Z",
     "iopub.status.idle": "2021-10-03T08:02:39.655730Z",
     "shell.execute_reply": "2021-10-03T08:02:39.655588Z",
     "shell.execute_reply.started": "2021-10-03T08:02:39.655573Z"
    },
    "papermill": {
     "duration": null,
     "end_time": null,
     "exception": null,
     "start_time": null,
     "status": "pending"
    },
    "tags": []
   },
   "outputs": [],
   "source": [
    "temp_df=temp_df[['Year','Sex']].value_counts().reset_index().sort_values('Year')"
   ]
  },
  {
   "cell_type": "code",
   "execution_count": null,
   "id": "82c9251b",
   "metadata": {
    "papermill": {
     "duration": null,
     "end_time": null,
     "exception": null,
     "start_time": null,
     "status": "pending"
    },
    "tags": []
   },
   "outputs": [],
   "source": []
  },
  {
   "cell_type": "code",
   "execution_count": null,
   "id": "02328d29",
   "metadata": {
    "execution": {
     "iopub.status.busy": "2021-10-03T08:02:39.656974Z",
     "iopub.status.idle": "2021-10-03T08:02:39.657255Z",
     "shell.execute_reply": "2021-10-03T08:02:39.657128Z",
     "shell.execute_reply.started": "2021-10-03T08:02:39.657113Z"
    },
    "papermill": {
     "duration": null,
     "end_time": null,
     "exception": null,
     "start_time": null,
     "status": "pending"
    },
    "tags": []
   },
   "outputs": [],
   "source": [
    "male_df=temp_df[temp_df['Sex']=='M']\n",
    "male_df"
   ]
  },
  {
   "cell_type": "code",
   "execution_count": null,
   "id": "7efee32e",
   "metadata": {
    "execution": {
     "iopub.status.busy": "2021-10-03T08:02:39.658455Z",
     "iopub.status.idle": "2021-10-03T08:02:39.658775Z",
     "shell.execute_reply": "2021-10-03T08:02:39.658642Z",
     "shell.execute_reply.started": "2021-10-03T08:02:39.658626Z"
    },
    "papermill": {
     "duration": null,
     "end_time": null,
     "exception": null,
     "start_time": null,
     "status": "pending"
    },
    "tags": []
   },
   "outputs": [],
   "source": [
    "female_df=temp_df[temp_df['Sex']=='F']\n",
    "male_df.sample(1)"
   ]
  },
  {
   "cell_type": "code",
   "execution_count": null,
   "id": "fc8fb120",
   "metadata": {
    "execution": {
     "iopub.status.busy": "2021-10-03T08:02:39.659636Z",
     "iopub.status.idle": "2021-10-03T08:02:39.659901Z",
     "shell.execute_reply": "2021-10-03T08:02:39.659778Z",
     "shell.execute_reply.started": "2021-10-03T08:02:39.659764Z"
    },
    "papermill": {
     "duration": null,
     "end_time": null,
     "exception": null,
     "start_time": null,
     "status": "pending"
    },
    "tags": []
   },
   "outputs": [],
   "source": [
    "female_df=female_df.rename(columns={'o':'count'})\n",
    "female_df.sample(1)"
   ]
  },
  {
   "cell_type": "code",
   "execution_count": null,
   "id": "26cafbaa",
   "metadata": {
    "execution": {
     "iopub.status.busy": "2021-10-03T08:02:39.661004Z",
     "iopub.status.idle": "2021-10-03T08:02:39.661295Z",
     "shell.execute_reply": "2021-10-03T08:02:39.661160Z",
     "shell.execute_reply.started": "2021-10-03T08:02:39.661146Z"
    },
    "papermill": {
     "duration": null,
     "end_time": null,
     "exception": null,
     "start_time": null,
     "status": "pending"
    },
    "tags": []
   },
   "outputs": [],
   "source": [
    "female_df.rename(columns={0:'count'},inplace=True)\n",
    "female_df.sample()"
   ]
  },
  {
   "cell_type": "code",
   "execution_count": null,
   "id": "3dbb9466",
   "metadata": {
    "execution": {
     "iopub.status.busy": "2021-10-03T08:02:39.662330Z",
     "iopub.status.idle": "2021-10-03T08:02:39.662604Z",
     "shell.execute_reply": "2021-10-03T08:02:39.662471Z",
     "shell.execute_reply.started": "2021-10-03T08:02:39.662458Z"
    },
    "papermill": {
     "duration": null,
     "end_time": null,
     "exception": null,
     "start_time": null,
     "status": "pending"
    },
    "tags": []
   },
   "outputs": [],
   "source": [
    "female_df.rename(columns={0:'count'},inplace=True)\n",
    "female_df.sample()\n",
    "male_df.rename(columns={0:'count'},inplace=True)\n",
    "male_df.sample()"
   ]
  },
  {
   "cell_type": "code",
   "execution_count": null,
   "id": "e4c832ab",
   "metadata": {
    "execution": {
     "iopub.status.busy": "2021-10-03T08:02:39.663400Z",
     "iopub.status.idle": "2021-10-03T08:02:39.663675Z",
     "shell.execute_reply": "2021-10-03T08:02:39.663543Z",
     "shell.execute_reply.started": "2021-10-03T08:02:39.663530Z"
    },
    "papermill": {
     "duration": null,
     "end_time": null,
     "exception": null,
     "start_time": null,
     "status": "pending"
    },
    "tags": []
   },
   "outputs": [],
   "source": [
    "sns.lineplot(male_df['Year'],male_df['count'])\n",
    "sns.lineplot(female_df['Year'],female_df['count'])"
   ]
  },
  {
   "cell_type": "code",
   "execution_count": null,
   "id": "7d5b8c42",
   "metadata": {
    "papermill": {
     "duration": null,
     "end_time": null,
     "exception": null,
     "start_time": null,
     "status": "pending"
    },
    "tags": []
   },
   "outputs": [],
   "source": []
  },
  {
   "cell_type": "code",
   "execution_count": null,
   "id": "e9620e29",
   "metadata": {
    "execution": {
     "iopub.status.busy": "2021-10-03T08:02:39.664444Z",
     "iopub.status.idle": "2021-10-03T08:02:39.664740Z",
     "shell.execute_reply": "2021-10-03T08:02:39.664611Z",
     "shell.execute_reply.started": "2021-10-03T08:02:39.664596Z"
    },
    "papermill": {
     "duration": null,
     "end_time": null,
     "exception": null,
     "start_time": null,
     "status": "pending"
    },
    "tags": []
   },
   "outputs": [],
   "source": [
    "sns.lineplot(male_df['Year'],male_df['count'])\n",
    "sns.lineplot(female_df['Year'],female_df['count'])"
   ]
  },
  {
   "cell_type": "code",
   "execution_count": null,
   "id": "47f466b9",
   "metadata": {
    "papermill": {
     "duration": null,
     "end_time": null,
     "exception": null,
     "start_time": null,
     "status": "pending"
    },
    "tags": []
   },
   "outputs": [],
   "source": []
  },
  {
   "cell_type": "code",
   "execution_count": null,
   "id": "c98a288b",
   "metadata": {
    "execution": {
     "iopub.status.busy": "2021-10-03T08:02:39.665473Z",
     "iopub.status.idle": "2021-10-03T08:02:39.665767Z",
     "shell.execute_reply": "2021-10-03T08:02:39.665633Z",
     "shell.execute_reply.started": "2021-10-03T08:02:39.665614Z"
    },
    "papermill": {
     "duration": null,
     "end_time": null,
     "exception": null,
     "start_time": null,
     "status": "pending"
    },
    "tags": []
   },
   "outputs": [],
   "source": [
    "import plotly.express as px \n",
    "import pandas as pd \n",
    "import numpy as np \n",
    "\n",
    "# Get some data\n",
    "\n",
    "\n",
    "\n",
    "# Plot \n",
    "fig = px.line(male_df, x='Year', y='count')\n",
    "\n",
    "# Only thing I figured is - I could do this \n",
    "fig.add_scatter(x=female_df['Year'], y=female_df['count']) # Not what is desired - need a line \n",
    "\n",
    "# Show plot \n",
    "fig.show()"
   ]
  },
  {
   "cell_type": "code",
   "execution_count": null,
   "id": "93981f68",
   "metadata": {
    "execution": {
     "iopub.status.busy": "2021-10-03T08:02:39.666652Z",
     "iopub.status.idle": "2021-10-03T08:02:39.666941Z",
     "shell.execute_reply": "2021-10-03T08:02:39.666814Z",
     "shell.execute_reply.started": "2021-10-03T08:02:39.666800Z"
    },
    "papermill": {
     "duration": null,
     "end_time": null,
     "exception": null,
     "start_time": null,
     "status": "pending"
    },
    "tags": []
   },
   "outputs": [],
   "source": [
    "region_df= pd.read_csv('/kaggle/input/120-years-of-olympic-history-athletes-and-results/noc_regions.csv')\n",
    "df = pd.read_csv('/kaggle/input/120-years-of-olympic-history-athletes-and-results/athlete_events.csv')\n",
    "df=df.merge(region_df, how='left',on='NOC')\n",
    "df=df[df['Season']=='Summer']\n",
    "df.drop_duplicates(inplace=True)\n",
    "temp_df=pd.get_dummies(df['Medal'])\n",
    "df=pd.concat([df,temp_df],axis=1)\n",
    "df.drop_duplicates(subset=['Team','NOC','Games','Year','City','Sport','Medal','Event'])"
   ]
  },
  {
   "cell_type": "code",
   "execution_count": null,
   "id": "5c1df4f8",
   "metadata": {
    "execution": {
     "iopub.status.busy": "2021-10-03T08:02:39.667827Z",
     "iopub.status.idle": "2021-10-03T08:02:39.668093Z",
     "shell.execute_reply": "2021-10-03T08:02:39.667969Z",
     "shell.execute_reply.started": "2021-10-03T08:02:39.667956Z"
    },
    "papermill": {
     "duration": null,
     "end_time": null,
     "exception": null,
     "start_time": null,
     "status": "pending"
    },
    "tags": []
   },
   "outputs": [],
   "source": [
    "\n",
    "temp_df=df.drop_duplicates(['Year','Sport','Name'])\n",
    "temp_df=temp_df[['Year','Sex']].value_counts().reset_index().sort_values('Year')\n",
    "male_df=temp_df[temp_df['Sex']=='M']\n",
    "female_df=temp_df[temp_df['Sex']=='F']\n",
    "female_df.rename(columns={0:'count'},inplace=True)\n",
    "\n",
    "male_df.rename(columns={0:'count'},inplace=True)\n",
    "\n",
    "fig = px.line()\n",
    "\n",
    "# Only thing I figured is - I could do this \n",
    "fig.add_scatter(x=female_df['Year'], y=female_df['count'],name=\"Female\") # Not what is desired - need a line \n",
    "fig.add_scatter(x=male_df['Year'], y=male_df['count'],name=\"male\")\n",
    "# Show plot \n",
    "fig.show()"
   ]
  },
  {
   "cell_type": "code",
   "execution_count": null,
   "id": "5e159f5e",
   "metadata": {
    "execution": {
     "iopub.status.busy": "2021-10-03T08:02:39.668858Z",
     "iopub.status.idle": "2021-10-03T08:02:39.669124Z",
     "shell.execute_reply": "2021-10-03T08:02:39.669002Z",
     "shell.execute_reply.started": "2021-10-03T08:02:39.668988Z"
    },
    "papermill": {
     "duration": null,
     "end_time": null,
     "exception": null,
     "start_time": null,
     "status": "pending"
    },
    "tags": []
   },
   "outputs": [],
   "source": [
    "#------------------------ heatmap_____--------------------"
   ]
  },
  {
   "cell_type": "code",
   "execution_count": null,
   "id": "87bcac58",
   "metadata": {
    "execution": {
     "iopub.status.busy": "2021-10-03T08:02:39.669827Z",
     "iopub.status.idle": "2021-10-03T08:02:39.670088Z",
     "shell.execute_reply": "2021-10-03T08:02:39.669964Z",
     "shell.execute_reply.started": "2021-10-03T08:02:39.669951Z"
    },
    "papermill": {
     "duration": null,
     "end_time": null,
     "exception": null,
     "start_time": null,
     "status": "pending"
    },
    "tags": []
   },
   "outputs": [],
   "source": [
    "x=df.drop_duplicates(['Year','Sport','Event'])"
   ]
  },
  {
   "cell_type": "code",
   "execution_count": null,
   "id": "f941e88c",
   "metadata": {
    "execution": {
     "iopub.status.busy": "2021-10-03T08:02:39.670792Z",
     "iopub.status.idle": "2021-10-03T08:02:39.671062Z",
     "shell.execute_reply": "2021-10-03T08:02:39.670939Z",
     "shell.execute_reply.started": "2021-10-03T08:02:39.670926Z"
    },
    "papermill": {
     "duration": null,
     "end_time": null,
     "exception": null,
     "start_time": null,
     "status": "pending"
    },
    "tags": []
   },
   "outputs": [],
   "source": [
    "import seaborn as sns\n",
    "import matplotlib.pyplot as plt\n",
    "plt.figure(figsize=(20,20))\n",
    "sns.heatmap(x.pivot_table(index='Sport',columns='Year',values='Event',aggfunc='count').fillna(0).astype('int'), annot=True)"
   ]
  },
  {
   "cell_type": "markdown",
   "id": "5ea4b404",
   "metadata": {
    "execution": {
     "iopub.execute_input": "2021-10-02T07:08:55.412664Z",
     "iopub.status.busy": "2021-10-02T07:08:55.412374Z",
     "iopub.status.idle": "2021-10-02T07:08:55.416422Z",
     "shell.execute_reply": "2021-10-02T07:08:55.41564Z",
     "shell.execute_reply.started": "2021-10-02T07:08:55.412634Z"
    },
    "papermill": {
     "duration": null,
     "end_time": null,
     "exception": null,
     "start_time": null,
     "status": "pending"
    },
    "tags": []
   },
   "source": [
    "# most successful athletes of all time"
   ]
  },
  {
   "cell_type": "code",
   "execution_count": null,
   "id": "5465b947",
   "metadata": {
    "execution": {
     "iopub.status.busy": "2021-10-03T08:02:39.671791Z",
     "iopub.status.idle": "2021-10-03T08:02:39.672055Z",
     "shell.execute_reply": "2021-10-03T08:02:39.671931Z",
     "shell.execute_reply.started": "2021-10-03T08:02:39.671918Z"
    },
    "papermill": {
     "duration": null,
     "end_time": null,
     "exception": null,
     "start_time": null,
     "status": "pending"
    },
    "tags": []
   },
   "outputs": [],
   "source": [
    "df.sample(1)\n",
    "         "
   ]
  },
  {
   "cell_type": "code",
   "execution_count": null,
   "id": "534064f1",
   "metadata": {
    "execution": {
     "iopub.status.busy": "2021-10-03T08:02:39.673410Z",
     "iopub.status.idle": "2021-10-03T08:02:39.673675Z",
     "shell.execute_reply": "2021-10-03T08:02:39.673552Z",
     "shell.execute_reply.started": "2021-10-03T08:02:39.673539Z"
    },
    "papermill": {
     "duration": null,
     "end_time": null,
     "exception": null,
     "start_time": null,
     "status": "pending"
    },
    "tags": []
   },
   "outputs": [],
   "source": [
    "def most_successful(df, sport):\n",
    "    temp_df=df.dropna(subset=['Medal'])\n",
    "    if sport!='Overall':\n",
    "        temp_df=temp_df[temp_df['Sport']==sport]\n",
    "    x=temp_df['Name'].value_counts().reset_index().head(15).merge(df,left_on='index',right_on='Name', how='left')[['index','Name_x','Sport','region']].drop_duplicates('index')\n",
    "    x.rename(columns={'index':'Name','Name_x':'Medals'},inplace=True)\n",
    "    return x"
   ]
  },
  {
   "cell_type": "code",
   "execution_count": null,
   "id": "f47b08e7",
   "metadata": {
    "papermill": {
     "duration": null,
     "end_time": null,
     "exception": null,
     "start_time": null,
     "status": "pending"
    },
    "tags": []
   },
   "outputs": [],
   "source": []
  },
  {
   "cell_type": "code",
   "execution_count": null,
   "id": "1dc834c7",
   "metadata": {
    "execution": {
     "iopub.status.busy": "2021-10-03T08:02:39.674443Z",
     "iopub.status.idle": "2021-10-03T08:02:39.674714Z",
     "shell.execute_reply": "2021-10-03T08:02:39.674583Z",
     "shell.execute_reply.started": "2021-10-03T08:02:39.674569Z"
    },
    "papermill": {
     "duration": null,
     "end_time": null,
     "exception": null,
     "start_time": null,
     "status": "pending"
    },
    "tags": []
   },
   "outputs": [],
   "source": [
    "most_successful(df,'Hockey')"
   ]
  },
  {
   "cell_type": "code",
   "execution_count": null,
   "id": "6b62c8e0",
   "metadata": {
    "execution": {
     "iopub.status.busy": "2021-10-03T08:02:39.675587Z",
     "iopub.status.idle": "2021-10-03T08:02:39.675869Z",
     "shell.execute_reply": "2021-10-03T08:02:39.675743Z",
     "shell.execute_reply.started": "2021-10-03T08:02:39.675729Z"
    },
    "papermill": {
     "duration": null,
     "end_time": null,
     "exception": null,
     "start_time": null,
     "status": "pending"
    },
    "tags": []
   },
   "outputs": [],
   "source": [
    "tempo=df.dropna(subset=[\"Medal\"])\n",
    "tempo.sample(2)"
   ]
  },
  {
   "cell_type": "code",
   "execution_count": null,
   "id": "dac47dbd",
   "metadata": {
    "execution": {
     "iopub.status.busy": "2021-10-03T08:02:39.676692Z",
     "iopub.status.idle": "2021-10-03T08:02:39.676963Z",
     "shell.execute_reply": "2021-10-03T08:02:39.676838Z",
     "shell.execute_reply.started": "2021-10-03T08:02:39.676825Z"
    },
    "papermill": {
     "duration": null,
     "end_time": null,
     "exception": null,
     "start_time": null,
     "status": "pending"
    },
    "tags": []
   },
   "outputs": [],
   "source": [
    "x=tempo['Name'].value_counts().reset_index().rename(columns={'index':'Name','Name':'Medals'})\n",
    "x.head(2)"
   ]
  },
  {
   "cell_type": "code",
   "execution_count": null,
   "id": "66936637",
   "metadata": {
    "execution": {
     "iopub.status.busy": "2021-10-03T08:02:39.678342Z",
     "iopub.status.idle": "2021-10-03T08:02:39.678615Z",
     "shell.execute_reply": "2021-10-03T08:02:39.678489Z",
     "shell.execute_reply.started": "2021-10-03T08:02:39.678475Z"
    },
    "papermill": {
     "duration": null,
     "end_time": null,
     "exception": null,
     "start_time": null,
     "status": "pending"
    },
    "tags": []
   },
   "outputs": [],
   "source": [
    "x=x.merge(df,left_on='Name', right_on='Name',how='left')[['Name','Medals','Sport','region']]\n"
   ]
  },
  {
   "cell_type": "code",
   "execution_count": null,
   "id": "f516f26e",
   "metadata": {
    "execution": {
     "iopub.status.busy": "2021-10-03T08:02:39.679647Z",
     "iopub.status.idle": "2021-10-03T08:02:39.679936Z",
     "shell.execute_reply": "2021-10-03T08:02:39.679808Z",
     "shell.execute_reply.started": "2021-10-03T08:02:39.679794Z"
    },
    "papermill": {
     "duration": null,
     "end_time": null,
     "exception": null,
     "start_time": null,
     "status": "pending"
    },
    "tags": []
   },
   "outputs": [],
   "source": [
    "x.drop_duplicates(['Name'],inplace=True)\n",
    "x.head()"
   ]
  },
  {
   "cell_type": "markdown",
   "id": "af10fe77",
   "metadata": {
    "papermill": {
     "duration": null,
     "end_time": null,
     "exception": null,
     "start_time": null,
     "status": "pending"
    },
    "tags": []
   },
   "source": [
    "# most successful athletes  of all tme final"
   ]
  },
  {
   "cell_type": "code",
   "execution_count": null,
   "id": "c7fd8975",
   "metadata": {
    "execution": {
     "iopub.status.busy": "2021-10-03T08:02:39.680916Z",
     "iopub.status.idle": "2021-10-03T08:02:39.681183Z",
     "shell.execute_reply": "2021-10-03T08:02:39.681058Z",
     "shell.execute_reply.started": "2021-10-03T08:02:39.681044Z"
    },
    "papermill": {
     "duration": null,
     "end_time": null,
     "exception": null,
     "start_time": null,
     "status": "pending"
    },
    "tags": []
   },
   "outputs": [],
   "source": [
    "region_df= pd.read_csv('/kaggle/input/120-years-of-olympic-history-athletes-and-results/noc_regions.csv')\n",
    "df = pd.read_csv('/kaggle/input/120-years-of-olympic-history-athletes-and-results/athlete_events.csv')\n",
    "df=df.merge(region_df, how='left',on='NOC')\n",
    "df=df[df['Season']=='Summer']\n",
    "df.drop_duplicates(inplace=True)\n",
    "temp_df=pd.get_dummies(df['Medal'])\n",
    "df=pd.concat([df,temp_df],axis=1)\n",
    "df.drop_duplicates(subset=['Team','NOC','Games','Year','City','Sport','Medal','Event'])"
   ]
  },
  {
   "cell_type": "code",
   "execution_count": null,
   "id": "65b56486",
   "metadata": {
    "execution": {
     "iopub.status.busy": "2021-10-03T08:02:39.682033Z",
     "iopub.status.idle": "2021-10-03T08:02:39.682348Z",
     "shell.execute_reply": "2021-10-03T08:02:39.682193Z",
     "shell.execute_reply.started": "2021-10-03T08:02:39.682173Z"
    },
    "papermill": {
     "duration": null,
     "end_time": null,
     "exception": null,
     "start_time": null,
     "status": "pending"
    },
    "tags": []
   },
   "outputs": [],
   "source": [
    "tempo=df.dropna(subset=[\"Medal\"])\n",
    "x=tempo['Name'].value_counts().reset_index().rename(columns={'index':'Name','Name':'Medals'})\n",
    "x=x.merge(df,left_on='Name', right_on='Name',how='left')[['Name','Medals','Sport','region']]\n",
    "x.drop_duplicates(['Name'],inplace=True)\n",
    "x.head()"
   ]
  },
  {
   "cell_type": "markdown",
   "id": "d7444d13",
   "metadata": {
    "papermill": {
     "duration": null,
     "end_time": null,
     "exception": null,
     "start_time": null,
     "status": "pending"
    },
    "tags": []
   },
   "source": []
  },
  {
   "cell_type": "code",
   "execution_count": null,
   "id": "2a9bc741",
   "metadata": {
    "papermill": {
     "duration": null,
     "end_time": null,
     "exception": null,
     "start_time": null,
     "status": "pending"
    },
    "tags": []
   },
   "outputs": [],
   "source": []
  },
  {
   "cell_type": "markdown",
   "id": "6baa7620",
   "metadata": {
    "papermill": {
     "duration": null,
     "end_time": null,
     "exception": null,
     "start_time": null,
     "status": "pending"
    },
    "tags": []
   },
   "source": [
    "# country wise medal tally per year -line plot"
   ]
  },
  {
   "cell_type": "code",
   "execution_count": null,
   "id": "9ad9faeb",
   "metadata": {
    "execution": {
     "iopub.status.busy": "2021-10-03T08:02:39.683335Z",
     "iopub.status.idle": "2021-10-03T08:02:39.683605Z",
     "shell.execute_reply": "2021-10-03T08:02:39.683480Z",
     "shell.execute_reply.started": "2021-10-03T08:02:39.683466Z"
    },
    "papermill": {
     "duration": null,
     "end_time": null,
     "exception": null,
     "start_time": null,
     "status": "pending"
    },
    "tags": []
   },
   "outputs": [],
   "source": [
    "df"
   ]
  },
  {
   "cell_type": "code",
   "execution_count": null,
   "id": "ac4d30e4",
   "metadata": {
    "execution": {
     "iopub.status.busy": "2021-10-03T08:02:39.684618Z",
     "iopub.status.idle": "2021-10-03T08:02:39.684920Z",
     "shell.execute_reply": "2021-10-03T08:02:39.684781Z",
     "shell.execute_reply.started": "2021-10-03T08:02:39.684761Z"
    },
    "papermill": {
     "duration": null,
     "end_time": null,
     "exception": null,
     "start_time": null,
     "status": "pending"
    },
    "tags": []
   },
   "outputs": [],
   "source": [
    "#.value_counts().reset_index()[['Year','Medal']]\n",
    "#x=x.sort_values('Year',ascending=False).groupby('Year').count()"
   ]
  },
  {
   "cell_type": "code",
   "execution_count": null,
   "id": "f0e761be",
   "metadata": {
    "execution": {
     "iopub.status.busy": "2021-10-03T08:02:39.686072Z",
     "iopub.status.idle": "2021-10-03T08:02:39.686396Z",
     "shell.execute_reply": "2021-10-03T08:02:39.686244Z",
     "shell.execute_reply.started": "2021-10-03T08:02:39.686215Z"
    },
    "papermill": {
     "duration": null,
     "end_time": null,
     "exception": null,
     "start_time": null,
     "status": "pending"
    },
    "tags": []
   },
   "outputs": [],
   "source": [
    "temp_df= df[df['region']=='USA']\n",
    "temp_df= temp_df.dropna(subset=['Medal'])\n",
    "temp_df= temp_df.drop_duplicates(['Year','Event','Medal'])\n",
    "temp_df= temp_df[['Year','Medal']]\n",
    "groups= temp_df.groupby(['Year'])\n",
    "final_df= groups.count().reset_index().sort_values('Year')\n",
    "final_df"
   ]
  },
  {
   "cell_type": "code",
   "execution_count": null,
   "id": "84e244da",
   "metadata": {
    "execution": {
     "iopub.status.busy": "2021-10-03T08:02:39.687295Z",
     "iopub.status.idle": "2021-10-03T08:02:39.687624Z",
     "shell.execute_reply": "2021-10-03T08:02:39.687482Z",
     "shell.execute_reply.started": "2021-10-03T08:02:39.687461Z"
    },
    "papermill": {
     "duration": null,
     "end_time": null,
     "exception": null,
     "start_time": null,
     "status": "pending"
    },
    "tags": []
   },
   "outputs": [],
   "source": [
    "temp_df=df.dropna(subset=['Medal'])\n",
    "temp_df.drop_duplicates(['Year','Event','Medal','region'],inplace=True)\n",
    "new_df=temp_df[temp_df['region']=='USA']\n",
    "final_df=new_df.groupby(['Year']).count()['Medal'].reset_index()\n",
    "final_df.tail()"
   ]
  },
  {
   "cell_type": "code",
   "execution_count": null,
   "id": "02b8c8a2",
   "metadata": {
    "papermill": {
     "duration": null,
     "end_time": null,
     "exception": null,
     "start_time": null,
     "status": "pending"
    },
    "tags": []
   },
   "outputs": [],
   "source": []
  },
  {
   "cell_type": "markdown",
   "id": "5edaf958",
   "metadata": {
    "papermill": {
     "duration": null,
     "end_time": null,
     "exception": null,
     "start_time": null,
     "status": "pending"
    },
    "tags": []
   },
   "source": [
    "# plotting heatmap"
   ]
  },
  {
   "cell_type": "code",
   "execution_count": null,
   "id": "87677bce",
   "metadata": {
    "execution": {
     "iopub.status.busy": "2021-10-03T08:02:39.688619Z",
     "iopub.status.idle": "2021-10-03T08:02:39.688915Z",
     "shell.execute_reply": "2021-10-03T08:02:39.688775Z",
     "shell.execute_reply.started": "2021-10-03T08:02:39.688756Z"
    },
    "papermill": {
     "duration": null,
     "end_time": null,
     "exception": null,
     "start_time": null,
     "status": "pending"
    },
    "tags": []
   },
   "outputs": [],
   "source": [
    "import seaborn as sns\n",
    "import matplotlib.pyplot as plt"
   ]
  },
  {
   "cell_type": "code",
   "execution_count": null,
   "id": "32a3a458",
   "metadata": {
    "execution": {
     "iopub.status.busy": "2021-10-03T08:02:39.689845Z",
     "iopub.status.idle": "2021-10-03T08:02:39.690149Z",
     "shell.execute_reply": "2021-10-03T08:02:39.690010Z",
     "shell.execute_reply.started": "2021-10-03T08:02:39.689990Z"
    },
    "papermill": {
     "duration": null,
     "end_time": null,
     "exception": null,
     "start_time": null,
     "status": "pending"
    },
    "tags": []
   },
   "outputs": [],
   "source": [
    "new_df = temp_df[temp_df['region']=='China']\n",
    "plt.figure(figsize=(20,20))\n",
    "sns.heatmap(new_df.pivot_table(index='Sport',columns='Year',values='Medal',aggfunc='count').fillna(0),annot=True)"
   ]
  },
  {
   "cell_type": "code",
   "execution_count": null,
   "id": "94a7984b",
   "metadata": {
    "execution": {
     "iopub.execute_input": "2021-10-03T08:07:08.319691Z",
     "iopub.status.busy": "2021-10-03T08:07:08.319423Z",
     "iopub.status.idle": "2021-10-03T08:07:08.324927Z",
     "shell.execute_reply": "2021-10-03T08:07:08.324116Z",
     "shell.execute_reply.started": "2021-10-03T08:07:08.319664Z"
    },
    "papermill": {
     "duration": null,
     "end_time": null,
     "exception": null,
     "start_time": null,
     "status": "pending"
    },
    "tags": []
   },
   "outputs": [],
   "source": [
    "df.shape"
   ]
  },
  {
   "cell_type": "markdown",
   "id": "6bda617f",
   "metadata": {
    "papermill": {
     "duration": null,
     "end_time": null,
     "exception": null,
     "start_time": null,
     "status": "pending"
    },
    "tags": []
   },
   "source": [
    "# most successful athletes(top 10) of a given country "
   ]
  },
  {
   "cell_type": "code",
   "execution_count": null,
   "id": "7cc2c34a",
   "metadata": {
    "execution": {
     "iopub.execute_input": "2021-10-03T08:07:35.964537Z",
     "iopub.status.busy": "2021-10-03T08:07:35.964229Z",
     "iopub.status.idle": "2021-10-03T08:07:36.017759Z",
     "shell.execute_reply": "2021-10-03T08:07:36.016984Z",
     "shell.execute_reply.started": "2021-10-03T08:07:35.964504Z"
    },
    "papermill": {
     "duration": null,
     "end_time": null,
     "exception": null,
     "start_time": null,
     "status": "pending"
    },
    "tags": []
   },
   "outputs": [],
   "source": [
    "temp_df= df[df['region']=='USA']\n",
    "temp_df= temp_df.dropna(subset=['Medal'])\n",
    "groups=temp_df.groupby('Name')\n",
    "groups.count()"
   ]
  },
  {
   "cell_type": "code",
   "execution_count": null,
   "id": "e6486ba1",
   "metadata": {
    "execution": {
     "iopub.execute_input": "2021-10-03T08:07:58.719125Z",
     "iopub.status.busy": "2021-10-03T08:07:58.718884Z",
     "iopub.status.idle": "2021-10-03T08:07:58.736542Z",
     "shell.execute_reply": "2021-10-03T08:07:58.735735Z",
     "shell.execute_reply.started": "2021-10-03T08:07:58.719100Z"
    },
    "papermill": {
     "duration": null,
     "end_time": null,
     "exception": null,
     "start_time": null,
     "status": "pending"
    },
    "tags": []
   },
   "outputs": [],
   "source": [
    "groups.count()['Medal'].reset_index().sort_values('Medal',ascending=False).head(10)"
   ]
  },
  {
   "cell_type": "code",
   "execution_count": null,
   "id": "bb05df0c",
   "metadata": {
    "papermill": {
     "duration": null,
     "end_time": null,
     "exception": null,
     "start_time": null,
     "status": "pending"
    },
    "tags": []
   },
   "outputs": [],
   "source": []
  },
  {
   "cell_type": "code",
   "execution_count": null,
   "id": "7a9fafc9",
   "metadata": {
    "papermill": {
     "duration": null,
     "end_time": null,
     "exception": null,
     "start_time": null,
     "status": "pending"
    },
    "tags": []
   },
   "outputs": [],
   "source": [
    "\n",
    "temp_df= df[df['region']=='USA']\n",
    "temp_df= temp_df.dropna(subset=['Medal'])\n",
    "groups=temp_df.groupby('Name')\n",
    "groups.count()\n",
    "groups.count()['Medal'].reset_index().sort_values('Medal',ascending=False).head(10)"
   ]
  },
  {
   "cell_type": "code",
   "execution_count": null,
   "id": "2dca1f5d",
   "metadata": {
    "execution": {
     "iopub.execute_input": "2021-10-03T08:16:42.124232Z",
     "iopub.status.busy": "2021-10-03T08:16:42.123844Z",
     "iopub.status.idle": "2021-10-03T08:16:42.128782Z",
     "shell.execute_reply": "2021-10-03T08:16:42.128031Z",
     "shell.execute_reply.started": "2021-10-03T08:16:42.124197Z"
    },
    "papermill": {
     "duration": null,
     "end_time": null,
     "exception": null,
     "start_time": null,
     "status": "pending"
    },
    "tags": []
   },
   "outputs": [],
   "source": [
    "def top_athletes_of_country(country):\n",
    "    \n",
    "    temp_df= df[df['region']=='USA']\n",
    "    temp_df= temp_df.dropna(subset=['Medal'])\n",
    "    temp_df=temp_df.groupby('Name').count()['Medal'].reset_index().sort_values('Medal',ascending=False).head(10)\n",
    "    return temp_df"
   ]
  },
  {
   "cell_type": "code",
   "execution_count": null,
   "id": "ef13f388",
   "metadata": {
    "execution": {
     "iopub.execute_input": "2021-10-03T08:16:44.359216Z",
     "iopub.status.busy": "2021-10-03T08:16:44.358476Z",
     "iopub.status.idle": "2021-10-03T08:16:44.401043Z",
     "shell.execute_reply": "2021-10-03T08:16:44.400521Z",
     "shell.execute_reply.started": "2021-10-03T08:16:44.359184Z"
    },
    "papermill": {
     "duration": null,
     "end_time": null,
     "exception": null,
     "start_time": null,
     "status": "pending"
    },
    "tags": []
   },
   "outputs": [],
   "source": [
    "top_athletes_of_country('USA')"
   ]
  },
  {
   "cell_type": "code",
   "execution_count": null,
   "id": "7060510f",
   "metadata": {
    "papermill": {
     "duration": null,
     "end_time": null,
     "exception": null,
     "start_time": null,
     "status": "pending"
    },
    "tags": []
   },
   "outputs": [],
   "source": []
  },
  {
   "cell_type": "code",
   "execution_count": null,
   "id": "6b6ebe50",
   "metadata": {
    "papermill": {
     "duration": null,
     "end_time": null,
     "exception": null,
     "start_time": null,
     "status": "pending"
    },
    "tags": []
   },
   "outputs": [],
   "source": []
  },
  {
   "cell_type": "code",
   "execution_count": null,
   "id": "3b0f959d",
   "metadata": {
    "papermill": {
     "duration": null,
     "end_time": null,
     "exception": null,
     "start_time": null,
     "status": "pending"
    },
    "tags": []
   },
   "outputs": [],
   "source": []
  },
  {
   "cell_type": "code",
   "execution_count": null,
   "id": "aba564be",
   "metadata": {
    "papermill": {
     "duration": null,
     "end_time": null,
     "exception": null,
     "start_time": null,
     "status": "pending"
    },
    "tags": []
   },
   "outputs": [],
   "source": []
  }
 ],
 "metadata": {
  "kernelspec": {
   "display_name": "Python 3",
   "language": "python",
   "name": "python3"
  },
  "language_info": {
   "codemirror_mode": {
    "name": "ipython",
    "version": 3
   },
   "file_extension": ".py",
   "mimetype": "text/x-python",
   "name": "python",
   "nbconvert_exporter": "python",
   "pygments_lexer": "ipython3",
   "version": "3.7.10"
  },
  "papermill": {
   "default_parameters": {},
   "duration": 31.611974,
   "end_time": "2021-10-03T10:57:23.635094",
   "environment_variables": {},
   "exception": true,
   "input_path": "__notebook__.ipynb",
   "output_path": "__notebook__.ipynb",
   "parameters": {},
   "start_time": "2021-10-03T10:56:52.023120",
   "version": "2.3.3"
  }
 },
 "nbformat": 4,
 "nbformat_minor": 5
}
